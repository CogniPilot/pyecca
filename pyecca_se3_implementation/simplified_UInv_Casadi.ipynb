{
 "cells": [
  {
   "cell_type": "code",
   "execution_count": 1,
   "metadata": {},
   "outputs": [],
   "source": [
    "import sympy as sy\n",
    "import numpy as np\n",
    "import casadi as ca\n",
    "import pathlib\n",
    "from SE3Lie import *\n",
    "import numpy as np\n",
    "from sympy import *\n",
    "from pyecca.lie import so3, r3, se3\n",
    "from pyecca.lie.util import DirectProduct\n",
    "from pyecca.lie.so3 import Quat, Dcm, Euler, Mrp\n",
    "from pyecca.lie.r3 import R3\n",
    "from pyecca.lie.se3 import SE3\n",
    "from pyecca.test import test_lie\n",
    "import casadi as ca\n",
    "from SE3Lie import se3, SE3, se3_diff_correction_inv, dot_plot_draw\n",
    "from casadi.tools.graph import graph, dotdraw, dotsave\n",
    "import os\n",
    "import pydot\n",
    "import math\n",
    "from Sympy_To_Casadi import SympyToCasadi\n"
   ]
  },
  {
   "cell_type": "markdown",
   "metadata": {},
   "source": [
    "Sympy for U_inv Matrix for Reference"
   ]
  },
  {
   "cell_type": "code",
   "execution_count": 2,
   "metadata": {},
   "outputs": [
    {
     "data": {
      "text/latex": [
       "$\\displaystyle \\left[\\begin{matrix}0 & - \\theta_{3} & \\theta_{2} & 0 & - z & y\\\\\\theta_{3} & 0 & - \\theta_{1} & z & 0 & - x\\\\- \\theta_{2} & \\theta_{1} & 0 & - y & x & 0\\\\0 & 0 & 0 & 0 & - \\theta_{3} & \\theta_{2}\\\\0 & 0 & 0 & \\theta_{3} & 0 & - \\theta_{1}\\\\0 & 0 & 0 & - \\theta_{2} & \\theta_{1} & 0\\end{matrix}\\right]$"
      ],
      "text/plain": [
       "Matrix([\n",
       "[       0, -theta_3,  theta_2,        0,       -z,        y],\n",
       "[ theta_3,        0, -theta_1,        z,        0,       -x],\n",
       "[-theta_2,  theta_1,        0,       -y,        x,        0],\n",
       "[       0,        0,        0,        0, -theta_3,  theta_2],\n",
       "[       0,        0,        0,  theta_3,        0, -theta_1],\n",
       "[       0,        0,        0, -theta_2,  theta_1,        0]])"
      ]
     },
     "execution_count": 2,
     "metadata": {},
     "output_type": "execute_result"
    }
   ],
   "source": [
    "x,y,z,theta_1,theta_2,theta_3 = symbols('x,y,z,theta_1,theta_2,theta_3',real=True)\n",
    "theta = symbols('theta', real = True)\n",
    "ad = sy.Matrix( [[0, -theta_3, theta_2, 0, -z, y], [theta_3, 0, -theta_1, z,0, -x], [-theta_2, theta_1,0,-y, x, 0], [0,0,0,0,-theta_3,theta_2],[0,0,0,theta_3,0,-theta_1],[0,0,0,-theta_2,theta_1,0]])\n",
    "I = eye(6)\n",
    "A, B = symbols('A, B')\n",
    "f_A = sy.Function('A_1')\n",
    "f_B = sy.Function('B_1')\n",
    "UInv = (I + A*ad + B*ad**2)\n",
    "UInv = UInv.subs(A, f_A(theta)).subs(B,f_B(theta))\n",
    "UInv #separate into Odd and Even terms\n",
    "ad"
   ]
  },
  {
   "cell_type": "code",
   "execution_count": 3,
   "metadata": {},
   "outputs": [
    {
     "data": {
      "text/latex": [
       "$\\displaystyle \\left[\\begin{matrix}\\left(- \\theta_{2}^{2} - \\theta_{3}^{2}\\right) B_{1}{\\left(\\theta \\right)} + 1 & \\theta_{1} \\theta_{2} B_{1}{\\left(\\theta \\right)} - \\theta_{3} A_{1}{\\left(\\theta \\right)} & \\theta_{1} \\theta_{3} B_{1}{\\left(\\theta \\right)} + \\theta_{2} A_{1}{\\left(\\theta \\right)} & \\left(- 2 \\theta_{2} y - 2 \\theta_{3} z\\right) B_{1}{\\left(\\theta \\right)} & - z A_{1}{\\left(\\theta \\right)} + \\left(\\theta_{1} y + \\theta_{2} x\\right) B_{1}{\\left(\\theta \\right)} & y A_{1}{\\left(\\theta \\right)} + \\left(\\theta_{1} z + \\theta_{3} x\\right) B_{1}{\\left(\\theta \\right)}\\\\\\theta_{1} \\theta_{2} B_{1}{\\left(\\theta \\right)} + \\theta_{3} A_{1}{\\left(\\theta \\right)} & \\left(- \\theta_{1}^{2} - \\theta_{3}^{2}\\right) B_{1}{\\left(\\theta \\right)} + 1 & - \\theta_{1} A_{1}{\\left(\\theta \\right)} + \\theta_{2} \\theta_{3} B_{1}{\\left(\\theta \\right)} & z A_{1}{\\left(\\theta \\right)} + \\left(\\theta_{1} y + \\theta_{2} x\\right) B_{1}{\\left(\\theta \\right)} & \\left(- 2 \\theta_{1} x - 2 \\theta_{3} z\\right) B_{1}{\\left(\\theta \\right)} & - x A_{1}{\\left(\\theta \\right)} + \\left(\\theta_{2} z + \\theta_{3} y\\right) B_{1}{\\left(\\theta \\right)}\\\\\\theta_{1} \\theta_{3} B_{1}{\\left(\\theta \\right)} - \\theta_{2} A_{1}{\\left(\\theta \\right)} & \\theta_{1} A_{1}{\\left(\\theta \\right)} + \\theta_{2} \\theta_{3} B_{1}{\\left(\\theta \\right)} & \\left(- \\theta_{1}^{2} - \\theta_{2}^{2}\\right) B_{1}{\\left(\\theta \\right)} + 1 & - y A_{1}{\\left(\\theta \\right)} + \\left(\\theta_{1} z + \\theta_{3} x\\right) B_{1}{\\left(\\theta \\right)} & x A_{1}{\\left(\\theta \\right)} + \\left(\\theta_{2} z + \\theta_{3} y\\right) B_{1}{\\left(\\theta \\right)} & \\left(- 2 \\theta_{1} x - 2 \\theta_{2} y\\right) B_{1}{\\left(\\theta \\right)}\\\\0 & 0 & 0 & \\left(- \\theta_{2}^{2} - \\theta_{3}^{2}\\right) B_{1}{\\left(\\theta \\right)} + 1 & \\theta_{1} \\theta_{2} B_{1}{\\left(\\theta \\right)} - \\theta_{3} A_{1}{\\left(\\theta \\right)} & \\theta_{1} \\theta_{3} B_{1}{\\left(\\theta \\right)} + \\theta_{2} A_{1}{\\left(\\theta \\right)}\\\\0 & 0 & 0 & \\theta_{1} \\theta_{2} B_{1}{\\left(\\theta \\right)} + \\theta_{3} A_{1}{\\left(\\theta \\right)} & \\left(- \\theta_{1}^{2} - \\theta_{3}^{2}\\right) B_{1}{\\left(\\theta \\right)} + 1 & - \\theta_{1} A_{1}{\\left(\\theta \\right)} + \\theta_{2} \\theta_{3} B_{1}{\\left(\\theta \\right)}\\\\0 & 0 & 0 & \\theta_{1} \\theta_{3} B_{1}{\\left(\\theta \\right)} - \\theta_{2} A_{1}{\\left(\\theta \\right)} & \\theta_{1} A_{1}{\\left(\\theta \\right)} + \\theta_{2} \\theta_{3} B_{1}{\\left(\\theta \\right)} & \\left(- \\theta_{1}^{2} - \\theta_{2}^{2}\\right) B_{1}{\\left(\\theta \\right)} + 1\\end{matrix}\\right]$"
      ],
      "text/plain": [
       "Matrix([\n",
       "[      (-theta_2**2 - theta_3**2)*B_1(theta) + 1, theta_1*theta_2*B_1(theta) - theta_3*A_1(theta),  theta_1*theta_3*B_1(theta) + theta_2*A_1(theta),            (-2*theta_2*y - 2*theta_3*z)*B_1(theta), -z*A_1(theta) + (theta_1*y + theta_2*x)*B_1(theta),  y*A_1(theta) + (theta_1*z + theta_3*x)*B_1(theta)],\n",
       "[theta_1*theta_2*B_1(theta) + theta_3*A_1(theta),       (-theta_1**2 - theta_3**2)*B_1(theta) + 1, -theta_1*A_1(theta) + theta_2*theta_3*B_1(theta),  z*A_1(theta) + (theta_1*y + theta_2*x)*B_1(theta),            (-2*theta_1*x - 2*theta_3*z)*B_1(theta), -x*A_1(theta) + (theta_2*z + theta_3*y)*B_1(theta)],\n",
       "[theta_1*theta_3*B_1(theta) - theta_2*A_1(theta), theta_1*A_1(theta) + theta_2*theta_3*B_1(theta),        (-theta_1**2 - theta_2**2)*B_1(theta) + 1, -y*A_1(theta) + (theta_1*z + theta_3*x)*B_1(theta),  x*A_1(theta) + (theta_2*z + theta_3*y)*B_1(theta),            (-2*theta_1*x - 2*theta_2*y)*B_1(theta)],\n",
       "[                                              0,                                               0,                                                0,          (-theta_2**2 - theta_3**2)*B_1(theta) + 1,    theta_1*theta_2*B_1(theta) - theta_3*A_1(theta),    theta_1*theta_3*B_1(theta) + theta_2*A_1(theta)],\n",
       "[                                              0,                                               0,                                                0,    theta_1*theta_2*B_1(theta) + theta_3*A_1(theta),          (-theta_1**2 - theta_3**2)*B_1(theta) + 1,   -theta_1*A_1(theta) + theta_2*theta_3*B_1(theta)],\n",
       "[                                              0,                                               0,                                                0,    theta_1*theta_3*B_1(theta) - theta_2*A_1(theta),    theta_1*A_1(theta) + theta_2*theta_3*B_1(theta),          (-theta_1**2 - theta_2**2)*B_1(theta) + 1]])"
      ]
     },
     "execution_count": 3,
     "metadata": {},
     "output_type": "execute_result"
    }
   ],
   "source": [
    "UInv"
   ]
  },
  {
   "cell_type": "code",
   "execution_count": 4,
   "metadata": {},
   "outputs": [
    {
     "data": {
      "text/plain": [
       "sympy.core.function.UndefinedFunction"
      ]
     },
     "execution_count": 4,
     "metadata": {},
     "output_type": "execute_result"
    }
   ],
   "source": [
    "type(f_B)"
   ]
  },
  {
   "cell_type": "code",
   "execution_count": 5,
   "metadata": {},
   "outputs": [
    {
     "data": {
      "text/plain": [
       "{'A_1': Function(theta:(i0)->(o0) SXFunction),\n",
       " 'B_1': Function(theta:(i0)->(o0) SXFunction)}"
      ]
     },
     "execution_count": 5,
     "metadata": {},
     "output_type": "execute_result"
    }
   ],
   "source": [
    "f_replacements = {}\n",
    "A = ca.SX.sym('A')\n",
    "f_replacements['A_1'] = ca.Function('theta',[A], [\n",
    "    ca.if_else(type(A) == ca.casadi.SX, (1-ca.cos((A)))/(A**2), \n",
    "    ca.if_else(ca.fabs(A) < 1e-5, 1, (1-ca.cos((A)))/(ca.mpower(A,2)))) #check square and **4 for casadi\n",
    "    ])\n",
    "# f_replacements.append(f_replace)\n",
    "f_replacements['B_1'] = ca.Function('theta',[A], [\n",
    "    ca.if_else(type(A) == ca.casadi.SX, (A-ca.sin(A))/(A**3),\n",
    "    ca.if_else(ca.fabs(A) < 1e-5, 1, (A-ca.sin(A))/(ca.mpower(A,3)))) \n",
    "    ])\n",
    "f_replacements"
   ]
  },
  {
   "cell_type": "code",
   "execution_count": 14,
   "metadata": {},
   "outputs": [
    {
     "data": {
      "text/plain": [
       "A_1"
      ]
     },
     "execution_count": 14,
     "metadata": {},
     "output_type": "execute_result"
    }
   ],
   "source": [
    "type(f_A(theta))"
   ]
  },
  {
   "cell_type": "code",
   "execution_count": 6,
   "metadata": {},
   "outputs": [
    {
     "data": {
      "text/plain": [
       "Function(theta:(i0)->(o0) SXFunction)"
      ]
     },
     "execution_count": 6,
     "metadata": {},
     "output_type": "execute_result"
    }
   ],
   "source": [
    "# dict.keys(f_replacements[0])\n",
    "f_replacements['A_1']"
   ]
  },
  {
   "cell_type": "markdown",
   "metadata": {},
   "source": [
    "U Inv matrix in casadi form and dot draw plot"
   ]
  },
  {
   "cell_type": "markdown",
   "metadata": {},
   "source": [
    "\n",
    "parser = SympyToCasadi()\n",
    "UInv_ca = parser.parse(UInv, cse=True)\n",
    "UInv_ca"
   ]
  },
  {
   "cell_type": "code",
   "execution_count": 8,
   "metadata": {},
   "outputs": [
    {
     "data": {
      "text/plain": [
       "SX(@1=1, @2=((theta-sin(theta))/(theta*sq(theta))), @3=sq(theta_2), @4=sq(theta_3), @5=(@1-(@2*(@3+@4))), @6=((@1-cos(theta))/sq(theta)), @7=(@6*theta_3), @8=(@2*theta_1), @9=(@8*theta_2), @10=(@7+@9), @11=(@8*theta_3), @12=(@6*theta_2), @13=(@11-@12), @14=0, @15=(@9-@7), @16=sq(theta_1), @17=(@1-(@2*(@16+@4))), @18=(@6*theta_1), @19=(@18+((@2*theta_2)*theta_3)), @20=(@11+@12), @21=(((@2*theta_2)*theta_3)-@18), @22=(@1-(@2*(@3+@16))), @23=2, @24=((@23*theta_2)*y), @25=((@23*theta_3)*z), @26=(@6*z), @27=((theta_1*y)+(theta_2*x)), @28=((theta_1*z)+(theta_3*x)), @29=(@6*y), @30=((@23*theta_1)*x), @31=(@6*x), @32=((theta_2*z)+(theta_3*y)), \n",
       "[[@5, @15, @20, (-(@2*(@24+@25))), ((@2*@27)-@26), (@29+(@2*@28))], \n",
       " [@10, @17, @21, (@26+(@2*@27)), (-(@2*(@25+@30))), ((@2*@32)-@31)], \n",
       " [@13, @19, @22, ((@2*@28)-@29), (@31+(@2*@32)), (-(@2*(@24+@30)))], \n",
       " [@14, @14, @14, @5, @15, @20], \n",
       " [@14, @14, @14, @10, @17, @21], \n",
       " [@14, @14, @14, @13, @19, @22]])"
      ]
     },
     "execution_count": 8,
     "metadata": {},
     "output_type": "execute_result"
    }
   ],
   "source": [
    "#Without subterms for theta\n",
    "parser = SympyToCasadi()\n",
    "UInv_ca = parser.parse(UInv, f_replacements, cse=True)\n",
    "UInv_ca"
   ]
  },
  {
   "cell_type": "markdown",
   "metadata": {},
   "source": [
    "dot_plot_draw output as \"result_test_simplified.png\""
   ]
  },
  {
   "cell_type": "code",
   "execution_count": 9,
   "metadata": {},
   "outputs": [],
   "source": [
    "dot_plot_draw(UInv_ca)\n"
   ]
  },
  {
   "cell_type": "code",
   "execution_count": 8,
   "metadata": {},
   "outputs": [],
   "source": [
    "#add input zero to see if there is error\n",
    "#could require another if statement to substitute sinx/x (c1 and c2 terms)"
   ]
  }
 ],
 "metadata": {
  "kernelspec": {
   "display_name": "Python 3.8.10 64-bit",
   "language": "python",
   "name": "python3"
  },
  "language_info": {
   "codemirror_mode": {
    "name": "ipython",
    "version": 3
   },
   "file_extension": ".py",
   "mimetype": "text/x-python",
   "name": "python",
   "nbconvert_exporter": "python",
   "pygments_lexer": "ipython3",
   "version": "3.8.10"
  },
  "orig_nbformat": 4,
  "vscode": {
   "interpreter": {
    "hash": "916dbcbb3f70747c44a77c7bcd40155683ae19c65e1c03b4aa3499c5328201f1"
   }
  }
 },
 "nbformat": 4,
 "nbformat_minor": 2
}
