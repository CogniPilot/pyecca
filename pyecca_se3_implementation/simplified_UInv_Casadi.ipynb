{
 "cells": [
  {
   "cell_type": "code",
   "execution_count": 27,
   "metadata": {},
   "outputs": [],
   "source": [
    "import sympy as sy\n",
    "import numpy as np\n",
    "import casadi as ca\n",
    "import pathlib\n",
    "from SE3Lie import *\n",
    "import numpy as np\n",
    "from sympy import *\n",
    "from pyecca.lie import so3, r3, se3\n",
    "from pyecca.lie.util import DirectProduct\n",
    "from pyecca.lie.so3 import Quat, Dcm, Euler, Mrp\n",
    "from pyecca.lie.r3 import R3\n",
    "from pyecca.lie.se3 import SE3\n",
    "from pyecca.test import test_lie\n",
    "import casadi as ca\n",
    "from SE3Lie import se3, SE3, se3_diff_correction_inv, dot_plot_draw\n",
    "from casadi.tools.graph import graph, dotdraw, dotsave\n",
    "import os\n",
    "import pydot\n",
    "from Sympy_To_Casadi import SympyToCasadi\n"
   ]
  },
  {
   "cell_type": "markdown",
   "metadata": {},
   "source": [
    "Sympy for U_inv Matrix for Reference"
   ]
  },
  {
   "cell_type": "code",
   "execution_count": 28,
   "metadata": {},
   "outputs": [
    {
     "data": {
      "text/latex": [
       "$\\displaystyle \\left[\\begin{matrix}0 & - \\theta_{3} & \\theta_{2} & 0 & - z & y\\\\\\theta_{3} & 0 & - \\theta_{1} & z & 0 & - x\\\\- \\theta_{2} & \\theta_{1} & 0 & - y & x & 0\\\\0 & 0 & 0 & 0 & - \\theta_{3} & \\theta_{2}\\\\0 & 0 & 0 & \\theta_{3} & 0 & - \\theta_{1}\\\\0 & 0 & 0 & - \\theta_{2} & \\theta_{1} & 0\\end{matrix}\\right]$"
      ],
      "text/plain": [
       "Matrix([\n",
       "[       0, -theta_3,  theta_2,        0,       -z,        y],\n",
       "[ theta_3,        0, -theta_1,        z,        0,       -x],\n",
       "[-theta_2,  theta_1,        0,       -y,        x,        0],\n",
       "[       0,        0,        0,        0, -theta_3,  theta_2],\n",
       "[       0,        0,        0,  theta_3,        0, -theta_1],\n",
       "[       0,        0,        0, -theta_2,  theta_1,        0]])"
      ]
     },
     "execution_count": 28,
     "metadata": {},
     "output_type": "execute_result"
    }
   ],
   "source": [
    "x,y,z,theta_1,theta_2,theta_3 = symbols('x,y,z,theta_1,theta_2,theta_3',real=True)\n",
    "theta = symbols('theta', real = True)\n",
    "ad = sy.Matrix( [[0, -theta_3, theta_2, 0, -z, y], [theta_3, 0, -theta_1, z,0, -x], [-theta_2, theta_1,0,-y, x, 0], [0,0,0,0,-theta_3,theta_2],[0,0,0,theta_3,0,-theta_1],[0,0,0,-theta_2,theta_1,0]])\n",
    "I = eye(6)\n",
    "A, B = symbols('A, B', real=True)\n",
    "UInv = (I + A*ad + B*ad**2) #separate into Odd and Even terms\n",
    "ad"
   ]
  },
  {
   "cell_type": "code",
   "execution_count": 35,
   "metadata": {},
   "outputs": [
    {
     "data": {
      "text/latex": [
       "$\\displaystyle \\left[\\begin{matrix}\\frac{\\theta^{3} + \\left(\\theta - \\sin{\\left(\\theta \\right)}\\right) \\left(- \\theta^{2} + \\theta_{1}^{2}\\right)}{\\theta^{3}} & \\frac{\\theta \\theta_{3} \\left(\\cos{\\left(\\theta \\right)} - 1\\right) + \\theta_{1} \\theta_{2} \\left(\\theta - \\sin{\\left(\\theta \\right)}\\right)}{\\theta^{3}} & \\frac{- \\theta \\theta_{2} \\left(\\cos{\\left(\\theta \\right)} - 1\\right) + \\theta_{1} \\theta_{3} \\left(\\theta - \\sin{\\left(\\theta \\right)}\\right)}{\\theta^{3}} & - \\frac{2 \\left(\\theta - \\sin{\\left(\\theta \\right)}\\right) \\left(\\theta_{2} y + \\theta_{3} z\\right)}{\\theta^{3}} & \\frac{\\theta z \\left(\\cos{\\left(\\theta \\right)} - 1\\right) + \\left(\\theta - \\sin{\\left(\\theta \\right)}\\right) \\left(\\theta_{1} y + \\theta_{2} x\\right)}{\\theta^{3}} & \\frac{- \\theta y \\left(\\cos{\\left(\\theta \\right)} - 1\\right) + \\left(\\theta - \\sin{\\left(\\theta \\right)}\\right) \\left(\\theta_{1} z + \\theta_{3} x\\right)}{\\theta^{3}}\\\\\\frac{- \\theta \\theta_{3} \\left(\\cos{\\left(\\theta \\right)} - 1\\right) + \\theta_{1} \\theta_{2} \\left(\\theta - \\sin{\\left(\\theta \\right)}\\right)}{\\theta^{3}} & \\frac{\\theta^{3} + \\left(\\theta - \\sin{\\left(\\theta \\right)}\\right) \\left(- \\theta^{2} + \\theta_{2}^{2}\\right)}{\\theta^{3}} & \\frac{\\theta \\theta_{1} \\left(\\cos{\\left(\\theta \\right)} - 1\\right) + \\theta_{2} \\theta_{3} \\left(\\theta - \\sin{\\left(\\theta \\right)}\\right)}{\\theta^{3}} & \\frac{- \\theta z \\left(\\cos{\\left(\\theta \\right)} - 1\\right) + \\left(\\theta - \\sin{\\left(\\theta \\right)}\\right) \\left(\\theta_{1} y + \\theta_{2} x\\right)}{\\theta^{3}} & - \\frac{2 \\left(\\theta - \\sin{\\left(\\theta \\right)}\\right) \\left(\\theta_{1} x + \\theta_{3} z\\right)}{\\theta^{3}} & \\frac{\\theta x \\left(\\cos{\\left(\\theta \\right)} - 1\\right) + \\left(\\theta - \\sin{\\left(\\theta \\right)}\\right) \\left(\\theta_{2} z + \\theta_{3} y\\right)}{\\theta^{3}}\\\\\\frac{\\theta \\theta_{2} \\left(\\cos{\\left(\\theta \\right)} - 1\\right) + \\theta_{1} \\theta_{3} \\left(\\theta - \\sin{\\left(\\theta \\right)}\\right)}{\\theta^{3}} & \\frac{- \\theta \\theta_{1} \\left(\\cos{\\left(\\theta \\right)} - 1\\right) + \\theta_{2} \\theta_{3} \\left(\\theta - \\sin{\\left(\\theta \\right)}\\right)}{\\theta^{3}} & \\frac{\\theta^{3} + \\left(\\theta - \\sin{\\left(\\theta \\right)}\\right) \\left(- \\theta^{2} + \\theta_{3}^{2}\\right)}{\\theta^{3}} & \\frac{\\theta y \\left(\\cos{\\left(\\theta \\right)} - 1\\right) + \\left(\\theta - \\sin{\\left(\\theta \\right)}\\right) \\left(\\theta_{1} z + \\theta_{3} x\\right)}{\\theta^{3}} & \\frac{- \\theta x \\left(\\cos{\\left(\\theta \\right)} - 1\\right) + \\left(\\theta - \\sin{\\left(\\theta \\right)}\\right) \\left(\\theta_{2} z + \\theta_{3} y\\right)}{\\theta^{3}} & - \\frac{2 \\left(\\theta - \\sin{\\left(\\theta \\right)}\\right) \\left(\\theta_{1} x + \\theta_{2} y\\right)}{\\theta^{3}}\\\\0 & 0 & 0 & \\frac{\\theta^{3} + \\left(\\theta - \\sin{\\left(\\theta \\right)}\\right) \\left(- \\theta^{2} + \\theta_{1}^{2}\\right)}{\\theta^{3}} & \\frac{\\theta \\theta_{3} \\left(\\cos{\\left(\\theta \\right)} - 1\\right) + \\theta_{1} \\theta_{2} \\left(\\theta - \\sin{\\left(\\theta \\right)}\\right)}{\\theta^{3}} & \\frac{- \\theta \\theta_{2} \\left(\\cos{\\left(\\theta \\right)} - 1\\right) + \\theta_{1} \\theta_{3} \\left(\\theta - \\sin{\\left(\\theta \\right)}\\right)}{\\theta^{3}}\\\\0 & 0 & 0 & \\frac{- \\theta \\theta_{3} \\left(\\cos{\\left(\\theta \\right)} - 1\\right) + \\theta_{1} \\theta_{2} \\left(\\theta - \\sin{\\left(\\theta \\right)}\\right)}{\\theta^{3}} & \\frac{\\theta^{3} + \\left(\\theta - \\sin{\\left(\\theta \\right)}\\right) \\left(- \\theta^{2} + \\theta_{2}^{2}\\right)}{\\theta^{3}} & \\frac{\\theta \\theta_{1} \\left(\\cos{\\left(\\theta \\right)} - 1\\right) + \\theta_{2} \\theta_{3} \\left(\\theta - \\sin{\\left(\\theta \\right)}\\right)}{\\theta^{3}}\\\\0 & 0 & 0 & \\frac{\\theta \\theta_{2} \\left(\\cos{\\left(\\theta \\right)} - 1\\right) + \\theta_{1} \\theta_{3} \\left(\\theta - \\sin{\\left(\\theta \\right)}\\right)}{\\theta^{3}} & \\frac{- \\theta \\theta_{1} \\left(\\cos{\\left(\\theta \\right)} - 1\\right) + \\theta_{2} \\theta_{3} \\left(\\theta - \\sin{\\left(\\theta \\right)}\\right)}{\\theta^{3}} & \\frac{\\theta^{3} + \\left(\\theta - \\sin{\\left(\\theta \\right)}\\right) \\left(- \\theta^{2} + \\theta_{3}^{2}\\right)}{\\theta^{3}}\\end{matrix}\\right]$"
      ],
      "text/plain": [
       "Matrix([\n",
       "[              (theta**3 + (theta - sin(theta))*(-theta**2 + theta_1**2))/theta**3,  (theta*theta_3*(cos(theta) - 1) + theta_1*theta_2*(theta - sin(theta)))/theta**3, (-theta*theta_2*(cos(theta) - 1) + theta_1*theta_3*(theta - sin(theta)))/theta**3,                            -2*(theta - sin(theta))*(theta_2*y + theta_3*z)/theta**3,  (theta*z*(cos(theta) - 1) + (theta - sin(theta))*(theta_1*y + theta_2*x))/theta**3, (-theta*y*(cos(theta) - 1) + (theta - sin(theta))*(theta_1*z + theta_3*x))/theta**3],\n",
       "[(-theta*theta_3*(cos(theta) - 1) + theta_1*theta_2*(theta - sin(theta)))/theta**3,               (theta**3 + (theta - sin(theta))*(-theta**2 + theta_2**2))/theta**3,  (theta*theta_1*(cos(theta) - 1) + theta_2*theta_3*(theta - sin(theta)))/theta**3, (-theta*z*(cos(theta) - 1) + (theta - sin(theta))*(theta_1*y + theta_2*x))/theta**3,                            -2*(theta - sin(theta))*(theta_1*x + theta_3*z)/theta**3,  (theta*x*(cos(theta) - 1) + (theta - sin(theta))*(theta_2*z + theta_3*y))/theta**3],\n",
       "[ (theta*theta_2*(cos(theta) - 1) + theta_1*theta_3*(theta - sin(theta)))/theta**3, (-theta*theta_1*(cos(theta) - 1) + theta_2*theta_3*(theta - sin(theta)))/theta**3,               (theta**3 + (theta - sin(theta))*(-theta**2 + theta_3**2))/theta**3,  (theta*y*(cos(theta) - 1) + (theta - sin(theta))*(theta_1*z + theta_3*x))/theta**3, (-theta*x*(cos(theta) - 1) + (theta - sin(theta))*(theta_2*z + theta_3*y))/theta**3,                            -2*(theta - sin(theta))*(theta_1*x + theta_2*y)/theta**3],\n",
       "[                                                                                0,                                                                                 0,                                                                                 0,                 (theta**3 + (theta - sin(theta))*(-theta**2 + theta_1**2))/theta**3,    (theta*theta_3*(cos(theta) - 1) + theta_1*theta_2*(theta - sin(theta)))/theta**3,   (-theta*theta_2*(cos(theta) - 1) + theta_1*theta_3*(theta - sin(theta)))/theta**3],\n",
       "[                                                                                0,                                                                                 0,                                                                                 0,   (-theta*theta_3*(cos(theta) - 1) + theta_1*theta_2*(theta - sin(theta)))/theta**3,                 (theta**3 + (theta - sin(theta))*(-theta**2 + theta_2**2))/theta**3,    (theta*theta_1*(cos(theta) - 1) + theta_2*theta_3*(theta - sin(theta)))/theta**3],\n",
       "[                                                                                0,                                                                                 0,                                                                                 0,    (theta*theta_2*(cos(theta) - 1) + theta_1*theta_3*(theta - sin(theta)))/theta**3,   (-theta*theta_1*(cos(theta) - 1) + theta_2*theta_3*(theta - sin(theta)))/theta**3,                 (theta**3 + (theta - sin(theta))*(-theta**2 + theta_3**2))/theta**3]])"
      ]
     },
     "execution_count": 35,
     "metadata": {},
     "output_type": "execute_result"
    }
   ],
   "source": [
    "k = symbols('k',real=True)\n",
    "ASum = summation( ((-1) ** k) *theta**(2*k) / (factorial(2*k+2)),(k,0,oo))\n",
    "Asub = simplify(ASum) #A term\n",
    "BSum = summation( ((-1) ** k) *theta**(2*k) / (factorial(2*k+3)),(k,0,oo))\n",
    "Bsub = simplify(BSum) #B term\n",
    "UInv = UInv.applyfunc(lambda x: x.subs({A:Asub,B:Bsub}).simplify())\n",
    "subTerms = {theta_2**2 + theta_3**2: theta**2 - theta_1**2, theta_1**2 + theta_3**2: theta**2 - theta_2**2, theta_1**2 + theta_2**2: theta**2 - theta_3**2}\n",
    "UInv = UInv.applyfunc(lambda x: x.subs(subTerms).simplify())\n",
    "UInv #U inverse with A and B terms substituted closed form\n",
    "\n"
   ]
  },
  {
   "cell_type": "markdown",
   "metadata": {},
   "source": [
    "U Inv matrix in casadi form and dot draw plot"
   ]
  },
  {
   "cell_type": "markdown",
   "metadata": {},
   "source": [
    "\n",
    "parser = SympyToCasadi()\n",
    "UInv_ca = parser.parse(UInv, cse=True)\n",
    "UInv_ca"
   ]
  },
  {
   "cell_type": "code",
   "execution_count": 36,
   "metadata": {},
   "outputs": [
    {
     "data": {
      "text/plain": [
       "SX(@1=(theta*sq(theta)), @2=(theta-sin(theta)), @3=sq(theta), @4=((@1+(@2*(sq(theta_1)-@3)))/@1), @5=(theta*(-1+cos(theta))), @6=(@5*theta_3), @7=((((@2*theta_1)*theta_2)-@6)/@1), @8=(@5*theta_2), @9=(@2*theta_1), @10=((@8+(@9*theta_3))/@1), @11=0, @12=((@6+(@9*theta_2))/@1), @13=((@1+(@2*(sq(theta_2)-@3)))/@1), @14=(@5*theta_1), @15=((((@2*theta_2)*theta_3)-@14)/@1), @16=((((@2*theta_1)*theta_3)-@8)/@1), @17=((@14+((@2*theta_2)*theta_3))/@1), @18=((@1+(@2*(sq(theta_3)-@3)))/@1), @19=((2/@1)*@2), @20=(theta_2*y), @21=(theta_3*z), @22=((theta_1*y)+(theta_2*x)), @23=(@5*z), @24=(@5*y), @25=((theta_1*z)+(theta_3*x)), @26=(theta_1*x), @27=((theta_2*z)+(theta_3*y)), @28=(@5*x), \n",
       "[[@4, @12, @16, (-(@19*(@20+@21))), ((@23+(@22*@2))/@1), (((@25*@2)-@24)/@1)], \n",
       " [@7, @13, @17, (((@22*@2)-@23)/@1), (-(@19*(@21+@26))), ((@28+(@2*@27))/@1)], \n",
       " [@10, @15, @18, ((@24+(@25*@2))/@1), (((@2*@27)-@28)/@1), (-(@19*(@20+@26)))], \n",
       " [@11, @11, @11, @4, @12, @16], \n",
       " [@11, @11, @11, @7, @13, @17], \n",
       " [@11, @11, @11, @10, @15, @18]])"
      ]
     },
     "execution_count": 36,
     "metadata": {},
     "output_type": "execute_result"
    }
   ],
   "source": [
    "#Without subterms for theta\n",
    "parser = SympyToCasadi()\n",
    "UInv_ca = parser.parse(UInv, cse=True)\n",
    "UInv_ca"
   ]
  },
  {
   "cell_type": "code",
   "execution_count": 39,
   "metadata": {},
   "outputs": [],
   "source": [
    "dot_plot_draw(UInv_ca)"
   ]
  },
  {
   "cell_type": "code",
   "execution_count": null,
   "metadata": {},
   "outputs": [],
   "source": []
  }
 ],
 "metadata": {
  "kernelspec": {
   "display_name": "Python 3.8.10 64-bit",
   "language": "python",
   "name": "python3"
  },
  "language_info": {
   "codemirror_mode": {
    "name": "ipython",
    "version": 3
   },
   "file_extension": ".py",
   "mimetype": "text/x-python",
   "name": "python",
   "nbconvert_exporter": "python",
   "pygments_lexer": "ipython3",
   "version": "3.8.10"
  },
  "orig_nbformat": 4,
  "vscode": {
   "interpreter": {
    "hash": "916dbcbb3f70747c44a77c7bcd40155683ae19c65e1c03b4aa3499c5328201f1"
   }
  }
 },
 "nbformat": 4,
 "nbformat_minor": 2
}
