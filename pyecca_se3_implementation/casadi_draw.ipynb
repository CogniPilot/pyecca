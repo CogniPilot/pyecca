{
 "cells": [
  {
   "cell_type": "code",
   "execution_count": 1,
   "metadata": {},
   "outputs": [],
   "source": [
    "from SE3Lie import *\n",
    "import numpy as np\n",
    "from sympy import *\n",
    "from pyecca.lie import so3, r3, se3\n",
    "from pyecca.lie.util import DirectProduct\n",
    "from pyecca.lie.so3 import Quat, Dcm, Euler, Mrp\n",
    "from pyecca.lie.r3 import R3\n",
    "from pyecca.lie.se3 import SE3\n",
    "from pyecca.test import test_lie\n",
    "import casadi as ca\n",
    "from SE3Lie import se3, SE3, se3_diff_correction_inv\n",
    "from casadi.tools.graph import graph\n",
    "import os"
   ]
  },
  {
   "cell_type": "code",
   "execution_count": 2,
   "metadata": {},
   "outputs": [],
   "source": [
    "r = ca.DM([0.1, 0.2, 0.3])\n",
    "v = ca.DM([0.1, 0.2, 0.3])\n",
    "R = Dcm.from_euler(ca.DM([0.1, 0.2, 0.3]))\n",
    "inp = ca.horzcat(np.transpose(r),np.transpose(v))\n",
    "veeSe3 = np.transpose(inp)\n",
    "uInv = se3_diff_correction_inv(veeSe3)"
   ]
  },
  {
   "cell_type": "code",
   "execution_count": 3,
   "metadata": {},
   "outputs": [
    {
     "data": {
      "text/plain": [
       "<pydot.Dot at 0x1a8a5cba9b0>"
      ]
     },
     "execution_count": 3,
     "metadata": {},
     "output_type": "execute_result"
    }
   ],
   "source": [
    "graph.dotgraph(2 +3)"
   ]
  },
  {
   "cell_type": "code",
   "execution_count": 11,
   "metadata": {},
   "outputs": [
    {
     "ename": "SyntaxError",
     "evalue": "(unicode error) 'unicodeescape' codec can't decode bytes in position 0-1: truncated \\UXXXXXXXX escape (2752535786.py, line 1)",
     "output_type": "error",
     "traceback": [
      "\u001b[1;36m  Cell \u001b[1;32mIn [11], line 1\u001b[1;36m\u001b[0m\n\u001b[1;33m    output_dir = '\\Users\\woraw\\OneDrive\\Desktop'\u001b[0m\n\u001b[1;37m                                                ^\u001b[0m\n\u001b[1;31mSyntaxError\u001b[0m\u001b[1;31m:\u001b[0m (unicode error) 'unicodeescape' codec can't decode bytes in position 0-1: truncated \\UXXXXXXXX escape\n"
     ]
    }
   ],
   "source": [
    "output_dir = '\\Users\\woraw\\OneDrive\\Purdue University\\Research\\NASAULI Paper\\pyecca\\pyecca_se3_implementation'\n",
    "    os.makedirs(output_dir, exist_ok=True)\n",
    "    g = graph.dotgraph(uInv)\n",
    "    g.set('dpi', 180)\n",
    "    #g.write_png('casadi_graph_uInv.png')\n",
    "    g.write_png(os.path.join(output_dir, 'casadi_graph_uInv.png'))"
   ]
  },
  {
   "cell_type": "code",
   "execution_count": null,
   "metadata": {},
   "outputs": [],
   "source": []
  }
 ],
 "metadata": {
  "kernelspec": {
   "display_name": "Python 3.10.4 64-bit",
   "language": "python",
   "name": "python3"
  },
  "language_info": {
   "codemirror_mode": {
    "name": "ipython",
    "version": 3
   },
   "file_extension": ".py",
   "mimetype": "text/x-python",
   "name": "python",
   "nbconvert_exporter": "python",
   "pygments_lexer": "ipython3",
   "version": "3.10.4"
  },
  "orig_nbformat": 4,
  "vscode": {
   "interpreter": {
    "hash": "12ef79ecf1251bbfcab6feab51420896c2673cbe10d08a787ce9e55b8b42ad5a"
   }
  }
 },
 "nbformat": 4,
 "nbformat_minor": 2
}
