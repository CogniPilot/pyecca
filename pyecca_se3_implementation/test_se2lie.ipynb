{
 "cells": [
  {
   "cell_type": "code",
   "execution_count": 1,
   "metadata": {},
   "outputs": [],
   "source": [
    "import sympy as sy\n",
    "import numpy as np\n",
    "import casadi as ca\n",
    "import pathlib\n",
    "from SE2Lie import *\n",
    "import numpy as np\n",
    "from sympy import *\n",
    "from pyecca.lie.util import DirectProduct\n",
    "from pyecca.test import test_lie\n",
    "import casadi as ca\n",
    "from casadi.tools.graph import graph, dotdraw, dotsave\n",
    "import pydot\n",
    "from Sympy_To_Casadi import SympyToCasadi\n",
    "from matplotlib import pyplot as plt\n"
   ]
  },
  {
   "cell_type": "code",
   "execution_count": 6,
   "metadata": {},
   "outputs": [],
   "source": [
    "x = ca.SX.sym('x')\n",
    "y = ca.SX.sym('y')\n",
    "theta = ca.SX.sym('theta')\n",
    "veeSym = [x,y,theta]\n"
   ]
  },
  {
   "cell_type": "code",
   "execution_count": 7,
   "metadata": {},
   "outputs": [
    {
     "data": {
      "text/plain": [
       "[SX(x), SX(y), SX(theta)]"
      ]
     },
     "execution_count": 7,
     "metadata": {},
     "output_type": "execute_result"
    }
   ],
   "source": [
    "veeSym"
   ]
  },
  {
   "cell_type": "code",
   "execution_count": 8,
   "metadata": {},
   "outputs": [
    {
     "data": {
      "text/plain": [
       "SX(@1=1, @2=(@1-(cos(theta)/theta)), @3=sin(theta), @4=(@3/theta), \n",
       "[[(@1-(@2*sq(theta))), (-@3), ((@4*y)+(@2*(theta*x)))], \n",
       " [@3, (@1-(@2*sq(theta))), ((@2*(theta*y))-(@4*x))], \n",
       " [00, 00, @1]])"
      ]
     },
     "execution_count": 8,
     "metadata": {},
     "output_type": "execute_result"
    }
   ],
   "source": [
    "ca_uinv_se2=se2_diff_correction_inv(veeSym)\n",
    "ca_uinv_se2"
   ]
  },
  {
   "cell_type": "code",
   "execution_count": 9,
   "metadata": {},
   "outputs": [],
   "source": [
    "fromSE2_dot_plot_draw(ca_uinv_se2)"
   ]
  },
  {
   "cell_type": "code",
   "execution_count": null,
   "metadata": {},
   "outputs": [],
   "source": []
  }
 ],
 "metadata": {
  "kernelspec": {
   "display_name": "Python 3.8.10 64-bit",
   "language": "python",
   "name": "python3"
  },
  "language_info": {
   "codemirror_mode": {
    "name": "ipython",
    "version": 3
   },
   "file_extension": ".py",
   "mimetype": "text/x-python",
   "name": "python",
   "nbconvert_exporter": "python",
   "pygments_lexer": "ipython3",
   "version": "3.8.10"
  },
  "orig_nbformat": 4,
  "vscode": {
   "interpreter": {
    "hash": "916dbcbb3f70747c44a77c7bcd40155683ae19c65e1c03b4aa3499c5328201f1"
   }
  }
 },
 "nbformat": 4,
 "nbformat_minor": 2
}
