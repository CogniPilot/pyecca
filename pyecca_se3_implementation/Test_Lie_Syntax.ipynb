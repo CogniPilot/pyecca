{
 "cells": [
  {
   "cell_type": "code",
   "execution_count": 1,
   "metadata": {},
   "outputs": [],
   "source": [
    "from SE3Lie import *\n",
    "import numpy as np\n",
    "from sympy import *\n",
    "from pyecca.lie import so3, r3, se3\n",
    "from pyecca.lie.util import DirectProduct\n",
    "from pyecca.lie.so3 import Quat, Dcm, Euler, Mrp\n",
    "from pyecca.lie.r3 import R3\n",
    "from pyecca.lie.se3 import SE3\n",
    "from pyecca.test import test_lie\n",
    "import casadi as ca\n",
    "from SE3Lie import se3, SE3, se3_diff_correction_inv"
   ]
  },
  {
   "cell_type": "code",
   "execution_count": 2,
   "metadata": {},
   "outputs": [],
   "source": [
    "x,y,z,i,j,k = symbols('x,y,z,i,j,k', real = True)"
   ]
  },
  {
   "cell_type": "code",
   "execution_count": 3,
   "metadata": {},
   "outputs": [
    {
     "data": {
      "text/latex": [
       "$\\displaystyle \\left[\\begin{matrix}x\\\\y\\\\z\\\\i\\\\j\\\\k\\end{matrix}\\right]$"
      ],
      "text/plain": [
       "Matrix([\n",
       "[x],\n",
       "[y],\n",
       "[z],\n",
       "[i],\n",
       "[j],\n",
       "[k]])"
      ]
     },
     "execution_count": 3,
     "metadata": {},
     "output_type": "execute_result"
    }
   ],
   "source": [
    "input = Matrix([x,y,z,i,j,k])\n",
    "input"
   ]
  },
  {
   "cell_type": "code",
   "execution_count": 4,
   "metadata": {},
   "outputs": [],
   "source": [
    "r = ca.DM([0.1, 0.2, 0.3])\n",
    "v = ca.DM([0.1, 0.2, 0.3])\n",
    "R = Dcm.from_euler(ca.DM([0.1, 0.2, 0.3]))"
   ]
  },
  {
   "cell_type": "code",
   "execution_count": 5,
   "metadata": {},
   "outputs": [],
   "source": [
    "inp = ca.horzcat(np.transpose(r),np.transpose(v))"
   ]
  },
  {
   "cell_type": "code",
   "execution_count": 6,
   "metadata": {},
   "outputs": [
    {
     "data": {
      "text/plain": [
       "array([[0.1],\n",
       "       [0.2],\n",
       "       [0.3],\n",
       "       [0.1],\n",
       "       [0.2],\n",
       "       [0.3]])"
      ]
     },
     "execution_count": 6,
     "metadata": {},
     "output_type": "execute_result"
    }
   ],
   "source": [
    "veeSe3 = np.transpose(inp)\n",
    "veeSe3"
   ]
  },
  {
   "cell_type": "code",
   "execution_count": null,
   "metadata": {},
   "outputs": [],
   "source": []
  },
  {
   "cell_type": "code",
   "execution_count": 7,
   "metadata": {},
   "outputs": [],
   "source": [
    "eps = 1e-7 # to avoid divide by zero\n",
    "x = ca.SX.sym('x')\n",
    "C1 = ca.Function('a', [x], [ca.if_else(ca.fabs(x) < eps, 1 - x ** 2 / 6 + x ** 4 / 120, ca.sin(x)/x)])\n",
    "C2 = ca.Function('b', [x], [ca.if_else(ca.fabs(x) < eps, 0.5 - x ** 2 / 24 + x ** 4 / 720, (1 - ca.cos(x)) / x ** 2)])\n",
    "del x"
   ]
  },
  {
   "cell_type": "code",
   "execution_count": 8,
   "metadata": {},
   "outputs": [
    {
     "data": {
      "text/plain": [
       "Function(a:(i0)->(o0) SXFunction)"
      ]
     },
     "execution_count": 8,
     "metadata": {},
     "output_type": "execute_result"
    }
   ],
   "source": [
    "C1"
   ]
  },
  {
   "cell_type": "code",
   "execution_count": 9,
   "metadata": {},
   "outputs": [
    {
     "data": {
      "text/plain": [
       "Function(b:(i0)->(o0) SXFunction)"
      ]
     },
     "execution_count": 9,
     "metadata": {},
     "output_type": "execute_result"
    }
   ],
   "source": [
    "C2"
   ]
  },
  {
   "cell_type": "code",
   "execution_count": 10,
   "metadata": {},
   "outputs": [
    {
     "data": {
      "text/plain": [
       "SX(@1=0.3, @2=-0.2, @3=-0.3, @4=0.1, @5=-0.1, @6=0.2, \n",
       "[[00, @3, @4, 00, @3, @6], \n",
       " [@1, 00, @5, @1, 00, @5], \n",
       " [@2, @4, 00, @2, @4, 00], \n",
       " [00, 00, 00, 00, @3, @6], \n",
       " [00, 00, 00, @1, 00, @5], \n",
       " [00, 00, 00, @2, @4, 00]])"
      ]
     },
     "execution_count": 10,
     "metadata": {},
     "output_type": "execute_result"
    }
   ],
   "source": [
    "se3.ad_matrix(veeSe3)"
   ]
  },
  {
   "cell_type": "code",
   "execution_count": 11,
   "metadata": {},
   "outputs": [
    {
     "data": {
      "text/plain": [
       "SX(@1=0.935755, @2=0.302933, @3=-0.0680313, \n",
       "[[@1, -0.283165, 0.20525, -0.12849, -0.253513, 0.225018], \n",
       " [@2, 0.950581, @3, 0.312817, -0.108723, -0.0383797], \n",
       " [-0.18054, 0.127335, 0.97529, -0.165714, 0.156986, -0.0494194], \n",
       " [00, 00, 00, @1, -0.263397, 0.210192], \n",
       " [00, 00, 00, @2, 0.940697, @3], \n",
       " [00, 00, 00, -0.150888, 0.3227, 0.965406]])"
      ]
     },
     "execution_count": 11,
     "metadata": {},
     "output_type": "execute_result"
    }
   ],
   "source": [
    "se3_diff_correction_inv(veeSe3)"
   ]
  },
  {
   "cell_type": "code",
   "execution_count": 70,
   "metadata": {},
   "outputs": [
    {
     "ename": "NameError",
     "evalue": "name 'test_so3' is not defined",
     "output_type": "error",
     "traceback": [
      "\u001b[1;31m---------------------------------------------------------------------------\u001b[0m",
      "\u001b[1;31mNameError\u001b[0m                                 Traceback (most recent call last)",
      "Cell \u001b[1;32mIn [70], line 1\u001b[0m\n\u001b[1;32m----> 1\u001b[0m \u001b[43mtest_so3\u001b[49m()\n",
      "\u001b[1;31mNameError\u001b[0m: name 'test_so3' is not defined"
     ]
    }
   ],
   "source": []
  },
  {
   "cell_type": "code",
   "execution_count": 45,
   "metadata": {},
   "outputs": [
    {
     "ename": "RuntimeError",
     "evalue": ".../casadi/core/slice.cpp:81: Assertion \"stop<=len\" failed:\nSlice (start=1, stop=2, step=1) out of bounds with supplied length of 1",
     "output_type": "error",
     "traceback": [
      "\u001b[1;31m---------------------------------------------------------------------------\u001b[0m",
      "\u001b[1;31mRuntimeError\u001b[0m                              Traceback (most recent call last)",
      "Cell \u001b[1;32mIn [45], line 1\u001b[0m\n\u001b[1;32m----> 1\u001b[0m \u001b[43mse3_diff_correction_inv\u001b[49m\u001b[43m(\u001b[49m\u001b[43mca\u001b[49m\u001b[38;5;241;43m.\u001b[39;49m\u001b[43mSX\u001b[49m\u001b[43m(\u001b[49m\u001b[43m[\u001b[49m\u001b[38;5;241;43m1\u001b[39;49m\u001b[43m,\u001b[49m\u001b[38;5;241;43m2\u001b[39;49m\u001b[43m,\u001b[49m\u001b[38;5;241;43m3\u001b[39;49m\u001b[43m,\u001b[49m\u001b[38;5;241;43m4\u001b[39;49m\u001b[43m,\u001b[49m\u001b[38;5;241;43m5\u001b[39;49m\u001b[43m,\u001b[49m\u001b[38;5;241;43m6\u001b[39;49m\u001b[43m]\u001b[49m\u001b[43m)\u001b[49m\u001b[43m)\u001b[49m\n",
      "File \u001b[1;32mc:\\Users\\woraw\\OneDrive\\Purdue University\\Research\\NASAULI Paper\\pyecca\\pyecca_se3_implementation\\SE3Lie.py:177\u001b[0m, in \u001b[0;36mse3_diff_correction_inv\u001b[1;34m(v)\u001b[0m\n\u001b[0;32m    175\u001b[0m C2 \u001b[39m=\u001b[39m ca\u001b[39m.\u001b[39mFunction(\u001b[39m'\u001b[39m\u001b[39mb\u001b[39m\u001b[39m'\u001b[39m, [x], [ca\u001b[39m.\u001b[39mif_else(ca\u001b[39m.\u001b[39mfabs(x) \u001b[39m<\u001b[39m eps, \u001b[39m0.5\u001b[39m \u001b[39m-\u001b[39m x \u001b[39m*\u001b[39m\u001b[39m*\u001b[39m \u001b[39m2\u001b[39m \u001b[39m/\u001b[39m \u001b[39m24\u001b[39m \u001b[39m+\u001b[39m x \u001b[39m*\u001b[39m\u001b[39m*\u001b[39m \u001b[39m4\u001b[39m \u001b[39m/\u001b[39m \u001b[39m720\u001b[39m, (\u001b[39m1\u001b[39m \u001b[39m-\u001b[39m ca\u001b[39m.\u001b[39mcos(x)) \u001b[39m/\u001b[39m x \u001b[39m*\u001b[39m\u001b[39m*\u001b[39m \u001b[39m2\u001b[39m)])\n\u001b[0;32m    176\u001b[0m \u001b[39mdel\u001b[39;00m x\n\u001b[1;32m--> 177\u001b[0m v \u001b[39m=\u001b[39m se3\u001b[39m.\u001b[39;49mvee(v)\n\u001b[0;32m    178\u001b[0m v_so3 \u001b[39m=\u001b[39m v[:\u001b[39m3\u001b[39m] \u001b[39m#grab only rotation terms for so3 uses\u001b[39;00m\n\u001b[0;32m    179\u001b[0m X_so3 \u001b[39m=\u001b[39m so3\u001b[39m.\u001b[39mwedge(v_so3) \u001b[39m#wedge operator for so3\u001b[39;00m\n",
      "File \u001b[1;32mc:\\Users\\woraw\\OneDrive\\Purdue University\\Research\\NASAULI Paper\\pyecca\\pyecca_se3_implementation\\SE3Lie.py:67\u001b[0m, in \u001b[0;36mse3.vee\u001b[1;34m(cls, X)\u001b[0m\n\u001b[0;32m     63\u001b[0m \u001b[39m'''\u001b[39;00m\n\u001b[0;32m     64\u001b[0m \u001b[39mThis takes in an element of the SE3 Lie Group and returns the se3 Lie Algebra elements \u001b[39;00m\n\u001b[0;32m     65\u001b[0m \u001b[39m'''\u001b[39;00m\n\u001b[0;32m     66\u001b[0m v \u001b[39m=\u001b[39m ca\u001b[39m.\u001b[39mSX(\u001b[39m6\u001b[39m, \u001b[39m1\u001b[39m)\n\u001b[1;32m---> 67\u001b[0m v[\u001b[39m0\u001b[39m, \u001b[39m0\u001b[39m] \u001b[39m=\u001b[39m X[\u001b[39m2\u001b[39;49m, \u001b[39m1\u001b[39;49m]\n\u001b[0;32m     68\u001b[0m v[\u001b[39m1\u001b[39m, \u001b[39m0\u001b[39m] \u001b[39m=\u001b[39m X[\u001b[39m0\u001b[39m, \u001b[39m2\u001b[39m]\n\u001b[0;32m     69\u001b[0m v[\u001b[39m2\u001b[39m, \u001b[39m0\u001b[39m] \u001b[39m=\u001b[39m X[\u001b[39m1\u001b[39m, \u001b[39m0\u001b[39m]\n",
      "File \u001b[1;32mc:\\Users\\woraw\\AppData\\Local\\Programs\\Python\\Python310\\lib\\site-packages\\casadi\\casadi.py:9123\u001b[0m, in \u001b[0;36mSX.__getitem__\u001b[1;34m(self, s)\u001b[0m\n\u001b[0;32m   9121\u001b[0m \u001b[39mif\u001b[39;00m \u001b[39misinstance\u001b[39m(s, \u001b[39mtuple\u001b[39m) \u001b[39mand\u001b[39;00m \u001b[39mlen\u001b[39m(s)\u001b[39m==\u001b[39m\u001b[39m2\u001b[39m:\n\u001b[0;32m   9122\u001b[0m   \u001b[39mif\u001b[39;00m s[\u001b[39m1\u001b[39m] \u001b[39mis\u001b[39;00m \u001b[39mNone\u001b[39;00m: \u001b[39mraise\u001b[39;00m \u001b[39mTypeError\u001b[39;00m(\u001b[39m\"\u001b[39m\u001b[39mCannot slice with None\u001b[39m\u001b[39m\"\u001b[39m)\n\u001b[1;32m-> 9123\u001b[0m   \u001b[39mreturn\u001b[39;00m \u001b[39mself\u001b[39;49m\u001b[39m.\u001b[39;49mget(\u001b[39mFalse\u001b[39;49;00m, s[\u001b[39m0\u001b[39;49m], s[\u001b[39m1\u001b[39;49m])\n\u001b[0;32m   9124\u001b[0m \u001b[39mreturn\u001b[39;00m \u001b[39mself\u001b[39m\u001b[39m.\u001b[39mget(\u001b[39mFalse\u001b[39;00m, s)\n",
      "File \u001b[1;32mc:\\Users\\woraw\\AppData\\Local\\Programs\\Python\\Python310\\lib\\site-packages\\casadi\\casadi.py:8043\u001b[0m, in \u001b[0;36mSX.get\u001b[1;34m(self, *args)\u001b[0m\n\u001b[0;32m   8028\u001b[0m \u001b[39mdef\u001b[39;00m \u001b[39mget\u001b[39m(\u001b[39mself\u001b[39m, \u001b[39m*\u001b[39margs) \u001b[39m-\u001b[39m\u001b[39m>\u001b[39m \u001b[39m\"\u001b[39m\u001b[39mvoid\u001b[39m\u001b[39m\"\u001b[39m:\n\u001b[0;32m   8029\u001b[0m     \u001b[39m\"\"\"\u001b[39;00m\n\u001b[0;32m   8030\u001b[0m \n\u001b[0;32m   8031\u001b[0m \n\u001b[1;32m   (...)\u001b[0m\n\u001b[0;32m   8041\u001b[0m \n\u001b[0;32m   8042\u001b[0m \u001b[39m    \"\"\"\u001b[39;00m\n\u001b[1;32m-> 8043\u001b[0m     \u001b[39mreturn\u001b[39;00m _casadi\u001b[39m.\u001b[39;49mSX_get(\u001b[39mself\u001b[39;49m, \u001b[39m*\u001b[39;49margs)\n",
      "\u001b[1;31mRuntimeError\u001b[0m: .../casadi/core/slice.cpp:81: Assertion \"stop<=len\" failed:\nSlice (start=1, stop=2, step=1) out of bounds with supplied length of 1"
     ]
    }
   ],
   "source": [
    "se3_diff_correction_inv(ca.SX([1,2,3,4,5,6]))"
   ]
  },
  {
   "cell_type": "code",
   "execution_count": null,
   "metadata": {},
   "outputs": [],
   "source": []
  },
  {
   "cell_type": "code",
   "execution_count": 30,
   "metadata": {},
   "outputs": [],
   "source": []
  },
  {
   "cell_type": "code",
   "execution_count": 33,
   "metadata": {},
   "outputs": [
    {
     "name": "stdout",
     "output_type": "stream",
     "text": [
      "cos(x)\n"
     ]
    }
   ],
   "source": []
  },
  {
   "cell_type": "code",
   "execution_count": null,
   "metadata": {},
   "outputs": [],
   "source": []
  }
 ],
 "metadata": {
  "kernelspec": {
   "display_name": "Python 3.10.4 64-bit",
   "language": "python",
   "name": "python3"
  },
  "language_info": {
   "codemirror_mode": {
    "name": "ipython",
    "version": 3
   },
   "file_extension": ".py",
   "mimetype": "text/x-python",
   "name": "python",
   "nbconvert_exporter": "python",
   "pygments_lexer": "ipython3",
   "version": "3.10.4"
  },
  "orig_nbformat": 4,
  "vscode": {
   "interpreter": {
    "hash": "12ef79ecf1251bbfcab6feab51420896c2673cbe10d08a787ce9e55b8b42ad5a"
   }
  }
 },
 "nbformat": 4,
 "nbformat_minor": 2
}
