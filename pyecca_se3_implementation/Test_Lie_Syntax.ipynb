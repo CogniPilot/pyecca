{
 "cells": [
  {
   "cell_type": "code",
   "execution_count": 64,
   "metadata": {},
   "outputs": [],
   "source": [
    "from SE3Lie import *\n",
    "import numpy as np\n",
    "from sympy import *\n",
    "from pyecca.lie import so3, r3, se3\n",
    "from pyecca.lie.util import DirectProduct\n",
    "from pyecca.lie.so3 import Quat, Dcm, Euler, Mrp\n",
    "from pyecca.lie.r3 import R3\n",
    "from pyecca.lie.se3 import SE3\n",
    "from pyecca.test import test_lie\n",
    "import casadi"
   ]
  },
  {
   "cell_type": "code",
   "execution_count": 57,
   "metadata": {},
   "outputs": [],
   "source": [
    "x,y,z,i,j,k = symbols('x,y,z,i,j,k', real = True)"
   ]
  },
  {
   "cell_type": "code",
   "execution_count": 58,
   "metadata": {},
   "outputs": [
    {
     "data": {
      "text/latex": [
       "$\\displaystyle \\left[\\begin{matrix}x\\\\y\\\\z\\\\i\\\\j\\\\k\\end{matrix}\\right]$"
      ],
      "text/plain": [
       "Matrix([\n",
       "[x],\n",
       "[y],\n",
       "[z],\n",
       "[i],\n",
       "[j],\n",
       "[k]])"
      ]
     },
     "execution_count": 58,
     "metadata": {},
     "output_type": "execute_result"
    }
   ],
   "source": [
    "input = Matrix([x,y,z,i,j,k])\n",
    "input"
   ]
  },
  {
   "cell_type": "code",
   "execution_count": 59,
   "metadata": {},
   "outputs": [],
   "source": [
    "    r = ca.DM([0.1, 0.2, 0.3])\n",
    "    v = ca.DM([0.1, 0.2, 0.3])\n",
    "    R = Dcm.from_euler(ca.DM([0.1, 0.2, 0.3]))"
   ]
  },
  {
   "cell_type": "code",
   "execution_count": 60,
   "metadata": {},
   "outputs": [],
   "source": [
    "inp = ca.horzcat(np.transpose(r),np.transpose(v))"
   ]
  },
  {
   "cell_type": "code",
   "execution_count": 61,
   "metadata": {},
   "outputs": [
    {
     "data": {
      "text/plain": [
       "array([[0.1],\n",
       "       [0.2],\n",
       "       [0.3],\n",
       "       [0.1],\n",
       "       [0.2],\n",
       "       [0.3]])"
      ]
     },
     "execution_count": 61,
     "metadata": {},
     "output_type": "execute_result"
    }
   ],
   "source": [
    "veeSe3 = np.transpose(inp)\n",
    "veeSe3"
   ]
  },
  {
   "cell_type": "code",
   "execution_count": 62,
   "metadata": {},
   "outputs": [],
   "source": [
    "eps = 1e-7 # to avoid divide by zero\n",
    "x = ca.SX.sym('x')\n",
    "C1 = ca.Function('a', [x], [ca.if_else(ca.fabs(x) < eps, 1 - x ** 2 / 6 + x ** 4 / 120, ca.sin(x)/x)])\n",
    "C2 = ca.Function('b', [x], [ca.if_else(ca.fabs(x) < eps, 0.5 - x ** 2 / 24 + x ** 4 / 720, (1 - ca.cos(x)) / x ** 2)])\n",
    "del x"
   ]
  },
  {
   "cell_type": "code",
   "execution_count": 51,
   "metadata": {},
   "outputs": [
    {
     "ename": "TypeError",
     "evalue": "unsupported operand type(s) for *: 'Function' and 'float'",
     "output_type": "error",
     "traceback": [
      "\u001b[1;31m---------------------------------------------------------------------------\u001b[0m",
      "\u001b[1;31mTypeError\u001b[0m                                 Traceback (most recent call last)",
      "Cell \u001b[1;32mIn [51], line 1\u001b[0m\n\u001b[1;32m----> 1\u001b[0m \u001b[43mSE3_diff_corr\u001b[49m\u001b[38;5;241;43m.\u001b[39;49m\u001b[43mse3_diff_correction_inv\u001b[49m\u001b[43m(\u001b[49m\u001b[43mveeSe3\u001b[49m\u001b[43m,\u001b[49m\u001b[43mC1\u001b[49m\u001b[43m,\u001b[49m\u001b[43mC2\u001b[49m\u001b[43m)\u001b[49m\n",
      "File \u001b[1;32mc:\\Users\\woraw\\OneDrive\\Purdue University\\Research\\NASAULI Paper\\pyecca\\pyecca_se3_implementation\\SE3Lie.py:147\u001b[0m, in \u001b[0;36mSE3_diff_corr.se3_diff_correction_inv\u001b[1;34m(cls, v, C1, C2)\u001b[0m\n\u001b[0;32m    144\u001b[0m \u001b[39m@classmethod\u001b[39m \n\u001b[0;32m    145\u001b[0m \u001b[39mdef\u001b[39;00m \u001b[39mse3_diff_correction_inv\u001b[39m(\u001b[39mcls\u001b[39m, v, C1,C2): \u001b[39m#UInv\u001b[39;00m\n\u001b[0;32m    146\u001b[0m   u_inv \u001b[39m=\u001b[39m ca\u001b[39m.\u001b[39mSX(\u001b[39m6\u001b[39m, \u001b[39m6\u001b[39m)\n\u001b[1;32m--> 147\u001b[0m   u_inv[\u001b[39m0\u001b[39m,\u001b[39m0\u001b[39m] \u001b[39m=\u001b[39m C2\u001b[39m*\u001b[39;49m(\u001b[39m-\u001b[39;49mv[\u001b[39m4\u001b[39;49m,\u001b[39m0\u001b[39;49m]\u001b[39m*\u001b[39;49m\u001b[39m*\u001b[39;49m\u001b[39m2\u001b[39;49m \u001b[39m-\u001b[39;49m v[\u001b[39m5\u001b[39;49m,\u001b[39m0\u001b[39;49m]\u001b[39m*\u001b[39;49m\u001b[39m*\u001b[39;49m\u001b[39m2\u001b[39;49m) \u001b[39m+\u001b[39m \u001b[39m1\u001b[39m\n\u001b[0;32m    148\u001b[0m   u_inv[\u001b[39m0\u001b[39m,\u001b[39m1\u001b[39m] \u001b[39m=\u001b[39m \u001b[39m-\u001b[39mC1\u001b[39m*\u001b[39mv[\u001b[39m5\u001b[39m,\u001b[39m0\u001b[39m] \u001b[39m+\u001b[39m C2\u001b[39m*\u001b[39mv[\u001b[39m3\u001b[39m,\u001b[39m0\u001b[39m]\u001b[39m*\u001b[39mv[\u001b[39m4\u001b[39m,\u001b[39m0\u001b[39m]\n\u001b[0;32m    149\u001b[0m   u_inv[\u001b[39m0\u001b[39m,\u001b[39m2\u001b[39m] \u001b[39m=\u001b[39m C1 \u001b[39m*\u001b[39m v[\u001b[39m4\u001b[39m,\u001b[39m0\u001b[39m] \u001b[39m+\u001b[39m C2 \u001b[39m*\u001b[39m v[\u001b[39m3\u001b[39m,\u001b[39m0\u001b[39m]\u001b[39m*\u001b[39mv[\u001b[39m4\u001b[39m,\u001b[39m0\u001b[39m]\n",
      "\u001b[1;31mTypeError\u001b[0m: unsupported operand type(s) for *: 'Function' and 'float'"
     ]
    }
   ],
   "source": [
    "SE3_diff_corr.se3_diff_correction_inv(veeSe3,C1,C2)"
   ]
  },
  {
   "cell_type": "code",
   "execution_count": 54,
   "metadata": {},
   "outputs": [
    {
     "data": {
      "text/plain": [
       "Function(a:(i0)->(o0) SXFunction)"
      ]
     },
     "execution_count": 54,
     "metadata": {},
     "output_type": "execute_result"
    }
   ],
   "source": [
    "C1"
   ]
  },
  {
   "cell_type": "code",
   "execution_count": 55,
   "metadata": {},
   "outputs": [
    {
     "data": {
      "text/plain": [
       "Function(b:(i0)->(o0) SXFunction)"
      ]
     },
     "execution_count": 55,
     "metadata": {},
     "output_type": "execute_result"
    }
   ],
   "source": [
    "C2"
   ]
  },
  {
   "cell_type": "code",
   "execution_count": 66,
   "metadata": {},
   "outputs": [
    {
     "ename": "NameError",
     "evalue": "name 'se3LieAlg' is not defined",
     "output_type": "error",
     "traceback": [
      "\u001b[1;31m---------------------------------------------------------------------------\u001b[0m",
      "\u001b[1;31mNameError\u001b[0m                                 Traceback (most recent call last)",
      "Cell \u001b[1;32mIn [66], line 1\u001b[0m\n\u001b[1;32m----> 1\u001b[0m \u001b[43mse3LieAlg\u001b[49m(veeSe3,C1,C2)\u001b[38;5;241m.\u001b[39madjoint_se3()\n",
      "\u001b[1;31mNameError\u001b[0m: name 'se3LieAlg' is not defined"
     ]
    }
   ],
   "source": [
    "se3LieAlg(veeSe3,C1,C2).adjoint_se3()"
   ]
  },
  {
   "cell_type": "code",
   "execution_count": 69,
   "metadata": {},
   "outputs": [
    {
     "ename": "NameError",
     "evalue": "name 'adjoint_se3' is not defined",
     "output_type": "error",
     "traceback": [
      "\u001b[1;31m---------------------------------------------------------------------------\u001b[0m",
      "\u001b[1;31mNameError\u001b[0m                                 Traceback (most recent call last)",
      "Cell \u001b[1;32mIn [69], line 1\u001b[0m\n\u001b[1;32m----> 1\u001b[0m \u001b[43madjoint_se3\u001b[49m(veeSe3)\n",
      "\u001b[1;31mNameError\u001b[0m: name 'adjoint_se3' is not defined"
     ]
    }
   ],
   "source": [
    "adjoint_se3(veeSe3)"
   ]
  },
  {
   "cell_type": "code",
   "execution_count": 70,
   "metadata": {},
   "outputs": [
    {
     "ename": "NameError",
     "evalue": "name 'test_so3' is not defined",
     "output_type": "error",
     "traceback": [
      "\u001b[1;31m---------------------------------------------------------------------------\u001b[0m",
      "\u001b[1;31mNameError\u001b[0m                                 Traceback (most recent call last)",
      "Cell \u001b[1;32mIn [70], line 1\u001b[0m\n\u001b[1;32m----> 1\u001b[0m \u001b[43mtest_so3\u001b[49m()\n",
      "\u001b[1;31mNameError\u001b[0m: name 'test_so3' is not defined"
     ]
    }
   ],
   "source": []
  },
  {
   "cell_type": "code",
   "execution_count": null,
   "metadata": {},
   "outputs": [],
   "source": []
  }
 ],
 "metadata": {
  "kernelspec": {
   "display_name": "Python 3.10.4 64-bit",
   "language": "python",
   "name": "python3"
  },
  "language_info": {
   "codemirror_mode": {
    "name": "ipython",
    "version": 3
   },
   "file_extension": ".py",
   "mimetype": "text/x-python",
   "name": "python",
   "nbconvert_exporter": "python",
   "pygments_lexer": "ipython3",
   "version": "3.10.4"
  },
  "orig_nbformat": 4,
  "vscode": {
   "interpreter": {
    "hash": "12ef79ecf1251bbfcab6feab51420896c2673cbe10d08a787ce9e55b8b42ad5a"
   }
  }
 },
 "nbformat": 4,
 "nbformat_minor": 2
}
