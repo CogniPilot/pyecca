{
 "cells": [
  {
   "cell_type": "code",
   "execution_count": 1,
   "metadata": {},
   "outputs": [],
   "source": [
    "from SE3Lie import *\n",
    "import numpy as np\n",
    "from sympy import *\n",
    "from pyecca.lie import so3, r3, se3\n",
    "from pyecca.lie.util import DirectProduct\n",
    "from pyecca.lie.so3 import Quat, Dcm, Euler, Mrp\n",
    "from pyecca.lie.r3 import R3\n",
    "from pyecca.lie.se3 import SE3\n",
    "from pyecca.test import test_lie\n",
    "import casadi as ca\n",
    "from SE3Lie import se3, SE3, se3_diff_correction_inv"
   ]
  },
  {
   "cell_type": "code",
   "execution_count": 2,
   "metadata": {},
   "outputs": [],
   "source": [
    "x,y,z,i,j,k = symbols('x,y,z,i,j,k', real = True)"
   ]
  },
  {
   "cell_type": "code",
   "execution_count": 3,
   "metadata": {},
   "outputs": [
    {
     "data": {
      "text/latex": [
       "$\\displaystyle \\left[\\begin{matrix}x\\\\y\\\\z\\\\i\\\\j\\\\k\\end{matrix}\\right]$"
      ],
      "text/plain": [
       "Matrix([\n",
       "[x],\n",
       "[y],\n",
       "[z],\n",
       "[i],\n",
       "[j],\n",
       "[k]])"
      ]
     },
     "execution_count": 3,
     "metadata": {},
     "output_type": "execute_result"
    }
   ],
   "source": [
    "input = Matrix([x,y,z,i,j,k])\n",
    "input"
   ]
  },
  {
   "cell_type": "code",
   "execution_count": 4,
   "metadata": {},
   "outputs": [],
   "source": [
    "r = ca.DM([0.1, 0.2, 0.3])\n",
    "v = ca.DM([0.1, 0.2, 0.3])\n",
    "R = Dcm.from_euler(ca.DM([0.1, 0.2, 0.3]))"
   ]
  },
  {
   "cell_type": "code",
   "execution_count": 5,
   "metadata": {},
   "outputs": [],
   "source": [
    "inp = ca.horzcat(np.transpose(r),np.transpose(v))"
   ]
  },
  {
   "cell_type": "code",
   "execution_count": 6,
   "metadata": {},
   "outputs": [
    {
     "data": {
      "text/plain": [
       "array([[0.1],\n",
       "       [0.2],\n",
       "       [0.3],\n",
       "       [0.1],\n",
       "       [0.2],\n",
       "       [0.3]])"
      ]
     },
     "execution_count": 6,
     "metadata": {},
     "output_type": "execute_result"
    }
   ],
   "source": [
    "veeSe3 = np.transpose(inp)\n",
    "veeSe3"
   ]
  },
  {
   "cell_type": "code",
   "execution_count": null,
   "metadata": {},
   "outputs": [],
   "source": []
  },
  {
   "cell_type": "code",
   "execution_count": 7,
   "metadata": {},
   "outputs": [],
   "source": [
    "eps = 1e-7 # to avoid divide by zero\n",
    "x = ca.SX.sym('x')\n",
    "C1 = ca.Function('a', [x], [ca.if_else(ca.fabs(x) < eps, 1 - x ** 2 / 6 + x ** 4 / 120, ca.sin(x)/x)])\n",
    "C2 = ca.Function('b', [x], [ca.if_else(ca.fabs(x) < eps, 0.5 - x ** 2 / 24 + x ** 4 / 720, (1 - ca.cos(x)) / x ** 2)])\n",
    "del x"
   ]
  },
  {
   "cell_type": "code",
   "execution_count": 8,
   "metadata": {},
   "outputs": [
    {
     "data": {
      "text/plain": [
       "Function(a:(i0)->(o0) SXFunction)"
      ]
     },
     "execution_count": 8,
     "metadata": {},
     "output_type": "execute_result"
    }
   ],
   "source": [
    "C1"
   ]
  },
  {
   "cell_type": "code",
   "execution_count": 9,
   "metadata": {},
   "outputs": [
    {
     "data": {
      "text/plain": [
       "Function(b:(i0)->(o0) SXFunction)"
      ]
     },
     "execution_count": 9,
     "metadata": {},
     "output_type": "execute_result"
    }
   ],
   "source": [
    "C2"
   ]
  },
  {
   "cell_type": "code",
   "execution_count": 10,
   "metadata": {},
   "outputs": [
    {
     "data": {
      "text/plain": [
       "SX(@1=0.3, @2=-0.2, @3=-0.3, @4=0.1, @5=-0.1, @6=0.2, \n",
       "[[00, @3, @4, 00, @3, @6], \n",
       " [@1, 00, @5, @1, 00, @5], \n",
       " [@2, @4, 00, @2, @4, 00], \n",
       " [00, 00, 00, 00, @3, @6], \n",
       " [00, 00, 00, @1, 00, @5], \n",
       " [00, 00, 00, @2, @4, 00]])"
      ]
     },
     "execution_count": 10,
     "metadata": {},
     "output_type": "execute_result"
    }
   ],
   "source": [
    "se3.ad_matrix(veeSe3)"
   ]
  },
  {
   "cell_type": "code",
   "execution_count": 11,
   "metadata": {},
   "outputs": [
    {
     "data": {
      "text/plain": [
       "SX(@1=0.935755, @2=0.302933, @3=-0.0680313, \n",
       "[[@1, -0.283165, 0.20525, -0.12849, -0.253513, 0.225018], \n",
       " [@2, 0.950581, @3, 0.312817, -0.108723, -0.0383797], \n",
       " [-0.18054, 0.127335, 0.97529, -0.165714, 0.156986, -0.0494194], \n",
       " [00, 00, 00, @1, -0.263397, 0.210192], \n",
       " [00, 00, 00, @2, 0.940697, @3], \n",
       " [00, 00, 00, -0.150888, 0.3227, 0.965406]])"
      ]
     },
     "execution_count": 11,
     "metadata": {},
     "output_type": "execute_result"
    }
   ],
   "source": [
    "se3_diff_correction_inv(veeSe3)"
   ]
  },
  {
   "cell_type": "code",
   "execution_count": null,
   "metadata": {},
   "outputs": [],
   "source": []
  },
  {
   "cell_type": "code",
   "execution_count": 12,
   "metadata": {},
   "outputs": [
    {
     "data": {
      "text/plain": [
       "SX(@1=-0.422961, @2=0.880247, @3=0.424015, \n",
       "[[@1, 0.0528417, 0.811297, -1.30632, 0.189711, 0.557791], \n",
       " [@2, -0.213016, @3, 0.510105, -1.07305, 0.560885], \n",
       " [0.215101, 0.975619, 0.0435836, 0.281989, 0.698786, -0.653162], \n",
       " [00, 00, 00, @1, 0.286114, 0.904606], \n",
       " [00, 00, 00, @2, -0.399634, @3], \n",
       " [00, 00, 00, 0.495028, 1.11352, -0.143034]])"
      ]
     },
     "execution_count": 12,
     "metadata": {},
     "output_type": "execute_result"
    }
   ],
   "source": [
    "U_inv = se3_diff_correction_inv(ca.SX([1,2,3,4,5,6]))\n",
    "U_inv"
   ]
  },
  {
   "cell_type": "code",
   "execution_count": 14,
   "metadata": {},
   "outputs": [
    {
     "data": {
      "text/plain": [
       "SX(@1=-0.422961, @2=0.880247, @3=0.424015, \n",
       "[[@1, @2, 0.215101, 00, 00, 00], \n",
       " [0.0528417, -0.213016, 0.975619, 00, 00, 00], \n",
       " [0.811297, @3, 0.0435836, 00, 00, 00], \n",
       " [-1.30632, 0.510105, 0.281989, @1, @2, 0.495028], \n",
       " [0.189711, -1.07305, 0.698786, 0.286114, -0.399634, 1.11352], \n",
       " [0.557791, 0.560885, -0.653162, 0.904606, @3, -0.143034]])"
      ]
     },
     "execution_count": 14,
     "metadata": {},
     "output_type": "execute_result"
    }
   ],
   "source": [
    "U_Matrix = SE3.inv(U_inv)\n",
    "U_Matrix #check for possible errors"
   ]
  },
  {
   "cell_type": "code",
   "execution_count": 15,
   "metadata": {},
   "outputs": [
    {
     "data": {
      "text/plain": [
       "SX(\n",
       "[[-0.461953, 0.861971, 0.213222, 0.483027, -1.1546, 0.237054], \n",
       " [0.0577131, -0.210733, 0.975853, 0.435124, 0.525225, -0.748604], \n",
       " [0.988001, 0.463105, 0.0476016, -0.940595, 0.378782, 0.625699], \n",
       " [-7.87996e-17, 1.12763e-16, -8.24972e-18, -0.310334, 0.783874, 0.361065], \n",
       " [3.93527e-17, -8.86996e-17, 1.57707e-17, 0.25112, -0.289634, 0.729582], \n",
       " [-1.07739e-16, 1.70115e-17, 2.12643e-17, 0.880927, 0.458118, -0.0619352]])"
      ]
     },
     "execution_count": 15,
     "metadata": {},
     "output_type": "execute_result"
    }
   ],
   "source": [
    "ca.inv(U_inv) # U Matrix"
   ]
  },
  {
   "cell_type": "code",
   "execution_count": 33,
   "metadata": {},
   "outputs": [
    {
     "name": "stdout",
     "output_type": "stream",
     "text": [
      "cos(x)\n"
     ]
    }
   ],
   "source": []
  },
  {
   "cell_type": "code",
   "execution_count": null,
   "metadata": {},
   "outputs": [],
   "source": []
  }
 ],
 "metadata": {
  "kernelspec": {
   "display_name": "Python 3.10.4 64-bit",
   "language": "python",
   "name": "python3"
  },
  "language_info": {
   "codemirror_mode": {
    "name": "ipython",
    "version": 3
   },
   "file_extension": ".py",
   "mimetype": "text/x-python",
   "name": "python",
   "nbconvert_exporter": "python",
   "pygments_lexer": "ipython3",
   "version": "3.10.4"
  },
  "orig_nbformat": 4,
  "vscode": {
   "interpreter": {
    "hash": "12ef79ecf1251bbfcab6feab51420896c2673cbe10d08a787ce9e55b8b42ad5a"
   }
  }
 },
 "nbformat": 4,
 "nbformat_minor": 2
}
