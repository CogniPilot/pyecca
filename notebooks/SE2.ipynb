{
 "cells": [
  {
   "cell_type": "code",
   "execution_count": 53,
   "metadata": {},
   "outputs": [
    {
     "name": "stdout",
     "output_type": "stream",
     "text": [
      "The autoreload extension is already loaded. To reload it, use:\n",
      "  %reload_ext autoreload\n"
     ]
    }
   ],
   "source": [
    "%load_ext autoreload\n",
    "%autoreload 2\n",
    "\n",
    "import sys\n",
    "sys.path.insert(0, '..')\n",
    "\n",
    "import casadi as ca\n",
    "from pyecca.lie.se2 import SE2"
   ]
  },
  {
   "cell_type": "code",
   "execution_count": 54,
   "metadata": {},
   "outputs": [],
   "source": [
    "p1 = ca.SX.sym('p1', 3)\n",
    "p2 = ca.SX.sym('p2', 3)"
   ]
  },
  {
   "cell_type": "code",
   "execution_count": 56,
   "metadata": {},
   "outputs": [
    {
     "data": {
      "text/plain": [
       "SX(@1=(-p1_2), @2=cos(@1), @3=sin(@1), @4=cos(p1_2), @5=sin(p1_2), [(((@2*p1_0)-(@3*p1_1))-((@4*p1_0)+(@5*p1_1))), (((@3*p1_0)+(@2*p1_1))+((@5*p1_0)-(@4*p1_1))), 0])"
      ]
     },
     "execution_count": 56,
     "metadata": {},
     "output_type": "execute_result"
    }
   ],
   "source": [
    "SE2.product(SE2.inv(p1), p1)"
   ]
  },
  {
   "cell_type": "code",
   "execution_count": 60,
   "metadata": {},
   "outputs": [
    {
     "data": {
      "text/plain": [
       "SX(@1=(p2_2-p1_2), @2=1e-07, @3=(fabs(@1)<@2), @4=1, @5=((@3?((@4+(-0.166667*sq(@1)))+(0.00833333*sq(sq(@1)))):0)+((!@3)?(sin(@1)/@1):0)), @6=(fabs(@1)<@2), @7=((@6?(((0.5*@1)+(-0.0416667*(@1*sq(@1))))+(0.00138889*(@1*sq(sq(@1))))):0)+((!@6)?((@4-cos(@1))/@1):0)), @8=(sq(@5)+sq(@7)), @9=(-p1_2), @10=cos(@9), @11=sin(@9), @12=cos(p1_2), @13=sin(p1_2), @14=(((@10*p2_0)-(@11*p2_1))-((@12*p1_0)+(@13*p1_1))), @15=(((@11*p2_0)+(@10*p2_1))+((@13*p1_0)-(@12*p1_1))), [(((@5/@8)*@14)+((@7/@8)*@15)), (((@5/@8)*@15)-((@7/@8)*@14)), @1])"
      ]
     },
     "execution_count": 60,
     "metadata": {},
     "output_type": "execute_result"
    }
   ],
   "source": [
    "u = SE2.log(SE2.product(SE2.inv(p1), p2))\n",
    "u"
   ]
  }
 ],
 "metadata": {
  "kernelspec": {
   "display_name": "pyecca",
   "language": "python",
   "name": "python3"
  },
  "language_info": {
   "codemirror_mode": {
    "name": "ipython",
    "version": 3
   },
   "file_extension": ".py",
   "mimetype": "text/x-python",
   "name": "python",
   "nbconvert_exporter": "python",
   "pygments_lexer": "ipython3",
   "version": "3.10.6"
  },
  "orig_nbformat": 4,
  "vscode": {
   "interpreter": {
    "hash": "ada48a88b30eb6f4ce0095d7ea02eab09f2abe756ddb188cd7215f6ee0ee8358"
   }
  }
 },
 "nbformat": 4,
 "nbformat_minor": 2
}
