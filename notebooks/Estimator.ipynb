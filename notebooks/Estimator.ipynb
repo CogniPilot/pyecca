{
 "cells": [
  {
   "cell_type": "code",
   "execution_count": 4,
   "metadata": {},
   "outputs": [
    {
     "name": "stdout",
     "output_type": "stream",
     "text": [
      "The autoreload extension is already loaded. To reload it, use:\n",
      "  %reload_ext autoreload\n"
     ]
    },
    {
     "name": "stderr",
     "output_type": "stream",
     "text": [
      "[autoreload of pyecca.lie.lie_group failed: Traceback (most recent call last):\n",
      "  File \"/home/user/.local/lib/python3.10/site-packages/IPython/extensions/autoreload.py\", line 261, in check\n",
      "    superreload(m, reload, self.old_objects)\n",
      "  File \"/home/user/.local/lib/python3.10/site-packages/IPython/extensions/autoreload.py\", line 459, in superreload\n",
      "    module = reload(module)\n",
      "  File \"/usr/lib/python3.10/importlib/__init__.py\", line 169, in reload\n",
      "    _bootstrap._exec(spec, module)\n",
      "  File \"<frozen importlib._bootstrap>\", line 619, in _exec\n",
      "  File \"<frozen importlib._bootstrap_external>\", line 883, in exec_module\n",
      "  File \"<frozen importlib._bootstrap>\", line 241, in _call_with_frames_removed\n",
      "  File \"/home/user/work/ws/src/pyecca/notebooks/../pyecca/lie/lie_group.py\", line 6, in <module>\n",
      "    class LieGroup(abc.ABC):\n",
      "  File \"/home/user/work/ws/src/pyecca/notebooks/../pyecca/lie/lie_group.py\", line 18, in LieGroup\n",
      "    def __init__(self, group_params: int, algebra_params: int, group_shape: Tuple(int)):\n",
      "  File \"/usr/lib/python3.10/typing.py\", line 955, in __call__\n",
      "    raise TypeError(f\"Type {self._name} cannot be instantiated; \"\n",
      "TypeError: Type Tuple cannot be instantiated; use tuple() instead\n",
      "]\n"
     ]
    }
   ],
   "source": [
    "%load_ext autoreload\n",
    "%autoreload 2\n",
    "import sys\n",
    "from pathlib import Path\n",
    "\n",
    "sys.path.insert(0, \"..\")"
   ]
  },
  {
   "cell_type": "code",
   "execution_count": 5,
   "metadata": {},
   "outputs": [
    {
     "ename": "TypeError",
     "evalue": "Can't instantiate abstract class R with abstract methods Ad, ad",
     "output_type": "error",
     "traceback": [
      "\u001b[0;31m---------------------------------------------------------------------------\u001b[0m",
      "\u001b[0;31mTypeError\u001b[0m                                 Traceback (most recent call last)",
      "Cell \u001b[0;32mIn[5], line 5\u001b[0m\n\u001b[1;32m      3\u001b[0m \u001b[39mimport\u001b[39;00m \u001b[39mcasadi\u001b[39;00m \u001b[39mas\u001b[39;00m \u001b[39mca\u001b[39;00m\n\u001b[1;32m      4\u001b[0m \u001b[39mfrom\u001b[39;00m \u001b[39mpyecca\u001b[39;00m \u001b[39mimport\u001b[39;00m lie\n\u001b[0;32m----> 5\u001b[0m \u001b[39mfrom\u001b[39;00m \u001b[39mpyecca\u001b[39;00m\u001b[39m.\u001b[39;00m\u001b[39mlie\u001b[39;00m\u001b[39m.\u001b[39;00m\u001b[39mr\u001b[39;00m \u001b[39mimport\u001b[39;00m R\n\u001b[1;32m      7\u001b[0m \u001b[39mfrom\u001b[39;00m \u001b[39mpyecca\u001b[39;00m\u001b[39m.\u001b[39;00m\u001b[39mlie\u001b[39;00m\u001b[39m.\u001b[39;00m\u001b[39mse3\u001b[39;00m \u001b[39mimport\u001b[39;00m SE3Quat\n\u001b[1;32m      8\u001b[0m \u001b[39mfrom\u001b[39;00m \u001b[39mpyecca\u001b[39;00m\u001b[39m.\u001b[39;00m\u001b[39mlie\u001b[39;00m\u001b[39m.\u001b[39;00m\u001b[39mso3\u001b[39;00m \u001b[39mimport\u001b[39;00m SO3Quat\n",
      "File \u001b[0;32m~/work/ws/src/pyecca/notebooks/../pyecca/lie/r.py:46\u001b[0m\n\u001b[1;32m     43\u001b[0m             X[i, \u001b[39mself\u001b[39m\u001b[39m.\u001b[39mgroup_params] \u001b[39m=\u001b[39m v[i, \u001b[39m0\u001b[39m]\n\u001b[1;32m     44\u001b[0m         \u001b[39mreturn\u001b[39;00m X\n\u001b[0;32m---> 46\u001b[0m R2 \u001b[39m=\u001b[39m R(\u001b[39m2\u001b[39;49m)\n\u001b[1;32m     47\u001b[0m R3 \u001b[39m=\u001b[39m R(\u001b[39m3\u001b[39m)\n",
      "\u001b[0;31mTypeError\u001b[0m: Can't instantiate abstract class R with abstract methods Ad, ad"
     ]
    }
   ],
   "source": [
    "#!/usr/bin/env python3\n",
    "\n",
    "import casadi as ca\n",
    "from pyecca import lie\n",
    "from pyecca.lie.r import R\n",
    "\n",
    "from pyecca.lie.se3 import SE3Quat\n",
    "from pyecca.lie.so3 import SO3Quat\n",
    "\n",
    "from pyecca.lie.product import DirectProduct, SemiDirectProduct\n",
    "\n",
    "# states\n",
    "R3 = R(3)\n",
    "p_e = ca.SX.sym('p_e', 3, 1)\n",
    "q_be = ca.SX.sym('q_eb', 4, 1) # quaterion from b to e\n",
    "omega_eb_b = ca.SX.sym('omega_eb_b', 3, 1) # ang. vel in b frame\n",
    "V_b = ca.SX.sym('V_b', 3, 1) # vel in b frame\n",
    "b_b = ca.SX.sym('b_b', 3, 1) # gyro bias\n",
    "\n"
   ]
  },
  {
   "cell_type": "code",
   "execution_count": 6,
   "metadata": {},
   "outputs": [
    {
     "ename": "TypeError",
     "evalue": "Can't instantiate abstract class R with abstract methods Ad, ad",
     "output_type": "error",
     "traceback": [
      "\u001b[0;31m---------------------------------------------------------------------------\u001b[0m",
      "\u001b[0;31mTypeError\u001b[0m                                 Traceback (most recent call last)",
      "Cell \u001b[0;32mIn[6], line 2\u001b[0m\n\u001b[1;32m      1\u001b[0m \u001b[39mfrom\u001b[39;00m \u001b[39mpyecca\u001b[39;00m\u001b[39m.\u001b[39;00m\u001b[39mlie\u001b[39;00m\u001b[39m.\u001b[39;00m\u001b[39mlie_group\u001b[39;00m \u001b[39mimport\u001b[39;00m LieGroup\n\u001b[0;32m----> 2\u001b[0m \u001b[39mfrom\u001b[39;00m \u001b[39mpyecca\u001b[39;00m\u001b[39m.\u001b[39;00m\u001b[39mlie\u001b[39;00m\u001b[39m.\u001b[39;00m\u001b[39mr\u001b[39;00m \u001b[39mimport\u001b[39;00m R3\n\u001b[1;32m      5\u001b[0m \u001b[39mclass\u001b[39;00m \u001b[39mSE3\u001b[39;00m(SemiDirectProduct):\n\u001b[1;32m      7\u001b[0m     \u001b[39mdef\u001b[39;00m \u001b[39m__init__\u001b[39m(\u001b[39mself\u001b[39m, SO3):\n",
      "File \u001b[0;32m~/work/ws/src/pyecca/notebooks/../pyecca/lie/r.py:46\u001b[0m\n\u001b[1;32m     43\u001b[0m             X[i, \u001b[39mself\u001b[39m\u001b[39m.\u001b[39mgroup_params] \u001b[39m=\u001b[39m v[i, \u001b[39m0\u001b[39m]\n\u001b[1;32m     44\u001b[0m         \u001b[39mreturn\u001b[39;00m X\n\u001b[0;32m---> 46\u001b[0m R2 \u001b[39m=\u001b[39m R(\u001b[39m2\u001b[39;49m)\n\u001b[1;32m     47\u001b[0m R3 \u001b[39m=\u001b[39m R(\u001b[39m3\u001b[39m)\n",
      "\u001b[0;31mTypeError\u001b[0m: Can't instantiate abstract class R with abstract methods Ad, ad"
     ]
    }
   ],
   "source": [
    "from pyecca.lie.lie_group import LieGroup\n",
    "from pyecca.lie.r import R3\n",
    "\n",
    "\n",
    "class SE3(SemiDirectProduct):\n",
    "    \n",
    "    def __init__(self, SO3):\n",
    "        super().__init__(groups=[SO3, R3])\n",
    "\n",
    "    def product(self, a, b):\n",
    "        return a\n",
    "\n",
    "    def inv(self, a) -> ca.SX:\n",
    "        return a\n",
    "\n",
    "    def exp(self, v) -> ca.SX:\n",
    "        return v\n",
    "\n",
    "    def log(self, a) -> ca.SX:\n",
    "        return a\n",
    "    \n",
    "    def vee(self, X) -> ca.SX:\n",
    "        v = ca.SX.zeros(self.group_params(), 1)\n",
    "        return v\n",
    "\n",
    "    def wedge(self, v) -> ca.SX:\n",
    "        X = ca.SX.zeros(self.group_params, self.group_params)\n",
    "        return X\n",
    "\n",
    "\n",
    "SE3Quat = SE3(SO3Quat)"
   ]
  },
  {
   "cell_type": "code",
   "execution_count": 21,
   "metadata": {},
   "outputs": [
    {
     "data": {
      "text/plain": [
       "SX(\n",
       "[[00, -3, 2], \n",
       " [3, 00, -1], \n",
       " [-2, 1, 00]])"
      ]
     },
     "execution_count": 21,
     "metadata": {},
     "output_type": "execute_result"
    }
   ],
   "source": [
    "SO3Quat.wedge([1, 2, 3])"
   ]
  },
  {
   "cell_type": "code",
   "execution_count": 22,
   "metadata": {},
   "outputs": [],
   "source": [
    "SE3Quat = SE3(SO3Quat)"
   ]
  },
  {
   "cell_type": "code",
   "execution_count": 7,
   "metadata": {},
   "outputs": [],
   "source": [
    "G = lie.product.DirectProduct([lie.se3.SE3Quat, R3, R3, R3])\n",
    "\n",
    "G1 = ca.SX.sym('G1', 16)\n",
    "G2 = ca.SX.sym('G2', 16)"
   ]
  },
  {
   "cell_type": "code",
   "execution_count": null,
   "metadata": {},
   "outputs": [],
   "source": [
    "SemiDirectProduct()"
   ]
  },
  {
   "cell_type": "code",
   "execution_count": 4,
   "metadata": {},
   "outputs": [
    {
     "ename": "RuntimeError",
     "evalue": ".../casadi/core/sparsity.cpp:412: Assertion \"x.size2()==y.size1()\" failed:\nMatrix product with incompatible dimensions. Lhs is 7x1 and rhs is 7x1.",
     "output_type": "error",
     "traceback": [
      "\u001b[0;31m---------------------------------------------------------------------------\u001b[0m",
      "\u001b[0;31mRuntimeError\u001b[0m                              Traceback (most recent call last)",
      "Cell \u001b[0;32mIn[4], line 1\u001b[0m\n\u001b[0;32m----> 1\u001b[0m G\u001b[39m.\u001b[39;49mproduct(G1, G2)\n",
      "File \u001b[0;32m~/work/ws/src/pyecca/notebooks/../pyecca/lie/product.py:125\u001b[0m, in \u001b[0;36mDirectProduct.product\u001b[0;34m(self, a, b)\u001b[0m\n\u001b[1;32m    122\u001b[0m \u001b[39massert\u001b[39;00m a\u001b[39m.\u001b[39mshape[\u001b[39m0\u001b[39m] \u001b[39m==\u001b[39m \u001b[39mself\u001b[39m\u001b[39m.\u001b[39mgroup_params\n\u001b[1;32m    123\u001b[0m \u001b[39massert\u001b[39;00m b\u001b[39m.\u001b[39mshape[\u001b[39m0\u001b[39m] \u001b[39m==\u001b[39m \u001b[39mself\u001b[39m\u001b[39m.\u001b[39mgroup_params\n\u001b[1;32m    124\u001b[0m \u001b[39mreturn\u001b[39;00m ca\u001b[39m.\u001b[39mvertcat(\n\u001b[0;32m--> 125\u001b[0m     \u001b[39m*\u001b[39m[\n\u001b[1;32m    126\u001b[0m         g\u001b[39m.\u001b[39mproduct(\u001b[39mself\u001b[39m\u001b[39m.\u001b[39msubgroup(a, i), \u001b[39mself\u001b[39m\u001b[39m.\u001b[39msubgroup(b, i))\n\u001b[1;32m    127\u001b[0m         \u001b[39mfor\u001b[39;00m i, g \u001b[39min\u001b[39;00m \u001b[39menumerate\u001b[39m(\u001b[39mself\u001b[39m\u001b[39m.\u001b[39mgroups)\n\u001b[1;32m    128\u001b[0m     ]\n\u001b[1;32m    129\u001b[0m )\n",
      "File \u001b[0;32m~/work/ws/src/pyecca/notebooks/../pyecca/lie/product.py:126\u001b[0m, in \u001b[0;36m<listcomp>\u001b[0;34m(.0)\u001b[0m\n\u001b[1;32m    122\u001b[0m \u001b[39massert\u001b[39;00m a\u001b[39m.\u001b[39mshape[\u001b[39m0\u001b[39m] \u001b[39m==\u001b[39m \u001b[39mself\u001b[39m\u001b[39m.\u001b[39mgroup_params\n\u001b[1;32m    123\u001b[0m \u001b[39massert\u001b[39;00m b\u001b[39m.\u001b[39mshape[\u001b[39m0\u001b[39m] \u001b[39m==\u001b[39m \u001b[39mself\u001b[39m\u001b[39m.\u001b[39mgroup_params\n\u001b[1;32m    124\u001b[0m \u001b[39mreturn\u001b[39;00m ca\u001b[39m.\u001b[39mvertcat(\n\u001b[1;32m    125\u001b[0m     \u001b[39m*\u001b[39m[\n\u001b[0;32m--> 126\u001b[0m         g\u001b[39m.\u001b[39;49mproduct(\u001b[39mself\u001b[39;49m\u001b[39m.\u001b[39;49msubgroup(a, i), \u001b[39mself\u001b[39;49m\u001b[39m.\u001b[39;49msubgroup(b, i))\n\u001b[1;32m    127\u001b[0m         \u001b[39mfor\u001b[39;00m i, g \u001b[39min\u001b[39;00m \u001b[39menumerate\u001b[39m(\u001b[39mself\u001b[39m\u001b[39m.\u001b[39mgroups)\n\u001b[1;32m    128\u001b[0m     ]\n\u001b[1;32m    129\u001b[0m )\n",
      "File \u001b[0;32m~/work/ws/src/pyecca/notebooks/../pyecca/lie/se3.py:114\u001b[0m, in \u001b[0;36m_SE3.product\u001b[0;34m(self, a, b)\u001b[0m\n\u001b[1;32m    112\u001b[0m \u001b[39massert\u001b[39;00m b\u001b[39m.\u001b[39mshape \u001b[39m==\u001b[39m (n, \u001b[39m1\u001b[39m) \u001b[39mor\u001b[39;00m b\u001b[39m.\u001b[39mshape \u001b[39m==\u001b[39m (n,)\n\u001b[1;32m    113\u001b[0m R \u001b[39m=\u001b[39m \u001b[39mself\u001b[39m\u001b[39m.\u001b[39mSO3\u001b[39m.\u001b[39mgroup_params\n\u001b[0;32m--> 114\u001b[0m \u001b[39mreturn\u001b[39;00m a \u001b[39m@\u001b[39;49m b\n",
      "File \u001b[0;32m~/.local/lib/python3.10/site-packages/casadi/casadi.py:6105\u001b[0m, in \u001b[0;36mGenericExpressionCommon.__matmul__\u001b[0;34m(x, y)\u001b[0m\n\u001b[0;32m-> 6105\u001b[0m \u001b[39mdef\u001b[39;00m \u001b[39m__matmul__\u001b[39m(x, y): \u001b[39mreturn\u001b[39;00m _casadi\u001b[39m.\u001b[39;49mmtimes(x, y)\n",
      "\u001b[0;31mRuntimeError\u001b[0m: .../casadi/core/sparsity.cpp:412: Assertion \"x.size2()==y.size1()\" failed:\nMatrix product with incompatible dimensions. Lhs is 7x1 and rhs is 7x1."
     ]
    }
   ],
   "source": [
    "G.product(G1, G2)"
   ]
  },
  {
   "cell_type": "code",
   "execution_count": 23,
   "metadata": {},
   "outputs": [
    {
     "data": {
      "text/plain": [
       "SX([G1_0, G1_1, G1_2, G1_3, G1_4, G1_5, G1_6])"
      ]
     },
     "execution_count": 23,
     "metadata": {},
     "output_type": "execute_result"
    }
   ],
   "source": [
    "G.subgroup(G1, 0)"
   ]
  },
  {
   "cell_type": "code",
   "execution_count": 24,
   "metadata": {},
   "outputs": [
    {
     "data": {
      "text/plain": [
       "SX([G1_7, G1_8, G1_9])"
      ]
     },
     "execution_count": 24,
     "metadata": {},
     "output_type": "execute_result"
    }
   ],
   "source": [
    "G.subgroup(G1, 1)"
   ]
  },
  {
   "cell_type": "code",
   "execution_count": 25,
   "metadata": {},
   "outputs": [
    {
     "data": {
      "text/plain": [
       "SX([G1_10, G1_11, G1_12])"
      ]
     },
     "execution_count": 25,
     "metadata": {},
     "output_type": "execute_result"
    }
   ],
   "source": [
    "G.subgroup(G1, 2)"
   ]
  },
  {
   "cell_type": "code",
   "execution_count": 26,
   "metadata": {},
   "outputs": [
    {
     "data": {
      "text/plain": [
       "SX([G1_13, G1_14, G1_15])"
      ]
     },
     "execution_count": 26,
     "metadata": {},
     "output_type": "execute_result"
    }
   ],
   "source": [
    "G.subgroup(G1, 3)"
   ]
  },
  {
   "cell_type": "code",
   "execution_count": 33,
   "metadata": {},
   "outputs": [
    {
     "name": "stdout",
     "output_type": "stream",
     "text": [
      "0 <pyecca.lie.se3._SE3 object at 0x7fbdd8927a30> (4, 4)\n"
     ]
    },
    {
     "ename": "AssertionError",
     "evalue": "",
     "output_type": "error",
     "traceback": [
      "\u001b[0;31m---------------------------------------------------------------------------\u001b[0m",
      "\u001b[0;31mAssertionError\u001b[0m                            Traceback (most recent call last)",
      "Cell \u001b[0;32mIn[33], line 3\u001b[0m\n\u001b[1;32m      1\u001b[0m \u001b[39mfor\u001b[39;00m i, g \u001b[39min\u001b[39;00m \u001b[39menumerate\u001b[39m(G\u001b[39m.\u001b[39mgroups):\n\u001b[1;32m      2\u001b[0m     \u001b[39mprint\u001b[39m(i, g, g\u001b[39m.\u001b[39mgroup_shape)\n\u001b[0;32m----> 3\u001b[0m     g\u001b[39m.\u001b[39;49mproduct(G\u001b[39m.\u001b[39;49msubgroup(G1, i), G\u001b[39m.\u001b[39;49msubgroup(G2, i))\n",
      "File \u001b[0;32m~/work/ws/src/pyecca/notebooks/../pyecca/lie/se3.py:110\u001b[0m, in \u001b[0;36m_SE3.product\u001b[0;34m(self, a, b)\u001b[0m\n\u001b[1;32m    109\u001b[0m \u001b[39mdef\u001b[39;00m \u001b[39mproduct\u001b[39m(\u001b[39mself\u001b[39m, a, b):\n\u001b[0;32m--> 110\u001b[0m     \u001b[39mself\u001b[39;49m\u001b[39m.\u001b[39;49mcheck_group_shape(a)\n\u001b[1;32m    111\u001b[0m     \u001b[39mself\u001b[39m\u001b[39m.\u001b[39mcheck_group_shape(b)\n\u001b[1;32m    112\u001b[0m     \u001b[39mreturn\u001b[39;00m a \u001b[39m@\u001b[39m b\n",
      "File \u001b[0;32m~/work/ws/src/pyecca/notebooks/../pyecca/lie/matrix_lie_group.py:12\u001b[0m, in \u001b[0;36mMatrixLieGroup.check_group_shape\u001b[0;34m(self, a)\u001b[0m\n\u001b[1;32m     11\u001b[0m \u001b[39mdef\u001b[39;00m \u001b[39mcheck_group_shape\u001b[39m(\u001b[39mself\u001b[39m, a):\n\u001b[0;32m---> 12\u001b[0m     \u001b[39massert\u001b[39;00m a\u001b[39m.\u001b[39mshape \u001b[39m==\u001b[39m \u001b[39mself\u001b[39m\u001b[39m.\u001b[39mgroup_shape \u001b[39mor\u001b[39;00m a\u001b[39m.\u001b[39mshape \u001b[39m==\u001b[39m (\u001b[39mself\u001b[39m\u001b[39m.\u001b[39mgroup_shape[\u001b[39m0\u001b[39m],)\n",
      "\u001b[0;31mAssertionError\u001b[0m: "
     ]
    }
   ],
   "source": [
    "for i, g in enumerate(G.groups):\n",
    "    print(i, g, g.group_shape)\n",
    "    g.product(G.subgroup(G1, i), G.subgroup(G2, i))"
   ]
  },
  {
   "cell_type": "code",
   "execution_count": 32,
   "metadata": {},
   "outputs": [
    {
     "data": {
      "text/plain": [
       "SX([G1_0, G1_1, G1_2, G1_3, G1_4, G1_5, G1_6])"
      ]
     },
     "execution_count": 32,
     "metadata": {},
     "output_type": "execute_result"
    }
   ],
   "source": [
    "G.subgroup(G1, 0)"
   ]
  },
  {
   "cell_type": "code",
   "execution_count": null,
   "metadata": {},
   "outputs": [],
   "source": []
  }
 ],
 "metadata": {
  "kernelspec": {
   "display_name": "Python 3",
   "language": "python",
   "name": "python3"
  },
  "language_info": {
   "codemirror_mode": {
    "name": "ipython",
    "version": 3
   },
   "file_extension": ".py",
   "mimetype": "text/x-python",
   "name": "python",
   "nbconvert_exporter": "python",
   "pygments_lexer": "ipython3",
   "version": "3.10.6"
  },
  "orig_nbformat": 4,
  "vscode": {
   "interpreter": {
    "hash": "31f2aee4e71d21fbe5cf8b01ff0e069b9275f58929596ceb00d14d90e3e16cd6"
   }
  }
 },
 "nbformat": 4,
 "nbformat_minor": 2
}
