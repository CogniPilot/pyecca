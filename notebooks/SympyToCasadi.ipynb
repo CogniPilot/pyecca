{
 "cells": [
  {
   "cell_type": "code",
   "execution_count": 1,
   "id": "f44b30dc-1a0c-4c11-9463-9f5aa629636c",
   "metadata": {},
   "outputs": [],
   "source": [
    "import sympy\n",
    "import casadi as ca\n",
    "import numpy as np"
   ]
  },
  {
   "cell_type": "code",
   "execution_count": 2,
   "id": "ba943597-708f-4653-a6b8-79e554e64826",
   "metadata": {},
   "outputs": [],
   "source": [
    "class SympyToCasadi:\n",
    "    \n",
    "    def __init__(self):\n",
    "        self.symbols = {}\n",
    "        \n",
    "    def parse(self, f, depth=0, cse=False, verbose=False):\n",
    "        prs = lambda f: self.parse(f, depth=depth+1, cse=False, verbose=verbose)\n",
    "        f_type = type(f)\n",
    "        if verbose:\n",
    "            print('-'*depth, f, 'type', f_type)\n",
    "        if cse:\n",
    "            cse_defs, cse_exprs = sympy.cse(f)\n",
    "            assert len(cse_exprs) == 1\n",
    "            ca_cse_defs = {}\n",
    "            for symbol, subexpr in reversed(cse_defs):\n",
    "                ca_cse_defs[prs(symbol)] = prs(subexpr)\n",
    "            f_ca = prs(cse_exprs[0])\n",
    "            for k, v in ca_cse_defs.items():\n",
    "                f_ca = ca.substitute(f_ca, k, v)\n",
    "            for symbol, subexpr in reversed(cse_defs):\n",
    "                if str(symbol) in self.symbols:\n",
    "                    self.symbols.pop(str(symbol))\n",
    "            return f_ca\n",
    "        if f_type == sympy.core.add.Add:\n",
    "            s = 0\n",
    "            for arg in f.args:\n",
    "                s += prs(arg)\n",
    "            return s\n",
    "        elif f_type == sympy.core.mul.Mul:\n",
    "            prod = 1\n",
    "            for arg in f.args:\n",
    "                prod *= prs(arg)\n",
    "            return prod\n",
    "        elif f_type == sympy.core.numbers.Integer:\n",
    "            return int(f)\n",
    "        elif f_type == sympy.core.power.Pow:\n",
    "            base, power = f.args\n",
    "            base_ca = prs(base)\n",
    "            if type(power) == sympy.core.numbers.Half:\n",
    "                return ca.sqrt(base_ca)\n",
    "            else:\n",
    "                return base_ca**prs(power)\n",
    "        elif f_type == sympy.core.symbol.Symbol:\n",
    "            if str(f) not in self.symbols:\n",
    "                self.symbols[str(f)] = ca.SX.sym(str(f))\n",
    "            return self.symbols[str(f)]\n",
    "        elif f_type == sympy.matrices.dense.MutableDenseMatrix:\n",
    "            mat = ca.SX(f.shape[0], f.shape[1])\n",
    "            for i in range(f.shape[0]):\n",
    "                for  j in range(f.shape[1]):\n",
    "                    mat[i, j] = prs(f[i, j])\n",
    "            return mat\n",
    "        elif f_type == sympy.core.numbers.One:\n",
    "            return 1\n",
    "        elif f_type == sympy.core.numbers.Zero:\n",
    "            return 0\n",
    "        elif f_type == sympy.core.numbers.NegativeOne:\n",
    "            return -1\n",
    "        elif f_type == sympy.core.numbers.Half:\n",
    "            return 0.5\n",
    "        elif str(f_type) == 'sin':\n",
    "            return ca.sin(prs(f.args[0]))\n",
    "        elif str(f_type) == 'cos':\n",
    "            return ca.cos(prs(f.args[0]))\n",
    "        else:\n",
    "            print('unhandled type', type(f), f)"
   ]
  },
  {
   "cell_type": "code",
   "execution_count": 3,
   "id": "45042c33-3bda-4fa7-8dee-6d3c86317ab2",
   "metadata": {},
   "outputs": [
    {
     "data": {
      "text/plain": [
       "SX(@1=2, \n",
       "[[sin(x), (@1*sq(x)), ((4*sq(x))*sin(x))], \n",
       " [(1+x), (x*cos(x)), ((@1*sq(x))+(3/x))], \n",
       " [(@1-x), x, sqrt(x)]])"
      ]
     },
     "execution_count": 3,
     "metadata": {},
     "output_type": "execute_result"
    }
   ],
   "source": [
    "x = sympy.symbols('x')\n",
    "A = sympy.Matrix([\n",
    "    [sympy.sin(x), 2*x**2, 4*x**2*sympy.sin(x)],\n",
    "    [1 + x, x*sympy.cos(x), 2*x**2 + 3/x],\n",
    "    [2 - x, x, sympy.sqrt(x)]])\n",
    "A\n",
    "parser = SympyToCasadi()\n",
    "f_ca = parser.parse(A)\n",
    "f_ca"
   ]
  },
  {
   "cell_type": "code",
   "execution_count": 4,
   "id": "25aa8b2c-1606-4c14-8812-d15cb71be40b",
   "metadata": {},
   "outputs": [
    {
     "data": {
      "text/plain": [
       "SX(@1=sin(x), @2=2, @3=sq(x), @4=(@2*@3), \n",
       "[[@1, @4, ((4*@1)*@3)], \n",
       " [(1+x), (x*cos(x)), (@4+(3/x))], \n",
       " [(@2-x), x, sqrt(x)]])"
      ]
     },
     "execution_count": 4,
     "metadata": {},
     "output_type": "execute_result"
    }
   ],
   "source": [
    "f_ca = parser.parse(A, cse=True)\n",
    "f_ca"
   ]
  },
  {
   "cell_type": "code",
   "execution_count": 5,
   "id": "1282ae21-b3f5-4ff0-8c8a-ac0bb67ddbbf",
   "metadata": {},
   "outputs": [
    {
     "data": {
      "text/plain": [
       "{'x': SX(x)}"
      ]
     },
     "execution_count": 5,
     "metadata": {},
     "output_type": "execute_result"
    }
   ],
   "source": [
    "parser.symbols"
   ]
  },
  {
   "cell_type": "code",
   "execution_count": 6,
   "id": "9fd3bbcb-5e3f-47f9-874c-f7a98b9fbbee",
   "metadata": {},
   "outputs": [
    {
     "data": {
      "text/latex": [
       "$\\displaystyle \\left[\\begin{matrix}0 & 0 & 0\\\\0 & 0 & 0\\\\0 & 0 & 0\\end{matrix}\\right]$"
      ],
      "text/plain": [
       "Matrix([\n",
       "[0, 0, 0],\n",
       "[0, 0, 0],\n",
       "[0, 0, 0]])"
      ]
     },
     "execution_count": 6,
     "metadata": {},
     "output_type": "execute_result"
    }
   ],
   "source": [
    "f_eval = ca.Function('f', [parser.symbols['x']], [f_ca]) \n",
    "\n",
    "np.array(f_eval(1)) - sympy.N(A.subs(x, 1))"
   ]
  }
 ],
 "metadata": {
  "kernelspec": {
   "display_name": "Python 3 (ipykernel)",
   "language": "python",
   "name": "python3"
  },
  "language_info": {
   "codemirror_mode": {
    "name": "ipython",
    "version": 3
   },
   "file_extension": ".py",
   "mimetype": "text/x-python",
   "name": "python",
   "nbconvert_exporter": "python",
   "pygments_lexer": "ipython3",
   "version": "3.10.5"
  }
 },
 "nbformat": 4,
 "nbformat_minor": 5
}
