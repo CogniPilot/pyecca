{
 "cells": [
  {
   "cell_type": "code",
   "execution_count": 1,
   "metadata": {},
   "outputs": [],
   "source": [
    "%load_ext autoreload\n",
    "\n",
    "%autoreload 2\n",
    "import sys\n",
    "sys.path.insert(0, '.')\n",
    "from lie.r import LieGroup_R\n",
    "from lie.so2 import LieGroup_SO2\n",
    "import casadi as ca"
   ]
  },
  {
   "cell_type": "code",
   "execution_count": 2,
   "metadata": {},
   "outputs": [
    {
     "data": {
      "text/plain": [
       "SX([G1_0, G1_1, G1_2, G1_3, G1_4, G1_5])"
      ]
     },
     "execution_count": 2,
     "metadata": {},
     "output_type": "execute_result"
    }
   ],
   "source": [
    "g1 = ca.SX.sym('G1', 6)\n",
    "g2 = ca.SX.sym('G2', 6)\n",
    "\n",
    "G1 = LieGroup_R(6, g1)\n",
    "G2 = LieGroup_R(6, g2)\n",
    "\n",
    "\n",
    "G1.log()"
   ]
  },
  {
   "cell_type": "code",
   "execution_count": 12,
   "metadata": {},
   "outputs": [
    {
     "data": {
      "text/plain": [
       "SX(\n",
       "[[cos(p3), (-sin(p3))], \n",
       " [sin(p3), cos(p3)]])"
      ]
     },
     "execution_count": 12,
     "metadata": {},
     "output_type": "execute_result"
    }
   ],
   "source": [
    "p3 = ca.SX.sym('p3')\n",
    "G3 = LieGroup_SO2(p3)\n",
    "G3.to_matrix_lie_group()"
   ]
  },
  {
   "cell_type": "code",
   "execution_count": 3,
   "metadata": {},
   "outputs": [
    {
     "data": {
      "text/plain": [
       "SX([G1_0, G1_1, G1_2, G1_3, G1_4, G1_5])"
      ]
     },
     "execution_count": 3,
     "metadata": {},
     "output_type": "execute_result"
    }
   ],
   "source": [
    "ca.SX(ca.SX(g1))"
   ]
  },
  {
   "cell_type": "code",
   "execution_count": 4,
   "metadata": {},
   "outputs": [
    {
     "data": {
      "text/plain": [
       "SX(@1=1, \n",
       "[[@1, 00, 00, 00, 00, 00, (G2_0+G1_0)], \n",
       " [00, @1, 00, 00, 00, 00, (G2_1+G1_1)], \n",
       " [00, 00, @1, 00, 00, 00, (G2_2+G1_2)], \n",
       " [00, 00, 00, @1, 00, 00, (G2_3+G1_3)], \n",
       " [00, 00, 00, 00, @1, 00, (G2_4+G1_4)], \n",
       " [00, 00, 00, 00, 00, @1, (G2_5+G1_5)], \n",
       " [00, 00, 00, 00, 00, 00, @1]])"
      ]
     },
     "execution_count": 4,
     "metadata": {},
     "output_type": "execute_result"
    }
   ],
   "source": [
    "G1.to_matrix_lie_group()@G2.to_matrix_lie_group()"
   ]
  },
  {
   "cell_type": "code",
   "execution_count": 5,
   "metadata": {},
   "outputs": [
    {
     "data": {
      "text/plain": [
       "SX(\n",
       "[[00, 00, 00, 00, 00, 00, G1_0], \n",
       " [00, 00, 00, 00, 00, 00, G1_1], \n",
       " [00, 00, 00, 00, 00, 00, G1_2], \n",
       " [00, 00, 00, 00, 00, 00, G1_3], \n",
       " [00, 00, 00, 00, 00, 00, G1_4], \n",
       " [00, 00, 00, 00, 00, 00, G1_5], \n",
       " [00, 00, 00, 00, 00, 00, 00]])"
      ]
     },
     "execution_count": 5,
     "metadata": {},
     "output_type": "execute_result"
    }
   ],
   "source": [
    "G1.log().wedge()"
   ]
  },
  {
   "cell_type": "code",
   "execution_count": 6,
   "metadata": {},
   "outputs": [
    {
     "data": {
      "text/plain": [
       "SX([G1_0, G1_1, G1_2, G1_3, G1_4, G1_5])"
      ]
     },
     "execution_count": 6,
     "metadata": {},
     "output_type": "execute_result"
    }
   ],
   "source": [
    "G1.log().exp()"
   ]
  },
  {
   "cell_type": "code",
   "execution_count": 7,
   "metadata": {},
   "outputs": [
    {
     "data": {
      "text/plain": [
       "SX(1)"
      ]
     },
     "execution_count": 7,
     "metadata": {},
     "output_type": "execute_result"
    }
   ],
   "source": [
    "ca.logic_all(G2.log().exp() == G2)"
   ]
  },
  {
   "cell_type": "code",
   "execution_count": 8,
   "metadata": {},
   "outputs": [
    {
     "data": {
      "text/plain": [
       "SX(@1=1, \n",
       "[[@1, 00, 00, 00, 00, 00, G1_0], \n",
       " [00, @1, 00, 00, 00, 00, G1_1], \n",
       " [00, 00, @1, 00, 00, 00, G1_2], \n",
       " [00, 00, 00, @1, 00, 00, G1_3], \n",
       " [00, 00, 00, 00, @1, 00, G1_4], \n",
       " [00, 00, 00, 00, 00, @1, G1_5], \n",
       " [00, 00, 00, 00, 00, 00, @1]])"
      ]
     },
     "execution_count": 8,
     "metadata": {},
     "output_type": "execute_result"
    }
   ],
   "source": [
    "G1.to_matrix_lie_group()"
   ]
  },
  {
   "cell_type": "code",
   "execution_count": 14,
   "metadata": {},
   "outputs": [
    {
     "data": {
      "text/plain": [
       "SX([G1_0, G1_1, G1_2, G1_3, G1_4, G1_5])"
      ]
     },
     "execution_count": 14,
     "metadata": {},
     "output_type": "execute_result"
    }
   ],
   "source": [
    "G1.param"
   ]
  },
  {
   "cell_type": "code",
   "execution_count": 37,
   "metadata": {},
   "outputs": [
    {
     "data": {
      "text/plain": [
       "Function(f:(i0[6])->(o0[6]) SXFunction)"
      ]
     },
     "execution_count": 37,
     "metadata": {},
     "output_type": "execute_result"
    }
   ],
   "source": [
    "ca.Function('f', [g1], [G1.expr])"
   ]
  },
  {
   "cell_type": "code",
   "execution_count": 10,
   "metadata": {},
   "outputs": [
    {
     "data": {
      "text/plain": [
       "SX([(G1_0+G2_0), (G1_1+G2_1), (G1_2+G2_2), (G1_3+G2_3), (G1_4+G2_4), (G1_5+G2_5)])"
      ]
     },
     "execution_count": 10,
     "metadata": {},
     "output_type": "execute_result"
    }
   ],
   "source": [
    "G1 + G2"
   ]
  },
  {
   "cell_type": "code",
   "execution_count": 11,
   "metadata": {},
   "outputs": [
    {
     "data": {
      "text/plain": [
       "SX([00, 00, 00, 00, 00, 00])"
      ]
     },
     "execution_count": 11,
     "metadata": {},
     "output_type": "execute_result"
    }
   ],
   "source": [
    "G1."
   ]
  },
  {
   "cell_type": "code",
   "execution_count": null,
   "metadata": {},
   "outputs": [],
   "source": []
  }
 ],
 "metadata": {
  "kernelspec": {
   "display_name": "Python 3",
   "language": "python",
   "name": "python3"
  },
  "language_info": {
   "codemirror_mode": {
    "name": "ipython",
    "version": 3
   },
   "file_extension": ".py",
   "mimetype": "text/x-python",
   "name": "python",
   "nbconvert_exporter": "python",
   "pygments_lexer": "ipython3",
   "version": "3.10.6"
  },
  "orig_nbformat": 4,
  "vscode": {
   "interpreter": {
    "hash": "31f2aee4e71d21fbe5cf8b01ff0e069b9275f58929596ceb00d14d90e3e16cd6"
   }
  }
 },
 "nbformat": 4,
 "nbformat_minor": 2
}
