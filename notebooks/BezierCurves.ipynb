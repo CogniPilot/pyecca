{
 "cells": [
  {
   "cell_type": "code",
   "execution_count": 88,
   "metadata": {},
   "outputs": [],
   "source": [
    "import numpy as np\n",
    "import sympy\n",
    "from sympy import symbols, factorial, Function, summation, binomial, product\n",
    "\n",
    "n, i, j, m = symbols('n, i, j, m', integer=True, real=True)\n",
    "\n",
    "t = symbols('t')\n",
    "P = Function('P')\n",
    "\n",
    "B = summation(binomial(n, i)*(1 - t)**(n-i)*t**i*P(i), (i, 0, n))"
   ]
  },
  {
   "cell_type": "code",
   "execution_count": 89,
   "metadata": {},
   "outputs": [
    {
     "data": {
      "text/latex": [
       "$\\displaystyle \\sum_{i=0}^{n} t^{i} \\left(1 - t\\right)^{- i + n} P{\\left(i \\right)} {\\binom{n}{i}}$"
      ],
      "text/plain": [
       "Sum(t**i*(1 - t)**(-i + n)*P(i)*binomial(n, i), (i, 0, n))"
      ]
     },
     "execution_count": 89,
     "metadata": {},
     "output_type": "execute_result"
    }
   ],
   "source": [
    "def bernstein(i, n, t):\n",
    "    \"bernstein basis polynomial\"\n",
    "    return binomial(n, i)*(1 - t)**(n-i)*t**i\n",
    "\n",
    "def bezier(i, n, t, P):\n",
    "    return summation(bernstein(i, n, t)*P(i), (i, 0, n))\n",
    "\n",
    "\n",
    "bezier(i, n, t, P)"
   ]
  },
  {
   "cell_type": "code",
   "execution_count": 90,
   "metadata": {},
   "outputs": [
    {
     "data": {
      "text/latex": [
       "$\\displaystyle n \\sum_{i=0}^{n - 1} t^{i} \\left(1 - t\\right)^{- i + n - 1} \\left(- P{\\left(i \\right)} + P{\\left(i + 1 \\right)}\\right) {\\binom{n - 1}{i}}$"
      ],
      "text/plain": [
       "n*Sum(t**i*(1 - t)**(-i + n - 1)*(-P(i) + P(i + 1))*binomial(n - 1, i), (i, 0, n - 1))"
      ]
     },
     "execution_count": 90,
     "metadata": {},
     "output_type": "execute_result"
    }
   ],
   "source": [
    "n*summation(bernstein(i, n-1, t)*(P(i+1) - P(i)), (i, 0, n-1))"
   ]
  },
  {
   "cell_type": "code",
   "execution_count": 91,
   "metadata": {},
   "outputs": [],
   "source": [
    "class Bezier:\n",
    "    \n",
    "    def __init__(self, P : list[sympy.Matrix]):\n",
    "        self.P = P\n",
    "        self.n = len(P)\n",
    "    \n",
    "    def eval(self, t):\n",
    "        P = self.P\n",
    "        n = self.n\n",
    "        B = None\n",
    "        for i in range(self.n):\n",
    "            Bi = bernstein(i, n, t)*P[i]\n",
    "            if B is None:\n",
    "                B = Bi\n",
    "            else:\n",
    "                B += Bi        \n",
    "        return B\n",
    "\n",
    "    def derivative(self):\n",
    "        deltaP = [\n",
    "            self.P[i] - self.P[i-1]\n",
    "            for i in range(1, self.n)]\n",
    "        return Bezier(P=deltaP)\n",
    "    \n",
    "    def __repr__(self):\n",
    "        return repr(self.P)"
   ]
  },
  {
   "cell_type": "code",
   "execution_count": 92,
   "metadata": {},
   "outputs": [
    {
     "data": {
      "text/plain": [
       "[P_0, P_1, P_2]"
      ]
     },
     "execution_count": 92,
     "metadata": {},
     "output_type": "execute_result"
    }
   ],
   "source": [
    "P = [ sympy.MatrixSymbol(f'P_{i}', 2, 1) for i in range(3) ]\n",
    "pos = Bezier(P)\n",
    "vel = pos.derivative()\n",
    "acc = vel.derivative()\n",
    "P"
   ]
  },
  {
   "cell_type": "code",
   "execution_count": 93,
   "metadata": {},
   "outputs": [
    {
     "ename": "TypeError",
     "evalue": "unhashable type: 'MutableDenseMatrix'",
     "output_type": "error",
     "traceback": [
      "\u001b[0;31m---------------------------------------------------------------------------\u001b[0m",
      "\u001b[0;31mTypeError\u001b[0m                                 Traceback (most recent call last)",
      "Cell \u001b[0;32mIn[93], line 1\u001b[0m\n\u001b[0;32m----> 1\u001b[0m acc\u001b[39m.\u001b[39meval(t)\u001b[39m.\u001b[39msubs({P[\u001b[39m0\u001b[39m], sympy\u001b[39m.\u001b[39mMatrix([\u001b[39m1\u001b[39m, \u001b[39m2\u001b[39m])})\n",
      "\u001b[0;31mTypeError\u001b[0m: unhashable type: 'MutableDenseMatrix'"
     ]
    }
   ],
   "source": [
    "acc.eval(t).subs({P[0], sympy.Matrix([1, 2])})"
   ]
  },
  {
   "cell_type": "code",
   "execution_count": 32,
   "metadata": {},
   "outputs": [
    {
     "data": {
      "text/latex": [
       "$\\displaystyle P\\left[:, :1\\right] - P\\left[:, 1:2\\right]$"
      ],
      "text/plain": [
       "P[:, :1] - P[:, 1:2]"
      ]
     },
     "execution_count": 32,
     "metadata": {},
     "output_type": "execute_result"
    }
   ],
   "source": [
    "P[:, 0] - P[:, 1]"
   ]
  },
  {
   "cell_type": "code",
   "execution_count": 20,
   "metadata": {},
   "outputs": [
    {
     "data": {
      "text/latex": [
       "$\\displaystyle \\left[\\begin{matrix}- 7 t^{3} + 3 t^{2} + 3 t + 1\\\\- 7 t^{3} + 3 t^{2} + 3 t + 1\\end{matrix}\\right]$"
      ],
      "text/plain": [
       "Matrix([\n",
       "[-7*t**3 + 3*t**2 + 3*t + 1],\n",
       "[-7*t**3 + 3*t**2 + 3*t + 1]])"
      ]
     },
     "execution_count": 20,
     "metadata": {},
     "output_type": "execute_result"
    }
   ],
   "source": [
    "T = 1\n",
    "T_0 = 0\n",
    "beta = (t - T_0)/T\n",
    "\n",
    "pos.eval(beta).applyfunc(lambda x: x.simplify())"
   ]
  },
  {
   "cell_type": "code",
   "execution_count": 23,
   "metadata": {},
   "outputs": [
    {
     "ename": "TypeError",
     "evalue": "'MutableDenseMatrix' object is not callable",
     "output_type": "error",
     "traceback": [
      "\u001b[0;31m---------------------------------------------------------------------------\u001b[0m",
      "\u001b[0;31mTypeError\u001b[0m                                 Traceback (most recent call last)",
      "Cell \u001b[0;32mIn[23], line 1\u001b[0m\n\u001b[0;32m----> 1\u001b[0m C \u001b[39m=\u001b[39m sympy\u001b[39m.\u001b[39mfactorial(n)\u001b[39m/\u001b[39msympy\u001b[39m.\u001b[39mfactorial(n \u001b[39m-\u001b[39m j)\u001b[39m*\u001b[39msummation((\u001b[39m-\u001b[39m\u001b[39m1\u001b[39m)\u001b[39m*\u001b[39m\u001b[39m*\u001b[39m(i \u001b[39m+\u001b[39m j)\u001b[39m*\u001b[39mP(i)\u001b[39m/\u001b[39m(factorial(i)\u001b[39m*\u001b[39mfactorial(j \u001b[39m-\u001b[39m i)), (i, \u001b[39m0\u001b[39m, j))\n\u001b[1;32m      2\u001b[0m n0 \u001b[39m=\u001b[39m \u001b[39m6\u001b[39m\n\u001b[1;32m      4\u001b[0m P_vect \u001b[39m=\u001b[39m sympy\u001b[39m.\u001b[39mMatrix([P(i) \u001b[39mfor\u001b[39;00m i \u001b[39min\u001b[39;00m \u001b[39mrange\u001b[39m(n0)])\n",
      "\u001b[0;31mTypeError\u001b[0m: 'MutableDenseMatrix' object is not callable"
     ]
    }
   ],
   "source": [
    "C = sympy.factorial(n)/sympy.factorial(n - j)*summation((-1)**(i + j)*P(i)/(factorial(i)*factorial(j - i)), (i, 0, j))\n",
    "n0 = 6\n",
    "\n",
    "P_vect = sympy.Matrix([P(i) for i in range(n0)])\n",
    "\n",
    "C_matrix = sympy.Matrix([C.subs({j: j0, n: n0}).doit() for j0 in range(n0)])\n",
    "C_matrix\n",
    "\n",
    "A = C_matrix.jacobian(P_vect)\n",
    "\n",
    "C_to_B = np.array(A.inv(), dtype=float)\n",
    "C_to_B"
   ]
  },
  {
   "cell_type": "code",
   "execution_count": 7,
   "metadata": {},
   "outputs": [],
   "source": [
    "import casadi as ca\n",
    "import numpy as np"
   ]
  },
  {
   "cell_type": "code",
   "execution_count": 65,
   "metadata": {},
   "outputs": [],
   "source": [
    "def de_casteljau(t, coefs):\n",
    "    # https://en.wikipedia.org/wiki/De_Casteljau%27s_algorithm\n",
    "    n = coefs.shape[1]  # number of points\n",
    "    beta = ca.SX(coefs)\n",
    "    for j in range(1, n):\n",
    "        for k in range(n - j):\n",
    "            beta[:, k] = (1 - t) * beta[:, k] + t * beta[:, k + 1]\n",
    "    return beta[:, 0]\n",
    "\n",
    "def bezier_derivative(coefs):\n",
    "    n = coefs.shape[0]\n",
    "    coeffs_deriv = ca.SX(n, coefs.shape[1] - 1)\n",
    "    for i in range(n-1):\n",
    "        coeffs_deriv[:, i] = coefs[:, i + 1] - coefs[:, i]\n",
    "    return coeffs_deriv\n",
    "\n",
    "\n",
    "t = ca.SX.sym('t')\n",
    "P = ca.SX.sym('P', 1, 6)  # bezier position points\n",
    "P_dot = bezier_derivative(P) # bezier velocity points\n",
    "P_ddot = bezier_derivative(P_dot) # bezier accel points\n",
    "\n",
    "f_pos = ca.Function('f_pos', [t, P], [de_casteljau(t, P)], ['t', 'P'], ['B'])\n",
    "f_vel = ca.Function('f_vel', [t, P], [de_casteljau(t, P_dot)], ['t', 'P_dot'], ['B'])\n",
    "f_acc = ca.Function('f_acc', [t, P], [de_casteljau(t, P_ddot)], ['t', 'P_ddot'], ['B'])\n"
   ]
  },
  {
   "cell_type": "code",
   "execution_count": 86,
   "metadata": {},
   "outputs": [
    {
     "ename": "RuntimeError",
     "evalue": ".../casadi/core/function_internal.hpp:1257: Input 1 (P) has mismatching shape. Got 1-by-4. Allowed dimensions, in general, are:\n - The input dimension N-by-M (here 1-by-6)\n - A scalar, i.e. 1-by-1\n - M-by-N if N=1 or M=1 (i.e. a transposed vector)\n - N-by-M1 if K*M1=M for some K (argument repeated horizontally)\n - N-by-P*M, indicating evaluation with multiple arguments (P must be a multiple of 1 for consistency with previous inputs)",
     "output_type": "error",
     "traceback": [
      "\u001b[0;31m---------------------------------------------------------------------------\u001b[0m",
      "\u001b[0;31mRuntimeError\u001b[0m                              Traceback (most recent call last)",
      "Cell \u001b[0;32mIn[86], line 6\u001b[0m\n\u001b[1;32m      1\u001b[0m P0 \u001b[39m=\u001b[39m np\u001b[39m.\u001b[39marray([\n\u001b[1;32m      2\u001b[0m     [\u001b[39m1\u001b[39m, \u001b[39m2\u001b[39m, \u001b[39m5\u001b[39m, \u001b[39m6\u001b[39m]\n\u001b[1;32m      3\u001b[0m ])\n\u001b[0;32m----> 6\u001b[0m f_pos(\u001b[39m1\u001b[39;49m, P0)\n",
      "File \u001b[0;32m~/.local/lib/python3.10/site-packages/casadi/casadi.py:13462\u001b[0m, in \u001b[0;36mFunction.__call__\u001b[0;34m(self, *args, **kwargs)\u001b[0m\n\u001b[1;32m  13459\u001b[0m     \u001b[39mraise\u001b[39;00m \u001b[39mSyntaxError\u001b[39;00m(\u001b[39m'\u001b[39m\u001b[39mFunction evaluation requires all arguments to be named or none\u001b[39m\u001b[39m'\u001b[39m)\n\u001b[1;32m  13460\u001b[0m   \u001b[39mif\u001b[39;00m \u001b[39mlen\u001b[39m(args)\u001b[39m>\u001b[39m\u001b[39m0\u001b[39m:\n\u001b[1;32m  13461\u001b[0m \u001b[39m# Ordered inputs -> return tuple\u001b[39;00m\n\u001b[0;32m> 13462\u001b[0m     ret \u001b[39m=\u001b[39m \u001b[39mself\u001b[39;49m\u001b[39m.\u001b[39;49mcall(args)\n\u001b[1;32m  13463\u001b[0m     \u001b[39mif\u001b[39;00m \u001b[39mlen\u001b[39m(ret)\u001b[39m==\u001b[39m\u001b[39m0\u001b[39m:\n\u001b[1;32m  13464\u001b[0m       \u001b[39mreturn\u001b[39;00m \u001b[39mNone\u001b[39;00m\n",
      "File \u001b[0;32m~/.local/lib/python3.10/site-packages/casadi/casadi.py:12342\u001b[0m, in \u001b[0;36mFunction.call\u001b[0;34m(self, *args)\u001b[0m\n\u001b[1;32m  12274\u001b[0m \u001b[39mdef\u001b[39;00m \u001b[39mcall\u001b[39m(\u001b[39mself\u001b[39m, \u001b[39m*\u001b[39margs) \u001b[39m-\u001b[39m\u001b[39m>\u001b[39m \u001b[39m\"\u001b[39m\u001b[39mvoid\u001b[39m\u001b[39m\"\u001b[39m:\n\u001b[1;32m  12275\u001b[0m     \u001b[39m\"\"\"\u001b[39;00m\n\u001b[1;32m  12276\u001b[0m \u001b[39m      Generate a Jacobian function of output oind with respect to input iind.\u001b[39;00m\n\u001b[1;32m  12277\u001b[0m \n\u001b[0;32m   (...)\u001b[0m\n\u001b[1;32m  12340\u001b[0m \n\u001b[1;32m  12341\u001b[0m \u001b[39m    \"\"\"\u001b[39;00m\n\u001b[0;32m> 12342\u001b[0m     \u001b[39mreturn\u001b[39;00m _casadi\u001b[39m.\u001b[39;49mFunction_call(\u001b[39mself\u001b[39;49m, \u001b[39m*\u001b[39;49margs)\n",
      "\u001b[0;31mRuntimeError\u001b[0m: .../casadi/core/function_internal.hpp:1257: Input 1 (P) has mismatching shape. Got 1-by-4. Allowed dimensions, in general, are:\n - The input dimension N-by-M (here 1-by-6)\n - A scalar, i.e. 1-by-1\n - M-by-N if N=1 or M=1 (i.e. a transposed vector)\n - N-by-M1 if K*M1=M for some K (argument repeated horizontally)\n - N-by-P*M, indicating evaluation with multiple arguments (P must be a multiple of 1 for consistency with previous inputs)"
     ]
    }
   ],
   "source": [
    "P0 = np.array([\n",
    "    [1, 2, 5, 6]\n",
    "])\n",
    "\n",
    "\n",
    "f_pos(1, P0)"
   ]
  },
  {
   "cell_type": "code",
   "execution_count": 87,
   "metadata": {},
   "outputs": [
    {
     "ename": "RuntimeError",
     "evalue": ".../casadi/core/function_internal.hpp:1257: Input 1 (P) has mismatching shape. Got 1-by-4. Allowed dimensions, in general, are:\n - The input dimension N-by-M (here 1-by-6)\n - A scalar, i.e. 1-by-1\n - M-by-N if N=1 or M=1 (i.e. a transposed vector)\n - N-by-M1 if K*M1=M for some K (argument repeated horizontally)\n - N-by-P*M, indicating evaluation with multiple arguments (P must be a multiple of 1 for consistency with previous inputs)",
     "output_type": "error",
     "traceback": [
      "\u001b[0;31m---------------------------------------------------------------------------\u001b[0m",
      "\u001b[0;31mRuntimeError\u001b[0m                              Traceback (most recent call last)",
      "Cell \u001b[0;32mIn[87], line 3\u001b[0m\n\u001b[1;32m      1\u001b[0m \u001b[39mimport\u001b[39;00m \u001b[39mmatplotlib\u001b[39;00m\u001b[39m.\u001b[39;00m\u001b[39mpyplot\u001b[39;00m \u001b[39mas\u001b[39;00m \u001b[39mplt\u001b[39;00m\n\u001b[1;32m      2\u001b[0m t \u001b[39m=\u001b[39m np\u001b[39m.\u001b[39mlinspace(\u001b[39m0\u001b[39m, \u001b[39m1\u001b[39m)\n\u001b[0;32m----> 3\u001b[0m f_pos_eval \u001b[39m=\u001b[39m np\u001b[39m.\u001b[39mhstack([ f_pos(ti, P0) \u001b[39mfor\u001b[39;00m ti \u001b[39min\u001b[39;00m t ])\u001b[39m.\u001b[39mT\n\u001b[1;32m      4\u001b[0m f_vel_eval \u001b[39m=\u001b[39m np\u001b[39m.\u001b[39mhstack([ f_vel(ti, P0) \u001b[39mfor\u001b[39;00m ti \u001b[39min\u001b[39;00m t ])\u001b[39m.\u001b[39mT\n\u001b[1;32m      5\u001b[0m f_acc_eval \u001b[39m=\u001b[39m np\u001b[39m.\u001b[39mhstack([ f_acc(ti, P0) \u001b[39mfor\u001b[39;00m ti \u001b[39min\u001b[39;00m t ])\u001b[39m.\u001b[39mT\n",
      "Cell \u001b[0;32mIn[87], line 3\u001b[0m, in \u001b[0;36m<listcomp>\u001b[0;34m(.0)\u001b[0m\n\u001b[1;32m      1\u001b[0m \u001b[39mimport\u001b[39;00m \u001b[39mmatplotlib\u001b[39;00m\u001b[39m.\u001b[39;00m\u001b[39mpyplot\u001b[39;00m \u001b[39mas\u001b[39;00m \u001b[39mplt\u001b[39;00m\n\u001b[1;32m      2\u001b[0m t \u001b[39m=\u001b[39m np\u001b[39m.\u001b[39mlinspace(\u001b[39m0\u001b[39m, \u001b[39m1\u001b[39m)\n\u001b[0;32m----> 3\u001b[0m f_pos_eval \u001b[39m=\u001b[39m np\u001b[39m.\u001b[39mhstack([ f_pos(ti, P0) \u001b[39mfor\u001b[39;00m ti \u001b[39min\u001b[39;00m t ])\u001b[39m.\u001b[39mT\n\u001b[1;32m      4\u001b[0m f_vel_eval \u001b[39m=\u001b[39m np\u001b[39m.\u001b[39mhstack([ f_vel(ti, P0) \u001b[39mfor\u001b[39;00m ti \u001b[39min\u001b[39;00m t ])\u001b[39m.\u001b[39mT\n\u001b[1;32m      5\u001b[0m f_acc_eval \u001b[39m=\u001b[39m np\u001b[39m.\u001b[39mhstack([ f_acc(ti, P0) \u001b[39mfor\u001b[39;00m ti \u001b[39min\u001b[39;00m t ])\u001b[39m.\u001b[39mT\n",
      "File \u001b[0;32m~/.local/lib/python3.10/site-packages/casadi/casadi.py:13462\u001b[0m, in \u001b[0;36mFunction.__call__\u001b[0;34m(self, *args, **kwargs)\u001b[0m\n\u001b[1;32m  13459\u001b[0m     \u001b[39mraise\u001b[39;00m \u001b[39mSyntaxError\u001b[39;00m(\u001b[39m'\u001b[39m\u001b[39mFunction evaluation requires all arguments to be named or none\u001b[39m\u001b[39m'\u001b[39m)\n\u001b[1;32m  13460\u001b[0m   \u001b[39mif\u001b[39;00m \u001b[39mlen\u001b[39m(args)\u001b[39m>\u001b[39m\u001b[39m0\u001b[39m:\n\u001b[1;32m  13461\u001b[0m \u001b[39m# Ordered inputs -> return tuple\u001b[39;00m\n\u001b[0;32m> 13462\u001b[0m     ret \u001b[39m=\u001b[39m \u001b[39mself\u001b[39;49m\u001b[39m.\u001b[39;49mcall(args)\n\u001b[1;32m  13463\u001b[0m     \u001b[39mif\u001b[39;00m \u001b[39mlen\u001b[39m(ret)\u001b[39m==\u001b[39m\u001b[39m0\u001b[39m:\n\u001b[1;32m  13464\u001b[0m       \u001b[39mreturn\u001b[39;00m \u001b[39mNone\u001b[39;00m\n",
      "File \u001b[0;32m~/.local/lib/python3.10/site-packages/casadi/casadi.py:12342\u001b[0m, in \u001b[0;36mFunction.call\u001b[0;34m(self, *args)\u001b[0m\n\u001b[1;32m  12274\u001b[0m \u001b[39mdef\u001b[39;00m \u001b[39mcall\u001b[39m(\u001b[39mself\u001b[39m, \u001b[39m*\u001b[39margs) \u001b[39m-\u001b[39m\u001b[39m>\u001b[39m \u001b[39m\"\u001b[39m\u001b[39mvoid\u001b[39m\u001b[39m\"\u001b[39m:\n\u001b[1;32m  12275\u001b[0m     \u001b[39m\"\"\"\u001b[39;00m\n\u001b[1;32m  12276\u001b[0m \u001b[39m      Generate a Jacobian function of output oind with respect to input iind.\u001b[39;00m\n\u001b[1;32m  12277\u001b[0m \n\u001b[0;32m   (...)\u001b[0m\n\u001b[1;32m  12340\u001b[0m \n\u001b[1;32m  12341\u001b[0m \u001b[39m    \"\"\"\u001b[39;00m\n\u001b[0;32m> 12342\u001b[0m     \u001b[39mreturn\u001b[39;00m _casadi\u001b[39m.\u001b[39;49mFunction_call(\u001b[39mself\u001b[39;49m, \u001b[39m*\u001b[39;49margs)\n",
      "\u001b[0;31mRuntimeError\u001b[0m: .../casadi/core/function_internal.hpp:1257: Input 1 (P) has mismatching shape. Got 1-by-4. Allowed dimensions, in general, are:\n - The input dimension N-by-M (here 1-by-6)\n - A scalar, i.e. 1-by-1\n - M-by-N if N=1 or M=1 (i.e. a transposed vector)\n - N-by-M1 if K*M1=M for some K (argument repeated horizontally)\n - N-by-P*M, indicating evaluation with multiple arguments (P must be a multiple of 1 for consistency with previous inputs)"
     ]
    }
   ],
   "source": [
    "import matplotlib.pyplot as plt\n",
    "t = np.linspace(0, 1)\n",
    "f_pos_eval = np.hstack([ f_pos(ti, P0) for ti in t ]).T\n",
    "f_vel_eval = np.hstack([ f_vel(ti, P0) for ti in t ]).T\n",
    "f_acc_eval = np.hstack([ f_acc(ti, P0) for ti in t ]).T\n",
    "\n",
    "plt.plot(t, f_pos_eval, label='pos')\n",
    "plt.plot(t, f_vel_eval, label='vel')\n",
    "plt.plot(t, f_acc_eval, label='acc')\n",
    "plt.legend()"
   ]
  },
  {
   "cell_type": "code",
   "execution_count": null,
   "metadata": {},
   "outputs": [],
   "source": []
  }
 ],
 "metadata": {
  "kernelspec": {
   "display_name": "Python 3",
   "language": "python",
   "name": "python3"
  },
  "language_info": {
   "codemirror_mode": {
    "name": "ipython",
    "version": 3
   },
   "file_extension": ".py",
   "mimetype": "text/x-python",
   "name": "python",
   "nbconvert_exporter": "python",
   "pygments_lexer": "ipython3",
   "version": "3.10.6 (main, Nov 14 2022, 16:10:14) [GCC 11.3.0]"
  },
  "orig_nbformat": 4,
  "vscode": {
   "interpreter": {
    "hash": "31f2aee4e71d21fbe5cf8b01ff0e069b9275f58929596ceb00d14d90e3e16cd6"
   }
  }
 },
 "nbformat": 4,
 "nbformat_minor": 2
}
