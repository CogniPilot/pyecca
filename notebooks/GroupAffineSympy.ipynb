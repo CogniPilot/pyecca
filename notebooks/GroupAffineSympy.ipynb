{
 "cells": [
  {
   "cell_type": "code",
   "execution_count": 1,
   "metadata": {},
   "outputs": [],
   "source": [
    "import sympy\n",
    "sympy.init_printing()"
   ]
  },
  {
   "cell_type": "markdown",
   "metadata": {},
   "source": [
    "One thing Casadi is not good at currently is simplification, we rely on Sympy to check that the group is affine."
   ]
  },
  {
   "cell_type": "code",
   "execution_count": 2,
   "metadata": {},
   "outputs": [],
   "source": [
    "def g_sym(name):\n",
    "    \"\"\"define the matrix lie group, inherits product from matrix\"\"\"\n",
    "    R = sympy.Matrix(sympy.symbols('R^{:s}_0:9'.format(name))).reshape(3, 3)\n",
    "    v = sympy.Matrix(sympy.symbols('v^{:s}_0:3'.format(name))).reshape(3, 1)\n",
    "    x = sympy.Matrix(sympy.symbols('x^{:s}_0:3'.format(name))).reshape(3, 1)\n",
    "    X = sympy.Matrix.vstack(sympy.Matrix.hstack(R, v, x),\n",
    "                        sympy.Matrix([0, 0, 0, 1, 0]).T,\n",
    "                        sympy.Matrix([0, 0, 0, 0, 1]).T)\n",
    "    return X\n",
    "\n",
    "def g_from_elements(R, v, x):\n",
    "    X = sympy.zeros(5, 5)\n",
    "    X[0:3, 0:3] = R\n",
    "    X[:3, 3] = v\n",
    "    X[:3, 4] = x\n",
    "    X[3, 3] = 1\n",
    "    X[4, 4] = 1\n",
    "    return X\n",
    "\n",
    "def g_inv(X):\n",
    "    R = X[0:3, 0:3]\n",
    "    v = X[:3, 3]\n",
    "    x = X[:3, 4]\n",
    "    # this is a brute force inverse so we can\n",
    "    # use this symbolicly for proofs, in actuality\n",
    "    # the inverse is the transpose\n",
    "    R_I = sympy.simplify(R.inv())\n",
    "    return g_from_elements(R_I, -R_I*v, -R_I*x)\n",
    "\n",
    "def skew(x):\n",
    "    \"\"\"skew matrix\"\"\"\n",
    "    M = sympy.zeros(3, 3)\n",
    "    M[0, 1] = -x[2]\n",
    "    M[0, 2] = x[1]\n",
    "    M[1, 0] = x[2]\n",
    "    M[1, 2] = -x[0]\n",
    "    M[2, 0] = -x[1]\n",
    "    M[2, 1] = x[0]\n",
    "    return M\n",
    "\n",
    "def l(X, u):\n",
    "    \"\"\"define the derivative of the group\"\"\"\n",
    "    g = sympy.Matrix(sympy.symbols('g_0:3'))\n",
    "    R = X[0:3, 0:3]\n",
    "    v = X[:3, 3]\n",
    "    res = sympy.zeros(5, 5)\n",
    "    res[:3, 3] = g\n",
    "    res[:3, 4] = v\n",
    "    return res\n",
    "\n",
    "def r(X, u):\n",
    "    \"\"\"define the derivative of the group\"\"\"\n",
    "    a = sympy.Matrix(u[0:3])\n",
    "    R = X[0:3, 0:3]\n",
    "    omega = sympy.Matrix(u[3:6])\n",
    "    res = sympy.zeros(5, 5)\n",
    "    res[:3, :3] = skew(omega)\n",
    "    res[:3, 3] = a\n",
    "    return res\n",
    "\n",
    "def f2(X, u):\n",
    "    \"\"\"define the derivative of the group\"\"\"\n",
    "    return l(X, u)*X + r(X, u)*X\n",
    "\n",
    "def f(X, u):\n",
    "    \"\"\"define the derivative of the group\"\"\"\n",
    "    R = X[0:3, 0:3]\n",
    "    g = sympy.Matrix(sympy.symbols('g_0:3'))\n",
    "    a = sympy.Matrix(u[0:3])\n",
    "    omega = sympy.Matrix(u[3:6])\n",
    "    v = X[:3, 3]\n",
    "    x = X[:3, 4]\n",
    "    dX = sympy.zeros(5, 5)\n",
    "    dX[:3, :3] = R*skew(omega)\n",
    "    #dX[:3, :3] = R # this is ok, still in lie algebra\n",
    "    #dX[:3, :3] = skew(omega) # this fails, not in lie algebra\n",
    "    #dX[:3, :3] = R + R # this is ok, still in lie algebra\n",
    "    #dX[:3, :3] = sympy.eye(3) # this, fails, not in lie algebra\n",
    "\n",
    "    # it is interesting to investigate what is still group\n",
    "    # affine here, the requirement is that the derivative\n",
    "    # must lie in the lie algebra and be a linear function of the state\n",
    "    dX[:3, 3] = R*a + g\n",
    "    # dX[:3, 3] = R*a + g + v # this is ok\n",
    "    # dX[:3, 3] = R*a + g + sympy.Matrix.multiply_elementwise(v, v), this will fail v**2\n",
    "    #dX[:3, 3] = R*a + g + R*v # this will fail, R*v both states\n",
    "    #dX[:3, 3] = R*a + g + R*g # this is fine\n",
    "    \n",
    "    dX[:3, 4] = v\n",
    "    #dX[:3, 4] = R*v # this will fail\n",
    "    #dX[:3, 4] = R*a # this is fine\n",
    "    return dX\n",
    "\n",
    "\n",
    "a = sympy.Matrix(sympy.symbols('a_0:3'))\n",
    "omega = sympy.Matrix(sympy.symbols('omega_0:3'))\n",
    "u = sympy.Matrix.vstack(a, omega)\n",
    "g_a = g_sym('a')\n",
    "g_b = g_sym('b')\n",
    "g_I = sympy.eye(5)\n",
    "f(g_a, u)\n",
    "\n",
    "\n",
    "def group_affine(f, g, verbose=False):\n",
    "    res = sympy.simplify(f(g_a*g_b, u) - (f(g_a, u)*g_b + g_a*f(g_b, u) - g_a*f(g_I, u)*g_b))\n",
    "    affine = sympy.Matrix.norm(res) == 0\n",
    "    if verbose and not affine:\n",
    "        print(res)\n",
    "    return affine"
   ]
  },
  {
   "cell_type": "code",
   "execution_count": 3,
   "metadata": {},
   "outputs": [
    {
     "data": {
      "text/plain": [
       "True"
      ]
     },
     "execution_count": 3,
     "metadata": {},
     "output_type": "execute_result"
    }
   ],
   "source": [
    "group_affine(f, g_sym, verbose=True)"
   ]
  },
  {
   "cell_type": "code",
   "execution_count": 4,
   "metadata": {},
   "outputs": [
    {
     "data": {
      "image/png": "[encoded data removed]",
      "text/latex": [
       "$$\\left[\\begin{matrix}0 & 0 & 0 & g_{0} & R^{a}_{0} v^{b}_{0} + R^{a}_{1} v^{b}_{1} + R^{a}_{2} v^{b}_{2} + v^{a}_{0}\\\\0 & 0 & 0 & g_{1} & R^{a}_{3} v^{b}_{0} + R^{a}_{4} v^{b}_{1} + R^{a}_{5} v^{b}_{2} + v^{a}_{1}\\\\0 & 0 & 0 & g_{2} & R^{a}_{6} v^{b}_{0} + R^{a}_{7} v^{b}_{1} + R^{a}_{8} v^{b}_{2} + v^{a}_{2}\\\\0 & 0 & 0 & 0 & 0\\\\0 & 0 & 0 & 0 & 0\\end{matrix}\\right]$$"
      ],
      "text/plain": [
       "⎡0  0  0  g₀  R_0__a⋅v_0__b + R_1__a⋅v_1__b + R_2__a⋅v_2__b + v_0__a⎤\n",
       "⎢                                                                   ⎥\n",
       "⎢0  0  0  g₁  R_3__a⋅v_0__b + R_4__a⋅v_1__b + R_5__a⋅v_2__b + v_1__a⎥\n",
       "⎢                                                                   ⎥\n",
       "⎢0  0  0  g₂  R_6__a⋅v_0__b + R_7__a⋅v_1__b + R_8__a⋅v_2__b + v_2__a⎥\n",
       "⎢                                                                   ⎥\n",
       "⎢0  0  0  0                             0                           ⎥\n",
       "⎢                                                                   ⎥\n",
       "⎣0  0  0  0                             0                           ⎦"
      ]
     },
     "execution_count": 4,
     "metadata": {},
     "output_type": "execute_result"
    }
   ],
   "source": [
    "l(g_a*g_b, u)"
   ]
  },
  {
   "cell_type": "code",
   "execution_count": 5,
   "metadata": {},
   "outputs": [
    {
     "data": {
      "image/png": "[encoded data removed]",
      "text/latex": [
       "$$\\left[\\begin{matrix}0 & 0 & 0 & g_{0} & R^{a}_{0} v^{b}_{0} + R^{a}_{1} v^{b}_{1} + R^{a}_{2} v^{b}_{2} + v^{a}_{0}\\\\0 & 0 & 0 & g_{1} & R^{a}_{3} v^{b}_{0} + R^{a}_{4} v^{b}_{1} + R^{a}_{5} v^{b}_{2} + v^{a}_{1}\\\\0 & 0 & 0 & g_{2} & R^{a}_{6} v^{b}_{0} + R^{a}_{7} v^{b}_{1} + R^{a}_{8} v^{b}_{2} + v^{a}_{2}\\\\0 & 0 & 0 & 0 & 0\\\\0 & 0 & 0 & 0 & 0\\end{matrix}\\right]$$"
      ],
      "text/plain": [
       "⎡0  0  0  g₀  R_0__a⋅v_0__b + R_1__a⋅v_1__b + R_2__a⋅v_2__b + v_0__a⎤\n",
       "⎢                                                                   ⎥\n",
       "⎢0  0  0  g₁  R_3__a⋅v_0__b + R_4__a⋅v_1__b + R_5__a⋅v_2__b + v_1__a⎥\n",
       "⎢                                                                   ⎥\n",
       "⎢0  0  0  g₂  R_6__a⋅v_0__b + R_7__a⋅v_1__b + R_8__a⋅v_2__b + v_2__a⎥\n",
       "⎢                                                                   ⎥\n",
       "⎢0  0  0  0                             0                           ⎥\n",
       "⎢                                                                   ⎥\n",
       "⎣0  0  0  0                             0                           ⎦"
      ]
     },
     "execution_count": 5,
     "metadata": {},
     "output_type": "execute_result"
    }
   ],
   "source": [
    "l(g_a, u) + g_a*(l(g_b, u) - l(g_I, u)*g_inv(g_a))"
   ]
  },
  {
   "cell_type": "code",
   "execution_count": 6,
   "metadata": {},
   "outputs": [
    {
     "data": {
      "image/png": "[encoded data removed]",
      "text/latex": [
       "$$\\left[\\begin{matrix}0 & 0 & 0 & 0 & R^{a}_{0} v^{b}_{0} + R^{a}_{1} v^{b}_{1} + R^{a}_{2} v^{b}_{2}\\\\0 & 0 & 0 & 0 & R^{a}_{3} v^{b}_{0} + R^{a}_{4} v^{b}_{1} + R^{a}_{5} v^{b}_{2}\\\\0 & 0 & 0 & 0 & R^{a}_{6} v^{b}_{0} + R^{a}_{7} v^{b}_{1} + R^{a}_{8} v^{b}_{2}\\\\0 & 0 & 0 & 0 & 0\\\\0 & 0 & 0 & 0 & 0\\end{matrix}\\right]$$"
      ],
      "text/plain": [
       "⎡0  0  0  0  R_0__a⋅v_0__b + R_1__a⋅v_1__b + R_2__a⋅v_2__b⎤\n",
       "⎢                                                         ⎥\n",
       "⎢0  0  0  0  R_3__a⋅v_0__b + R_4__a⋅v_1__b + R_5__a⋅v_2__b⎥\n",
       "⎢                                                         ⎥\n",
       "⎢0  0  0  0  R_6__a⋅v_0__b + R_7__a⋅v_1__b + R_8__a⋅v_2__b⎥\n",
       "⎢                                                         ⎥\n",
       "⎢0  0  0  0                        0                      ⎥\n",
       "⎢                                                         ⎥\n",
       "⎣0  0  0  0                        0                      ⎦"
      ]
     },
     "execution_count": 6,
     "metadata": {},
     "output_type": "execute_result"
    }
   ],
   "source": [
    "g_a*(l(g_b, u) - l(g_I, u)*g_inv(g_a))"
   ]
  },
  {
   "cell_type": "markdown",
   "metadata": {},
   "source": [
    "Assuming you have an equation of the form:\n",
    "\n",
    "$f(a) = l(a) a + ar$\n",
    "\n",
    "The goup will still be invariant if:\n",
    "\n",
    "$l(ab) = l(a) + a (l(b) - l(e)) a^{-1}$"
   ]
  },
  {
   "cell_type": "code",
   "execution_count": 7,
   "metadata": {},
   "outputs": [
    {
     "data": {
      "image/png": "[encoded data removed]",
      "text/latex": [
       "$$\\left[\\begin{matrix}0 & 0 & 0 & 0 & 0\\\\0 & 0 & 0 & 0 & 0\\\\0 & 0 & 0 & 0 & 0\\\\0 & 0 & 0 & 0 & 0\\\\0 & 0 & 0 & 0 & 0\\end{matrix}\\right]$$"
      ],
      "text/plain": [
       "⎡0  0  0  0  0⎤\n",
       "⎢             ⎥\n",
       "⎢0  0  0  0  0⎥\n",
       "⎢             ⎥\n",
       "⎢0  0  0  0  0⎥\n",
       "⎢             ⎥\n",
       "⎢0  0  0  0  0⎥\n",
       "⎢             ⎥\n",
       "⎣0  0  0  0  0⎦"
      ]
     },
     "execution_count": 7,
     "metadata": {},
     "output_type": "execute_result"
    }
   ],
   "source": [
    "l(g_a*g_b, u) - (l(g_a, u) + g_a*l(g_b, u) - g_a*l(g_I, u))"
   ]
  },
  {
   "cell_type": "markdown",
   "metadata": {},
   "source": [
    "The take away here, is that you can do anything you want in the tanget plane at the origin, if you are using left invaraint error, because both dynamics are impacted the same, since the rotation is zero. However, in the tangent plane after the rotation, if you have any non-constant dynamics, they will impact the error dynamics and the error equations will not be autonomous."
   ]
  }
 ],
 "metadata": {
  "kernelspec": {
   "display_name": "Python 3",
   "language": "python",
   "name": "python3"
  },
  "language_info": {
   "codemirror_mode": {
    "name": "ipython",
    "version": 3
   },
   "file_extension": ".py",
   "mimetype": "text/x-python",
   "name": "python",
   "nbconvert_exporter": "python",
   "pygments_lexer": "ipython3",
   "version": "3.6.5"
  }
 },
 "nbformat": 4,
 "nbformat_minor": 2
}
