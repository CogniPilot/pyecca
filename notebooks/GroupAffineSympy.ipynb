{
 "cells": [
  {
   "cell_type": "code",
   "execution_count": 32,
   "metadata": {},
   "outputs": [],
   "source": [
    "import sympy\n",
    "sympy.init_printing()"
   ]
  },
  {
   "cell_type": "markdown",
   "metadata": {},
   "source": [
    "One thing Casadi is not good at currently is simplification, we rely on Sympy to check that the group is affine."
   ]
  },
  {
   "cell_type": "code",
   "execution_count": 33,
   "metadata": {},
   "outputs": [],
   "source": [
    "def g(name):\n",
    "    \"\"\"define the matrix lie group, inherits product from matrix\"\"\"\n",
    "    R = sympy.Matrix(sympy.symbols('R^{:s}_0:9'.format(name))).reshape(3, 3)\n",
    "    v = sympy.Matrix(sympy.symbols('v^{:s}_0:3'.format(name))).reshape(3, 1)\n",
    "    x = sympy.Matrix(sympy.symbols('x^{:s}_0:3'.format(name))).reshape(3, 1)\n",
    "    X = sympy.Matrix.vstack(sympy.Matrix.hstack(R, v, x),\n",
    "                        sympy.Matrix([0, 0, 0, 1, 0]).T,\n",
    "                        sympy.Matrix([0, 0, 0, 0, 1]).T)\n",
    "    return X\n",
    "\n",
    "\n",
    "def skew(x):\n",
    "    \"\"\"skew matrix\"\"\"\n",
    "    M = sympy.zeros(3, 3)\n",
    "    M[0, 1] = -x[2]\n",
    "    M[0, 2] = x[1]\n",
    "    M[1, 0] = x[2]\n",
    "    M[1, 2] = -x[0]\n",
    "    M[2, 0] = -x[1]\n",
    "    M[2, 1] = x[0]\n",
    "    return M\n",
    "\n",
    "\n",
    "def f(X, u):\n",
    "    \"\"\"define the derivative of the group\"\"\"\n",
    "    R = X[0:3, 0:3]\n",
    "    g = sympy.Matrix([0, 0, sympy.symbols('g_0')])\n",
    "    a = sympy.Matrix(u[0:3])\n",
    "    omega = sympy.Matrix(u[3:6])\n",
    "    v = X[:3, 3]\n",
    "    x = X[:3, 4]\n",
    "    dX = sympy.zeros(5, 5)\n",
    "    dX[:3, :3] = R*skew(omega)\n",
    "    # it is interesting to investigate what is still group\n",
    "    # affine here, as long as you don't put a state dependent\n",
    "    # value on the right tangent plane (multipliy by R), you are fine\n",
    "    dX[:3, 3] = R*a + g\n",
    "    #dX[:3, 3] = R*a + g + R*v # this will fail\n",
    "    #dX[:3, 3] = R*a + g + R*g # this is fine\n",
    "    dX[:3, 4] = v\n",
    "    #dX[:3, 4] = R*v # this will fail\n",
    "    return dX\n",
    "\n",
    "\n",
    "a = sympy.Matrix(sympy.symbols('a_0:3'))\n",
    "omega = sympy.Matrix(sympy.symbols('omega_0:3'))\n",
    "u = sympy.Matrix.vstack(a, omega)\n",
    "g_a = g('a')\n",
    "g_b = g('b')\n",
    "g_I = sympy.eye(5)\n",
    "f(g_a, u)\n",
    "\n",
    "\n",
    "def group_affine(f, g, verbose=False):\n",
    "    res = sympy.simplify(f(g_a*g_b, u) - (f(g_a, u)*g_b + g_a*f(g_b, u) - g_a*f(g_I, u)*g_b))\n",
    "    affine = sympy.Matrix.norm(res) == 0\n",
    "    if verbose and not affine:\n",
    "        print(res)\n",
    "    return affine"
   ]
  },
  {
   "cell_type": "code",
   "execution_count": 34,
   "metadata": {},
   "outputs": [
    {
     "data": {
      "text/plain": [
       "True"
      ]
     },
     "execution_count": 34,
     "metadata": {},
     "output_type": "execute_result"
    }
   ],
   "source": [
    "group_affine(f, g, verbose=True)"
   ]
  },
  {
   "cell_type": "markdown",
   "metadata": {},
   "source": [
    "The take away here, is that you can do anything you want in the tanget plane at the origin, if you are using left invaraint error, because both dynamics are impacted the same, since the rotation is zero. However, in the tangent plane after the rotation, if you have any non-constant dynamics, they will impact the error dynamics and the error equations will not be autonomous."
   ]
  }
 ],
 "metadata": {
  "kernelspec": {
   "display_name": "Python 3",
   "language": "python",
   "name": "python3"
  },
  "language_info": {
   "codemirror_mode": {
    "name": "ipython",
    "version": 3
   },
   "file_extension": ".py",
   "mimetype": "text/x-python",
   "name": "python",
   "nbconvert_exporter": "python",
   "pygments_lexer": "ipython3",
   "version": "3.6.5"
  }
 },
 "nbformat": 4,
 "nbformat_minor": 2
}
