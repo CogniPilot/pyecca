{
 "cells": [
  {
   "cell_type": "code",
   "execution_count": 2,
   "id": "9045c006-4527-4f54-b5f2-0e40f5321e9a",
   "metadata": {},
   "outputs": [],
   "source": [
    "import casadi as ca"
   ]
  },
  {
   "cell_type": "code",
   "execution_count": 3,
   "id": "1e62e4d3-3a68-4bad-8d30-0609acbc5202",
   "metadata": {},
   "outputs": [],
   "source": [
    "# Symbols/expressions\n",
    "x = ca.MX.sym('x')\n",
    "y = ca.MX.sym('y')\n",
    "z = ca.MX.sym('z')\n",
    "f = x**2+100*z**2\n",
    "g = z+(1-x)**2-y"
   ]
  },
  {
   "cell_type": "code",
   "execution_count": 4,
   "id": "e50021fb-18c7-4a09-94d6-b9f10f0de1c5",
   "metadata": {},
   "outputs": [
    {
     "name": "stdout",
     "output_type": "stream",
     "text": [
      "<class 'casadi.casadi.MX'>\n"
     ]
    }
   ],
   "source": [
    "nlp = {}                 # NLP declaration\n",
    "nlp['x']= ca.vertcat(x,y,z) # decision vars\n",
    "nlp['f'] = f             # objective\n",
    "nlp['g'] = g             # constraints\n",
    "print(type(nlp['f']))"
   ]
  },
  {
   "cell_type": "code",
   "execution_count": 6,
   "id": "c468e594-e8f1-48a3-a291-c725fec43b63",
   "metadata": {},
   "outputs": [
    {
     "name": "stdout",
     "output_type": "stream",
     "text": [
      "<class 'casadi.casadi.Function'>\n"
     ]
    }
   ],
   "source": [
    "# Create solver instance\n",
    "F = ca.nlpsol('F','ipopt',nlp);\n",
    "print(type(F))"
   ]
  },
  {
   "cell_type": "code",
   "execution_count": 5,
   "id": "9f4528e0-bc8c-4ad7-b655-b44becefb0d2",
   "metadata": {},
   "outputs": [
    {
     "name": "stdout",
     "output_type": "stream",
     "text": [
      "\n",
      "******************************************************************************\n",
      "This program contains Ipopt, a library for large-scale nonlinear optimization.\n",
      " Ipopt is released as open source code under the Eclipse Public License (EPL).\n",
      "         For more information visit http://projects.coin-or.org/Ipopt\n",
      "******************************************************************************\n",
      "\n",
      "This is Ipopt version 3.12.3, running with linear solver mumps.\n",
      "NOTE: Other linear solvers might be more efficient (see Ipopt documentation).\n",
      "\n",
      "Number of nonzeros in equality constraint Jacobian...:        3\n",
      "Number of nonzeros in inequality constraint Jacobian.:        0\n",
      "Number of nonzeros in Lagrangian Hessian.............:        2\n",
      "\n",
      "Total number of variables............................:        3\n",
      "                     variables with only lower bounds:        0\n",
      "                variables with lower and upper bounds:        0\n",
      "                     variables with only upper bounds:        0\n",
      "Total number of equality constraints.................:        1\n",
      "Total number of inequality constraints...............:        0\n",
      "        inequality constraints with only lower bounds:        0\n",
      "   inequality constraints with lower and upper bounds:        0\n",
      "        inequality constraints with only upper bounds:        0\n",
      "\n",
      "iter    objective    inf_pr   inf_du lg(mu)  ||d||  lg(rg) alpha_du alpha_pr  ls\n",
      "   0  6.2500000e+01 0.00e+00 9.00e+01  -1.0 0.00e+00    -  0.00e+00 0.00e+00   0\n",
      "   1  1.8457621e+01 1.48e-02 4.10e+01  -1.0 4.10e-01   2.0 1.00e+00 1.00e+00f  1\n",
      "   2  7.8031530e+00 3.84e-03 8.76e+00  -1.0 2.63e-01   1.5 1.00e+00 1.00e+00f  1\n",
      "   3  7.1678278e+00 9.42e-05 1.04e+00  -1.0 9.32e-02   1.0 1.00e+00 1.00e+00f  1\n",
      "   4  6.7419924e+00 6.18e-03 9.95e-01  -1.0 2.69e-01   0.6 1.00e+00 1.00e+00f  1\n",
      "   5  5.4363330e+00 7.03e-02 1.04e+00  -1.7 8.40e-01   0.1 1.00e+00 1.00e+00f  1\n",
      "   6  1.2144815e+00 1.52e+00 1.32e+00  -1.7 3.21e+00  -0.4 1.00e+00 1.00e+00f  1\n",
      "   7  1.0214718e+00 2.51e-01 1.17e+01  -1.7 1.33e+00   0.9 1.00e+00 1.00e+00h  1\n",
      "   8  3.1864085e-01 1.04e-03 7.53e-01  -1.7 3.58e-01    -  1.00e+00 1.00e+00f  1\n",
      "   9  0.0000000e+00 3.19e-01 0.00e+00  -1.7 5.64e-01    -  1.00e+00 1.00e+00f  1\n",
      "iter    objective    inf_pr   inf_du lg(mu)  ||d||  lg(rg) alpha_du alpha_pr  ls\n",
      "  10  0.0000000e+00 0.00e+00 0.00e+00  -1.7 3.19e-01    -  1.00e+00 1.00e+00h  1\n",
      "\n",
      "Number of Iterations....: 10\n",
      "\n",
      "                                   (scaled)                 (unscaled)\n",
      "Objective...............:   0.0000000000000000e+00    0.0000000000000000e+00\n",
      "Dual infeasibility......:   0.0000000000000000e+00    0.0000000000000000e+00\n",
      "Constraint violation....:   0.0000000000000000e+00    0.0000000000000000e+00\n",
      "Complementarity.........:   0.0000000000000000e+00    0.0000000000000000e+00\n",
      "Overall NLP error.......:   0.0000000000000000e+00    0.0000000000000000e+00\n",
      "\n",
      "\n",
      "Number of objective function evaluations             = 11\n",
      "Number of objective gradient evaluations             = 11\n",
      "Number of equality constraint evaluations            = 11\n",
      "Number of inequality constraint evaluations          = 0\n",
      "Number of equality constraint Jacobian evaluations   = 11\n",
      "Number of inequality constraint Jacobian evaluations = 0\n",
      "Number of Lagrangian Hessian evaluations             = 10\n",
      "Total CPU secs in IPOPT (w/o function evaluations)   =      0.002\n",
      "Total CPU secs in NLP function evaluations           =      0.000\n",
      "\n",
      "EXIT: Optimal Solution Found.\n",
      "           F  :   t_proc      (avg)   t_wall      (avg)    n_eval\n",
      "       nlp_f  |  27.00us (  2.45us)  27.77us (  2.52us)        11\n",
      "       nlp_g  |  43.00us (  3.91us)  60.04us (  5.46us)        11\n",
      "  nlp_grad_f  |  55.00us (  4.58us)  51.76us (  4.31us)        12\n",
      "  nlp_hess_l  |  42.00us (  4.20us)  40.96us (  4.10us)        10\n",
      "   nlp_jac_g  |  35.00us (  2.92us)  34.33us (  2.86us)        12\n",
      "       total  |   6.10ms (  6.10ms)   8.84ms (  8.84ms)         1\n"
     ]
    },
    {
     "data": {
      "text/plain": [
       "{'f': DM(0),\n",
       " 'g': DM(0),\n",
       " 'lam_g': DM(0),\n",
       " 'lam_p': DM([]),\n",
       " 'lam_x': DM([0, 0, 0]),\n",
       " 'x': DM([0, 1, 0])}"
      ]
     },
     "execution_count": 5,
     "metadata": {},
     "output_type": "execute_result"
    }
   ],
   "source": [
    "# Solve the problem using a guess\n",
    "F(x0=[2.5,3.0,0.75],ubg=0,lbg=0)"
   ]
  },
  {
   "cell_type": "code",
   "execution_count": null,
   "id": "d2b2fd90-d5ac-4920-98e0-ed8b04b77cd3",
   "metadata": {},
   "outputs": [],
   "source": []
  }
 ],
 "metadata": {
  "kernelspec": {
   "display_name": "Python 3 (ipykernel)",
   "language": "python",
   "name": "python3"
  },
  "language_info": {
   "codemirror_mode": {
    "name": "ipython",
    "version": 3
   },
   "file_extension": ".py",
   "mimetype": "text/x-python",
   "name": "python",
   "nbconvert_exporter": "python",
   "pygments_lexer": "ipython3",
   "version": "3.7.12"
  }
 },
 "nbformat": 4,
 "nbformat_minor": 5
}
