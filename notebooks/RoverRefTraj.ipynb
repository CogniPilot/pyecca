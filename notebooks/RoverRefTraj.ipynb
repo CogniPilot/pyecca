{
 "cells": [
  {
   "cell_type": "code",
   "execution_count": 6,
   "metadata": {},
   "outputs": [],
   "source": [
    "%load_ext autoreload\n",
    "%autoreload 2\n",
    "import sys\n",
    "from pathlib import Path\n",
    "\n",
    "sys.path.insert(0, \"..\")"
   ]
  },
  {
   "cell_type": "code",
   "execution_count": 11,
   "metadata": {},
   "outputs": [],
   "source": [
    "import numpy as np\n",
    "import sympy\n",
    "import scipy\n",
    "import scipy.optimize\n",
    "\n",
    "import pyecca.control\n",
    "\n",
    "from pyecca.control.time_allocation import find_cost_function, compute_trajectory\n",
    "import matplotlib.pyplot as plt"
   ]
  },
  {
   "cell_type": "code",
   "execution_count": 13,
   "metadata": {},
   "outputs": [
    {
     "ename": "NonInvertibleMatrixError",
     "evalue": "Matrix det == 0; not invertible.",
     "output_type": "error",
     "traceback": [
      "\u001b[0;31m---------------------------------------------------------------------------\u001b[0m",
      "\u001b[0;31mNonInvertibleMatrixError\u001b[0m                  Traceback (most recent call last)",
      "Cell \u001b[0;32mIn[13], line 5\u001b[0m\n\u001b[1;32m      3\u001b[0m min_deriv \u001b[39m=\u001b[39m \u001b[39m3\u001b[39m  \u001b[39m# min jerk\u001b[39;00m\n\u001b[1;32m      4\u001b[0m bc_deriv \u001b[39m=\u001b[39m \u001b[39m3\u001b[39m\n\u001b[0;32m----> 5\u001b[0m cost \u001b[39m=\u001b[39m find_cost_function(\n\u001b[1;32m      6\u001b[0m     poly_deg\u001b[39m=\u001b[39;49mpoly_deg,\n\u001b[1;32m      7\u001b[0m     min_deriv\u001b[39m=\u001b[39;49mmin_deriv,\n\u001b[1;32m      8\u001b[0m     rows_free\u001b[39m=\u001b[39;49m[],\n\u001b[1;32m      9\u001b[0m     n_legs\u001b[39m=\u001b[39;49mn_legs,\n\u001b[1;32m     10\u001b[0m     bc_deriv\u001b[39m=\u001b[39;49mbc_deriv,\n\u001b[1;32m     11\u001b[0m )\n",
      "File \u001b[0;32m/workdir/tools/pyecca/notebooks/../pyecca/control/time_allocation.py:239\u001b[0m, in \u001b[0;36mfind_cost_function\u001b[0;34m(poly_deg, min_deriv, rows_free, n_legs, bc_deriv)\u001b[0m\n\u001b[1;32m    236\u001b[0m C \u001b[39m=\u001b[39m sympy\u001b[39m.\u001b[39mMatrix\u001b[39m.\u001b[39mvstack(\u001b[39m*\u001b[39m[I[i, :] \u001b[39mfor\u001b[39;00m i \u001b[39min\u001b[39;00m rows])\n\u001b[1;32m    238\u001b[0m \u001b[39m# find R\u001b[39;00m\n\u001b[0;32m--> 239\u001b[0m A_I \u001b[39m=\u001b[39m A\u001b[39m.\u001b[39;49minv()\n\u001b[1;32m    240\u001b[0m R \u001b[39m=\u001b[39m C \u001b[39m@\u001b[39m A_I\u001b[39m.\u001b[39mT \u001b[39m@\u001b[39m Q \u001b[39m@\u001b[39m A_I \u001b[39m@\u001b[39m C\u001b[39m.\u001b[39mT\n\u001b[1;32m    241\u001b[0m R\u001b[39m.\u001b[39msimplify()\n",
      "File \u001b[0;32m/usr/lib/python3/dist-packages/sympy/matrices/matrices.py:2223\u001b[0m, in \u001b[0;36mMatrixBase.inv\u001b[0;34m(self, method, iszerofunc, try_block_diag)\u001b[0m\n\u001b[1;32m   2222\u001b[0m \u001b[39mdef\u001b[39;00m \u001b[39minv\u001b[39m(\u001b[39mself\u001b[39m, method\u001b[39m=\u001b[39m\u001b[39mNone\u001b[39;00m, iszerofunc\u001b[39m=\u001b[39m_iszero, try_block_diag\u001b[39m=\u001b[39m\u001b[39mFalse\u001b[39;00m):\n\u001b[0;32m-> 2223\u001b[0m     \u001b[39mreturn\u001b[39;00m _inv(\u001b[39mself\u001b[39;49m, method\u001b[39m=\u001b[39;49mmethod, iszerofunc\u001b[39m=\u001b[39;49miszerofunc,\n\u001b[1;32m   2224\u001b[0m             try_block_diag\u001b[39m=\u001b[39;49mtry_block_diag)\n",
      "File \u001b[0;32m/usr/lib/python3/dist-packages/sympy/matrices/inverse.py:459\u001b[0m, in \u001b[0;36m_inv\u001b[0;34m(M, method, iszerofunc, try_block_diag)\u001b[0m\n\u001b[1;32m    456\u001b[0m     \u001b[39mreturn\u001b[39;00m diag(\u001b[39m*\u001b[39mr)\n\u001b[1;32m    458\u001b[0m \u001b[39mif\u001b[39;00m method \u001b[39m==\u001b[39m \u001b[39m\"\u001b[39m\u001b[39mGE\u001b[39m\u001b[39m\"\u001b[39m:\n\u001b[0;32m--> 459\u001b[0m     rv \u001b[39m=\u001b[39m M\u001b[39m.\u001b[39;49minverse_GE(iszerofunc\u001b[39m=\u001b[39;49miszerofunc)\n\u001b[1;32m    460\u001b[0m \u001b[39melif\u001b[39;00m method \u001b[39m==\u001b[39m \u001b[39m\"\u001b[39m\u001b[39mLU\u001b[39m\u001b[39m\"\u001b[39m:\n\u001b[1;32m    461\u001b[0m     rv \u001b[39m=\u001b[39m M\u001b[39m.\u001b[39minverse_LU(iszerofunc\u001b[39m=\u001b[39miszerofunc)\n",
      "File \u001b[0;32m/usr/lib/python3/dist-packages/sympy/matrices/matrices.py:2208\u001b[0m, in \u001b[0;36mMatrixBase.inverse_GE\u001b[0;34m(self, iszerofunc)\u001b[0m\n\u001b[1;32m   2207\u001b[0m \u001b[39mdef\u001b[39;00m \u001b[39minverse_GE\u001b[39m(\u001b[39mself\u001b[39m, iszerofunc\u001b[39m=\u001b[39m_iszero):\n\u001b[0;32m-> 2208\u001b[0m     \u001b[39mreturn\u001b[39;00m _inv_GE(\u001b[39mself\u001b[39;49m, iszerofunc\u001b[39m=\u001b[39;49miszerofunc)\n",
      "File \u001b[0;32m/usr/lib/python3/dist-packages/sympy/matrices/inverse.py:245\u001b[0m, in \u001b[0;36m_inv_GE\u001b[0;34m(M, iszerofunc)\u001b[0m\n\u001b[1;32m    242\u001b[0m red \u001b[39m=\u001b[39m big\u001b[39m.\u001b[39mrref(iszerofunc\u001b[39m=\u001b[39miszerofunc, simplify\u001b[39m=\u001b[39m\u001b[39mTrue\u001b[39;00m)[\u001b[39m0\u001b[39m]\n\u001b[1;32m    244\u001b[0m \u001b[39mif\u001b[39;00m \u001b[39many\u001b[39m(iszerofunc(red[j, j]) \u001b[39mfor\u001b[39;00m j \u001b[39min\u001b[39;00m \u001b[39mrange\u001b[39m(red\u001b[39m.\u001b[39mrows)):\n\u001b[0;32m--> 245\u001b[0m     \u001b[39mraise\u001b[39;00m NonInvertibleMatrixError(\u001b[39m\"\u001b[39m\u001b[39mMatrix det == 0; not invertible.\u001b[39m\u001b[39m\"\u001b[39m)\n\u001b[1;32m    247\u001b[0m \u001b[39mreturn\u001b[39;00m M\u001b[39m.\u001b[39m_new(red[:, big\u001b[39m.\u001b[39mrows:])\n",
      "\u001b[0;31mNonInvertibleMatrixError\u001b[0m: Matrix det == 0; not invertible."
     ]
    }
   ],
   "source": [
    "n_legs = 1\n",
    "poly_deg = 5\n",
    "min_deriv = 3  # min jerk\n",
    "bc_deriv = 3\n",
    "cost = find_cost_function(\n",
    "    poly_deg=poly_deg,\n",
    "    min_deriv=min_deriv,\n",
    "    rows_free=[],\n",
    "    n_legs=n_legs,\n",
    "    bc_deriv=bc_deriv,\n",
    ")"
   ]
  },
  {
   "cell_type": "code",
   "execution_count": 3,
   "metadata": {},
   "outputs": [
    {
     "name": "stdout",
     "output_type": "stream",
     "text": [
      "T_opt [0.54390566 0.49709407 0.49709407 0.54390566]\n"
     ]
    },
    {
     "data": {
      "image/png": "[encoded data removed]",
      "text/plain": [
       "<Figure size 640x480 with 1 Axes>"
      ]
     },
     "metadata": {},
     "output_type": "display_data"
    }
   ],
   "source": [
    "import numpy as np\n",
    "\n",
    "n_dim = 2\n",
    "k_time = 1e5  # weight on time\n",
    "bc = np.array([# boundary conditions\n",
    "    [\n",
    "        [0, 0],\n",
    "        [1, 0],\n",
    "        [1, 1],\n",
    "        [0, 1],\n",
    "        [0, 0],\n",
    "    ],  # pos\n",
    "    [\n",
    "        [0, 0],\n",
    "        [1, 1],\n",
    "        [-1, 1],\n",
    "        [-1, -1],\n",
    "        [0, 0],\n",
    "    ],  # vel\n",
    "    [\n",
    "        [0, 0],\n",
    "        [0, 0],\n",
    "        [0, 0],\n",
    "        [0, 0],\n",
    "        [0, 0],\n",
    "    ],  # acc\n",
    "])\n",
    "\n",
    "assert bc.shape[1] - 1 == n_legs\n",
    "f_cost = lambda T: sum([cost[\"f_J\"](T, bc[:, :, d], k_time) for d in range(n_dim)])\n",
    "\n",
    "T0 = [10] * n_legs\n",
    "\n",
    "\n",
    "sol = scipy.optimize.minimize(\n",
    "    fun=f_cost, x0=[10] * n_legs, bounds=[(0.1, 100)] * n_legs\n",
    ")\n",
    "\n",
    "T_opt = sol[\"x\"]\n",
    "\n",
    "print(\"T_opt\", T_opt)\n",
    "\n",
    "opt_x = cost[\"f_p\"](T_opt, bc[:, :, 0], k_time)\n",
    "opt_y = cost[\"f_p\"](T_opt, bc[:, :, 1], k_time)\n",
    "\n",
    "\n",
    "def plot_traj(deriv=0):\n",
    "    traj_x = compute_trajectory(opt_x, T_opt, poly_deg=poly_deg, deriv=deriv)\n",
    "    traj_y = compute_trajectory(opt_y, T_opt, poly_deg=poly_deg, deriv=deriv)\n",
    "    plt.plot(traj_x[\"t\"], traj_x[\"x\"], label=\"x\")\n",
    "    plt.plot(traj_y[\"t\"], traj_y[\"x\"], label=\"y\")\n",
    "    plt.legend()\n",
    "\n",
    "\n",
    "fig = plt.figure()\n",
    "traj_x = compute_trajectory(opt_x, T_opt, poly_deg=poly_deg, deriv=0)\n",
    "traj_y = compute_trajectory(opt_y, T_opt, poly_deg=poly_deg, deriv=0)\n",
    "ax = fig.add_subplot(111)\n",
    "ax.plot(traj_x[\"x\"], traj_y[\"x\"]);"
   ]
  },
  {
   "cell_type": "code",
   "execution_count": null,
   "metadata": {},
   "outputs": [],
   "source": []
  }
 ],
 "metadata": {
  "kernelspec": {
   "display_name": "Python 3",
   "language": "python",
   "name": "python3"
  },
  "language_info": {
   "codemirror_mode": {
    "name": "ipython",
    "version": 3
   },
   "file_extension": ".py",
   "mimetype": "text/x-python",
   "name": "python",
   "nbconvert_exporter": "python",
   "pygments_lexer": "ipython3",
   "version": "3.10.6 (main, Nov 14 2022, 16:10:14) [GCC 11.3.0]"
  },
  "orig_nbformat": 4,
  "vscode": {
   "interpreter": {
    "hash": "31f2aee4e71d21fbe5cf8b01ff0e069b9275f58929596ceb00d14d90e3e16cd6"
   }
  }
 },
 "nbformat": 4,
 "nbformat_minor": 2
}
