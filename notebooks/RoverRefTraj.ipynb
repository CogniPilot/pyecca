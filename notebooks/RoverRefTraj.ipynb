{
 "cells": [
  {
   "cell_type": "code",
   "execution_count": 1,
   "metadata": {},
   "outputs": [],
   "source": [
    "%load_ext autoreload\n",
    "%autoreload 2\n",
    "import sys\n",
    "from pathlib import Path\n",
    "\n",
    "sys.path.insert(0, \"..\")"
   ]
  },
  {
   "cell_type": "code",
   "execution_count": 2,
   "metadata": {},
   "outputs": [],
   "source": [
    "import numpy as np\n",
    "import sympy\n",
    "import scipy\n",
    "import scipy.optimize\n",
    "\n",
    "import casadi as ca\n",
    "import pyecca.control\n",
    "\n",
    "from pyecca.control.time_allocation import find_cost_function, compute_trajectory\n",
    "import matplotlib.pyplot as plt"
   ]
  },
  {
   "cell_type": "code",
   "execution_count": 3,
   "metadata": {},
   "outputs": [],
   "source": [
    "def compute_trajectory(p, T, poly_deg, deriv=0):\n",
    "    S = np.hstack([0, np.cumsum(T)])\n",
    "    t = []\n",
    "    x = []\n",
    "    for i in range(len(T)):\n",
    "        beta = np.linspace(0, 1)\n",
    "        ti = T[i] * beta + S[i]\n",
    "        xi = np.polyval(\n",
    "            np.polyder(\n",
    "                np.flip(p[i * (poly_deg + 1) : (i + 1) * (poly_deg + 1)]), deriv\n",
    "            ),\n",
    "            beta,\n",
    "        )\n",
    "        t.append(ti)\n",
    "        x.append(xi)\n",
    "    x = np.hstack(x)\n",
    "    t = np.hstack(t)\n",
    "\n",
    "    return {\"t\": t, \"x\": x}"
   ]
  },
  {
   "cell_type": "code",
   "execution_count": 4,
   "metadata": {},
   "outputs": [],
   "source": [
    "n_legs = 4\n",
    "poly_deg = 5\n",
    "min_deriv = 3  # min jerk\n",
    "bc_deriv = 3\n",
    "cost = find_cost_function(\n",
    "    poly_deg=poly_deg,\n",
    "    min_deriv=min_deriv,\n",
    "    rows_free=[],\n",
    "    n_legs=n_legs,\n",
    "    bc_deriv=bc_deriv,\n",
    ")"
   ]
  },
  {
   "cell_type": "code",
   "execution_count": 6,
   "metadata": {},
   "outputs": [
    {
     "name": "stdout",
     "output_type": "stream",
     "text": [
      "T_opt [0.54390566 0.49709407 0.49709407 0.54390566]\n"
     ]
    },
    {
     "data": {
      "image/png": "[encoded data removed]",
      "text/plain": [
       "<Figure size 640x480 with 1 Axes>"
      ]
     },
     "metadata": {},
     "output_type": "display_data"
    }
   ],
   "source": [
    "import numpy as np\n",
    "\n",
    "n_dim = 2\n",
    "k_time = 1e5  # weight on time\n",
    "bc = np.array([# boundary conditions\n",
    "    [\n",
    "        [0, 0],\n",
    "        [1, 0],\n",
    "        [1, 1],\n",
    "        [0, 1],\n",
    "        [0, 0],\n",
    "    ],  # pos\n",
    "    [\n",
    "        [0, 0],\n",
    "        [1, 1],\n",
    "        [-1, 1],\n",
    "        [-1, -1],\n",
    "        [0, 0],\n",
    "    ],  # vel\n",
    "    [\n",
    "        [0, 0],\n",
    "        [0, 0],\n",
    "        [0, 0],\n",
    "        [0, 0],\n",
    "        [0, 0],\n",
    "    ],  # acc\n",
    "])\n",
    "\n",
    "assert bc.shape[1] - 1 == n_legs\n",
    "f_cost = lambda T: sum([cost[\"f_J\"](T, bc[:, :, d], k_time) for d in range(n_dim)])\n",
    "\n",
    "T0 = [10] * n_legs\n",
    "\n",
    "\n",
    "sol = scipy.optimize.minimize(\n",
    "    fun=f_cost, x0=[10] * n_legs, bounds=[(0.1, 100)] * n_legs\n",
    ")\n",
    "\n",
    "T_opt = sol[\"x\"]\n",
    "\n",
    "print(\"T_opt\", T_opt)\n",
    "\n",
    "opt_x = cost[\"f_p\"](T_opt, bc[:, :, 0], k_time)\n",
    "opt_y = cost[\"f_p\"](T_opt, bc[:, :, 1], k_time)\n",
    "\n",
    "\n",
    "def plot_traj(deriv=0):\n",
    "    traj_x = compute_trajectory(opt_x, T_opt, poly_deg=poly_deg, deriv=deriv)\n",
    "    traj_y = compute_trajectory(opt_y, T_opt, poly_deg=poly_deg, deriv=deriv)\n",
    "    plt.plot(traj_x[\"t\"], traj_x[\"x\"], label=\"x\")\n",
    "    plt.plot(traj_y[\"t\"], traj_y[\"x\"], label=\"y\")\n",
    "    plt.legend()\n",
    "\n",
    "\n",
    "fig = plt.figure()\n",
    "traj_x = compute_trajectory(opt_x, T_opt, poly_deg=poly_deg, deriv=0)\n",
    "traj_y = compute_trajectory(opt_y, T_opt, poly_deg=poly_deg, deriv=0)\n",
    "ax = fig.add_subplot(111)\n",
    "ax.plot(traj_x[\"x\"], traj_y[\"x\"]);"
   ]
  },
  {
   "cell_type": "code",
   "execution_count": 7,
   "metadata": {},
   "outputs": [
    {
     "data": {
      "text/plain": [
       "[0,\n",
       " 0.0,\n",
       " 0.0,\n",
       " 7.824377367426159,\n",
       " -11.192660392995778,\n",
       " 4.368283025569619,\n",
       " 1,\n",
       " 0.4970940671903397,\n",
       " 0.0,\n",
       " -0.9941881343806802,\n",
       " 0.4970940671903392,\n",
       " 0.0,\n",
       " 1,\n",
       " -0.4970940667621469,\n",
       " 0.0,\n",
       " -5.029059332378531,\n",
       " 7.543588998567797,\n",
       " -3.0174355994271185,\n",
       " 0,\n",
       " -0.5439056567737873,\n",
       " 0.0,\n",
       " 3.2634339406427237,\n",
       " -4.351245254190299,\n",
       " 1.6317169703213619]"
      ]
     },
     "execution_count": 7,
     "metadata": {},
     "output_type": "execute_result"
    }
   ],
   "source": [
    "opt_x"
   ]
  },
  {
   "cell_type": "code",
   "execution_count": 8,
   "metadata": {},
   "outputs": [
    {
     "data": {
      "text/plain": [
       "[0,\n",
       " 0.0,\n",
       " 0.0,\n",
       " -2.175622632573841,\n",
       " 3.807339607004222,\n",
       " -1.6317169744303808,\n",
       " 0,\n",
       " 0.4970940671903397,\n",
       " 0.0,\n",
       " 5.0290593280966025,\n",
       " -7.543588992144905,\n",
       " 3.0174355968579616,\n",
       " 1,\n",
       " 0.4970940667621469,\n",
       " 0.0,\n",
       " -0.9941881335242932,\n",
       " 0.4970940667621466,\n",
       " 0.0,\n",
       " 1,\n",
       " -0.5439056567737873,\n",
       " 0.0,\n",
       " -6.736566059357276,\n",
       " 10.6487547458097,\n",
       " -4.368283029678638]"
      ]
     },
     "execution_count": 8,
     "metadata": {},
     "output_type": "execute_result"
    }
   ],
   "source": [
    "opt_y"
   ]
  },
  {
   "cell_type": "code",
   "execution_count": 9,
   "metadata": {},
   "outputs": [
    {
     "data": {
      "text/plain": [
       "array([0.54390566, 0.49709407, 0.49709407, 0.54390566])"
      ]
     },
     "execution_count": 9,
     "metadata": {},
     "output_type": "execute_result"
    }
   ],
   "source": [
    "T_opt"
   ]
  }
 ],
 "metadata": {
  "kernelspec": {
   "display_name": ".venv",
   "language": "python",
   "name": "python3"
  },
  "language_info": {
   "codemirror_mode": {
    "name": "ipython",
    "version": 3
   },
   "file_extension": ".py",
   "mimetype": "text/x-python",
   "name": "python",
   "nbconvert_exporter": "python",
   "pygments_lexer": "ipython3",
   "version": "3.10.6"
  },
  "orig_nbformat": 4,
  "vscode": {
   "interpreter": {
    "hash": "45febe76975722684d118080d9a6aaa642f14e6c45eb01bc920e7410e5dcfee2"
   }
  }
 },
 "nbformat": 4,
 "nbformat_minor": 2
}
