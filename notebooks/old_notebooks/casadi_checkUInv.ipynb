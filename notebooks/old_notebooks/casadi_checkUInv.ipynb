{
 "cells": [
  {
   "cell_type": "code",
   "execution_count": 1,
   "metadata": {},
   "outputs": [],
   "source": [
    "import pathlib\n",
    "from SE3Lie import *\n",
    "import numpy as np\n",
    "from sympy import *\n",
    "from pyecca.lie import so3, r3, se3\n",
    "from pyecca.lie.util import DirectProduct\n",
    "from pyecca.lie.so3 import Quat, Dcm, Euler, Mrp\n",
    "from pyecca.lie.r3 import R3\n",
    "from pyecca.lie.se3 import SE3\n",
    "from pyecca.test import test_lie\n",
    "import casadi as ca\n",
    "from SE3Lie import se3, SE3, se3_diff_correction_inv, dot_plot_draw\n",
    "from casadi.tools.graph import graph, dotdraw, dotsave\n",
    "import os\n",
    "import pydot\n",
    "from PIL import Image"
   ]
  },
  {
   "cell_type": "code",
   "execution_count": 2,
   "metadata": {},
   "outputs": [],
   "source": [
    "r = ca.DM([0.1, 0.2, 0.3])\n",
    "v = ca.DM([0.1, 0.2, 0.3])\n",
    "R = Dcm.from_euler(ca.DM([0.1, 0.2, 0.3]))\n",
    "inp = ca.horzcat(np.transpose(r), np.transpose(v))\n",
    "veeSe3 = np.transpose(inp)\n",
    "uInv = se3_diff_correction_inv(veeSe3)"
   ]
  },
  {
   "cell_type": "code",
   "execution_count": 3,
   "metadata": {},
   "outputs": [
    {
     "data": {
      "text/plain": [
       "SX(@1=1, @2=((sq(theta_1)+sq(theta_2))+sq(theta_3)), @3=sqrt(@2), @4=(@1-(cos(@3)/@2)), @5=(sin(@3)/@3), \n",
       "[[(@1-(@4*(sq(theta_3)+(theta_1*theta_2)))), ((@4*sq(theta_1))-(@5*theta_3)), ((@5*theta_1)+(@4*(theta_3*theta_1))), (-(@4*((((theta_3*z)+(theta_1*y))+(z*theta_3))+(y*theta_2)))), ((@4*((theta_1*x)+(y*theta_1)))-(@5*z)), ((@5*y)+(@4*((theta_3*x)+(z*theta_1))))], \n",
       " [((@5*theta_3)+(@4*(theta_1*theta_2))), (@1-(@4*(sq(theta_3)+sq(theta_1)))), ((@4*(theta_3*theta_1))-(@5*theta_1)), ((@5*z)+(@4*((theta_1*y)+(x*theta_2)))), (-(@4*((((theta_3*z)+(theta_1*x))+(z*theta_3))+(x*theta_1)))), ((@4*((theta_3*y)+(z*theta_2)))-(@5*x))], \n",
       " [((@4*(theta_1*theta_3))-(@5*theta_2)), ((@5*theta_1)+(@4*(theta_2*theta_3))), (@1-(@4*((theta_2*theta_1)+sq(theta_1)))), ((@4*((theta_1*z)+(x*theta_3)))-(@5*y)), ((@5*x)+(@4*((theta_2*z)+(y*theta_3)))), (-(@4*((((theta_2*y)+(theta_1*x))+(y*theta_2))+(x*theta_1))))], \n",
       " [00, 00, 00, (@1-(@4*(sq(theta_3)+sq(theta_2)))), ((@4*(theta_2*theta_1))-(@5*theta_3)), ((@5*theta_2)+(@4*(theta_3*theta_1)))], \n",
       " [00, 00, 00, ((@5*theta_3)+(@4*(theta_1*theta_2))), (@1-(@4*(sq(theta_3)+sq(theta_1)))), ((@4*(theta_3*theta_2))-(@5*theta_1))], \n",
       " [00, 00, 00, ((@4*(theta_1*theta_3))-(@5*theta_2)), ((@5*theta_1)+(@4*(theta_2*theta_3))), (@1-(@4*(sq(theta_2)+sq(theta_1))))]])"
      ]
     },
     "metadata": {},
     "output_type": "display_data"
    }
   ],
   "source": [
    "x = ca.SX.sym(\"x\")\n",
    "y = ca.SX.sym(\"y\")\n",
    "z = ca.SX.sym(\"z\")\n",
    "theta_1 = ca.SX.sym(\"theta_1\")\n",
    "theta_2 = ca.SX.sym(\"theta_2\")\n",
    "theta_3 = ca.SX.sym(\"theta_3\")\n",
    "veeSym = [x, y, z, theta_1, theta_2, theta_3]\n",
    "# veeSym = ca.vertcat(x,y,z,theta1,theta2,theta3)\n",
    "sym_uInv_old = se3_diff_correction_inv(veeSym)\n",
    "# symUinv = se3_diff_correction_inv(ca.SX[x,y,z,theta1,theta2,theta3])\n",
    "display(sym_uInv_old)"
   ]
  },
  {
   "cell_type": "code",
   "execution_count": 4,
   "metadata": {},
   "outputs": [
    {
     "data": {
      "text/plain": [
       "SX(@1=1, \n",
       "[[@1, 00, 00, 00, 00, 00], \n",
       " [00, @1, 00, 00, 00, 00], \n",
       " [00, 00, @1, 00, 00, 00], \n",
       " [00, 00, 00, @1, 00, 00], \n",
       " [00, 00, 00, 00, @1, 00], \n",
       " [00, 00, 00, 00, 00, @1]])"
      ]
     },
     "execution_count": 4,
     "metadata": {},
     "output_type": "execute_result"
    }
   ],
   "source": [
    "ca.SX_eye(6)"
   ]
  },
  {
   "cell_type": "code",
   "execution_count": 5,
   "metadata": {},
   "outputs": [],
   "source": [
    "# TEST Computing UInv from scratch using casadi\n",
    "\n",
    "\n",
    "def se3_diff_correction_inv_test(v):  # U_inv of se3 input vee operator\n",
    "    # v = se3.vee(v)  #This only applies if v is inputed from Lie Group format\n",
    "\n",
    "    v_so3 = v[\n",
    "        3:6\n",
    "    ]  # grab only rotation terms for so3 uses ## changed to match NASAULI paper order of vee v[3:6]\n",
    "    X_so3 = so3.wedge(v_so3)  # wedge operator for so3\n",
    "    theta = ca.norm_2(\n",
    "        so3.vee(X_so3)\n",
    "    )  # theta term using norm for sqrt(theta1**2+theta2**2+theta3**2)\n",
    "\n",
    "    if type(v[1]) == \"casadi.casadi.SX\":\n",
    "        c1 = ca.sin(theta) / theta\n",
    "        c2 = 1 - ca.cos(theta) / theta**2\n",
    "    elif type(v[1]) == \"int\" and theta < eps:\n",
    "        c1 = 1 - theta**2 / 6 + theta**4 / 120\n",
    "        c2 = 0.5 - theta**2 / 24 + theta**4 / 720\n",
    "    else:\n",
    "        c1 = ca.sin(theta) / theta\n",
    "        c2 = 1 - ca.cos(theta) / theta**2\n",
    "\n",
    "    ad = se3.ad_matrix(v)\n",
    "    I = ca.SX_eye(6)\n",
    "    u_inv = ca.SX(6, 6)\n",
    "    u_inv = I + c1 * ad + c2 * se3.matmul(ad, ad)\n",
    "    return u_inv"
   ]
  },
  {
   "cell_type": "code",
   "execution_count": 6,
   "metadata": {},
   "outputs": [
    {
     "data": {
      "text/plain": [
       "SX(@1=1, @2=((sq(theta_1)+sq(theta_2))+sq(theta_3)), @3=sqrt(@2), @4=(@1-(cos(@3)/@2)), @5=(sin(@3)/@3), \n",
       "[[(@1-(@4*(sq(theta_3)+(theta_1*theta_2)))), ((@4*sq(theta_1))-(@5*theta_3)), ((@5*theta_1)+(@4*(theta_3*theta_1))), (-(@4*((((theta_3*z)+(theta_1*y))+(z*theta_3))+(y*theta_2)))), ((@4*((theta_1*x)+(y*theta_1)))-(@5*z)), ((@5*y)+(@4*((theta_3*x)+(z*theta_1))))], \n",
       " [((@5*theta_3)+(@4*(theta_1*theta_2))), (@1-(@4*(sq(theta_3)+sq(theta_1)))), ((@4*(theta_3*theta_1))-(@5*theta_1)), ((@5*z)+(@4*((theta_1*y)+(x*theta_2)))), (-(@4*((((theta_3*z)+(theta_1*x))+(z*theta_3))+(x*theta_1)))), ((@4*((theta_3*y)+(z*theta_2)))-(@5*x))], \n",
       " [((@4*(theta_1*theta_3))-(@5*theta_2)), ((@5*theta_1)+(@4*(theta_2*theta_3))), (@1-(@4*((theta_2*theta_1)+sq(theta_1)))), ((@4*((theta_1*z)+(x*theta_3)))-(@5*y)), ((@5*x)+(@4*((theta_2*z)+(y*theta_3)))), (-(@4*((((theta_2*y)+(theta_1*x))+(y*theta_2))+(x*theta_1))))], \n",
       " [00, 00, 00, (@1-(@4*(sq(theta_3)+sq(theta_2)))), ((@4*(theta_2*theta_1))-(@5*theta_3)), ((@5*theta_2)+(@4*(theta_3*theta_1)))], \n",
       " [00, 00, 00, ((@5*theta_3)+(@4*(theta_1*theta_2))), (@1-(@4*(sq(theta_3)+sq(theta_1)))), ((@4*(theta_3*theta_2))-(@5*theta_1))], \n",
       " [00, 00, 00, ((@4*(theta_1*theta_3))-(@5*theta_2)), ((@5*theta_1)+(@4*(theta_2*theta_3))), (@1-(@4*(sq(theta_2)+sq(theta_1))))]])"
      ]
     },
     "execution_count": 6,
     "metadata": {},
     "output_type": "execute_result"
    }
   ],
   "source": [
    "new_uinv = se3_diff_correction_inv_test(veeSym)\n",
    "new_uinv"
   ]
  },
  {
   "cell_type": "code",
   "execution_count": 7,
   "metadata": {},
   "outputs": [],
   "source": [
    "dot_plot_draw(new_uinv)"
   ]
  },
  {
   "cell_type": "code",
   "execution_count": null,
   "metadata": {},
   "outputs": [],
   "source": []
  }
 ],
 "metadata": {
  "kernelspec": {
   "display_name": "Python 3.8.10 64-bit",
   "language": "python",
   "name": "python3"
  },
  "language_info": {
   "codemirror_mode": {
    "name": "ipython",
    "version": 3
   },
   "file_extension": ".py",
   "mimetype": "text/x-python",
   "name": "python",
   "nbconvert_exporter": "python",
   "pygments_lexer": "ipython3",
   "version": "3.10.6 (main, Nov 14 2022, 16:10:14) [GCC 11.3.0]"
  },
  "orig_nbformat": 4,
  "vscode": {
   "interpreter": {
    "hash": "916dbcbb3f70747c44a77c7bcd40155683ae19c65e1c03b4aa3499c5328201f1"
   }
  }
 },
 "nbformat": 4,
 "nbformat_minor": 2
}
