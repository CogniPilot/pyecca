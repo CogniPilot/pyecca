{
 "cells": [
  {
   "cell_type": "code",
   "execution_count": 117,
   "metadata": {},
   "outputs": [],
   "source": [
    "import numpy as np\n",
    "import sympy\n",
    "from sympy import symbols, factorial, Function, summation, binomial, product\n",
    "\n",
    "n, i, j, m = symbols('n, i, j, m', integer=True, real=True)\n",
    "\n",
    "t = symbols('t')\n",
    "P = Function('P')\n",
    "\n",
    "B = summation(binomial(n, i)*(1 - t)**(n-i)*t**i*P(i), (i, 0, n))"
   ]
  },
  {
   "cell_type": "code",
   "execution_count": 101,
   "metadata": {},
   "outputs": [],
   "source": [
    "# https://en.wikipedia.org/wiki/B%C3%A9zier_curve"
   ]
  },
  {
   "cell_type": "code",
   "execution_count": 102,
   "metadata": {},
   "outputs": [
    {
     "data": {
      "text/latex": [
       "$\\displaystyle t^{5} P{\\left(5 \\right)} + 5 t^{4} \\cdot \\left(1 - t\\right) P{\\left(4 \\right)} + 10 t^{3} \\left(1 - t\\right)^{2} P{\\left(3 \\right)} + 10 t^{2} \\left(1 - t\\right)^{3} P{\\left(2 \\right)} + 5 t \\left(1 - t\\right)^{4} P{\\left(1 \\right)} + \\left(1 - t\\right)^{5} P{\\left(0 \\right)}$"
      ],
      "text/plain": [
       "t**5*P(5) + 5*t**4*(1 - t)*P(4) + 10*t**3*(1 - t)**2*P(3) + 10*t**2*(1 - t)**3*P(2) + 5*t*(1 - t)**4*P(1) + (1 - t)**5*P(0)"
      ]
     },
     "execution_count": 102,
     "metadata": {},
     "output_type": "execute_result"
    }
   ],
   "source": [
    "B.subs({n: 5}).doit()"
   ]
  },
  {
   "cell_type": "code",
   "execution_count": 103,
   "metadata": {},
   "outputs": [],
   "source": [
    "C = sympy.factorial(n)/sympy.factorial(n - j)*summation((-1)**(i + j)*P(i)/(factorial(i)*factorial(j - i)), (i, 0, j))"
   ]
  },
  {
   "cell_type": "code",
   "execution_count": 128,
   "metadata": {},
   "outputs": [
    {
     "data": {
      "text/plain": [
       "array([[1.        , 0.        , 0.        , 0.        , 0.        ,\n",
       "        0.        ],\n",
       "       [1.        , 0.16666667, 0.        , 0.        , 0.        ,\n",
       "        0.        ],\n",
       "       [1.        , 0.33333333, 0.06666667, 0.        , 0.        ,\n",
       "        0.        ],\n",
       "       [1.        , 0.5       , 0.2       , 0.05      , 0.        ,\n",
       "        0.        ],\n",
       "       [1.        , 0.66666667, 0.4       , 0.2       , 0.06666667,\n",
       "        0.        ],\n",
       "       [1.        , 0.83333333, 0.66666667, 0.5       , 0.33333333,\n",
       "        0.16666667]])"
      ]
     },
     "execution_count": 128,
     "metadata": {},
     "output_type": "execute_result"
    }
   ],
   "source": [
    "n0 = 6\n",
    "\n",
    "P_vect = sympy.Matrix([P(i) for i in range(n0)])\n",
    "\n",
    "C_matrix = sympy.Matrix([C.subs({j: j0, n: n0}).doit() for j0 in range(n0)])\n",
    "C_matrix\n",
    "\n",
    "A = C_matrix.jacobian(P_vect)\n",
    "\n",
    "C_to_B = np.array(A.inv(), dtype=float)\n",
    "C_to_B"
   ]
  },
  {
   "cell_type": "code",
   "execution_count": 129,
   "metadata": {},
   "outputs": [
    {
     "data": {
      "text/plain": [
       "array([0.        , 0.        , 0.        , 0.39121887, 0.81869811,\n",
       "       0.90934906])"
      ]
     },
     "execution_count": 129,
     "metadata": {},
     "output_type": "execute_result"
    }
   ],
   "source": [
    "C0 = np.array([0, 0.0, 0.0, 7.824377367426159, -11.192660392995778, 4.368283025569619])\n",
    "C_to_B@C0"
   ]
  },
  {
   "cell_type": "code",
   "execution_count": null,
   "metadata": {},
   "outputs": [],
   "source": [
    "def de_casteljau(t, coefs):\n",
    "    beta = [c for c in coefs] # values in this list are overridden\n",
    "    n = len(beta)\n",
    "    for j in range(1, n):\n",
    "        for k in range(n - j):\n",
    "            beta[k] = beta[k] * (1 - t) + beta[k + 1] * t\n",
    "    return beta[0]"
   ]
  },
  {
   "cell_type": "code",
   "execution_count": null,
   "metadata": {},
   "outputs": [],
   "source": []
  }
 ],
 "metadata": {
  "kernelspec": {
   "display_name": ".venv",
   "language": "python",
   "name": "python3"
  },
  "language_info": {
   "codemirror_mode": {
    "name": "ipython",
    "version": 3
   },
   "file_extension": ".py",
   "mimetype": "text/x-python",
   "name": "python",
   "nbconvert_exporter": "python",
   "pygments_lexer": "ipython3",
   "version": "3.10.6 (main, Nov 14 2022, 16:10:14) [GCC 11.3.0]"
  },
  "orig_nbformat": 4,
  "vscode": {
   "interpreter": {
    "hash": "45febe76975722684d118080d9a6aaa642f14e6c45eb01bc920e7410e5dcfee2"
   }
  }
 },
 "nbformat": 4,
 "nbformat_minor": 2
}
