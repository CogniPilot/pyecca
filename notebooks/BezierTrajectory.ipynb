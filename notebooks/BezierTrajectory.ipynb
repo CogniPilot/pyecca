{
 "cells": [
  {
   "cell_type": "code",
   "execution_count": 15,
   "metadata": {},
   "outputs": [],
   "source": [
    "import sympy\n",
    "from sympy import symbols, factorial, Function, summation, binomial, product, Sum\n",
    "\n",
    "n, i, j, m = symbols('n, i, j, m', integer=True, real=True)\n",
    "\n",
    "t = symbols('t')\n",
    "T = symbols('T')\n",
    "beta = sympy.symbols('beta')\n",
    "beta_dot = 1/T\n",
    "P = Function('P')\n",
    "\n",
    "def bernstein(i, n, t):\n",
    "    return binomial(n, i)*(1 - t)**(n-i)*t**i\n",
    "\n",
    "def bezier(i, n, t):\n",
    "    return Sum(bernstein(i, n, t)*P(i), (i, 0, n))\n",
    "\n",
    "def bezier_dot(i, n, t):\n",
    "    return Sum(bernstein(i, n-1, t)*(P(i+1) - P(i)), (i, 0, n-1))"
   ]
  },
  {
   "cell_type": "code",
   "execution_count": 16,
   "metadata": {},
   "outputs": [
    {
     "data": {
      "text/latex": [
       "$\\displaystyle 6$"
      ],
      "text/plain": [
       "6"
      ]
     },
     "execution_count": 16,
     "metadata": {},
     "output_type": "execute_result"
    }
   ],
   "source": [
    "Sum(i, (i, 0, 3)).doit()"
   ]
  },
  {
   "cell_type": "code",
   "execution_count": 17,
   "metadata": {},
   "outputs": [
    {
     "data": {
      "text/latex": [
       "$\\displaystyle \\sum_{i=0}^{n} t^{i} \\left(1 - t\\right)^{- i + n} P{\\left(i \\right)} {\\binom{n}{i}}$"
      ],
      "text/plain": [
       "Sum(t**i*(1 - t)**(-i + n)*P(i)*binomial(n, i), (i, 0, n))"
      ]
     },
     "execution_count": 17,
     "metadata": {},
     "output_type": "execute_result"
    }
   ],
   "source": [
    "bezier(i, n, t)"
   ]
  },
  {
   "cell_type": "code",
   "execution_count": 18,
   "metadata": {},
   "outputs": [
    {
     "data": {
      "text/latex": [
       "$\\displaystyle \\sum_{i=0}^{n - 1} t^{i} \\left(1 - t\\right)^{- i + n - 1} \\left(- P{\\left(i \\right)} + P{\\left(i + 1 \\right)}\\right) {\\binom{n - 1}{i}}$"
      ],
      "text/plain": [
       "Sum(t**i*(1 - t)**(-i + n - 1)*(-P(i) + P(i + 1))*binomial(n - 1, i), (i, 0, n - 1))"
      ]
     },
     "execution_count": 18,
     "metadata": {},
     "output_type": "execute_result"
    }
   ],
   "source": [
    "bezier_dot(i, n, t)"
   ]
  },
  {
   "cell_type": "code",
   "execution_count": 19,
   "metadata": {},
   "outputs": [
    {
     "name": "stdout",
     "output_type": "stream",
     "text": [
      "1\n",
      "[-P(0) + P(1), -P(1) + P(2), -P(2) + P(3), -P(3) + P(4), -P(4) + P(5), -P(5) + P(6)]\n",
      "2\n",
      "[P(0) - 2*P(1) + P(2), P(1) - 2*P(2) + P(3), P(2) - 2*P(3) + P(4), P(3) - 2*P(4) + P(5), P(4) - 2*P(5) + P(6)]\n",
      "3\n",
      "[-P(0) + 3*P(1) - 3*P(2) + P(3), -P(1) + 3*P(2) - 3*P(3) + P(4), -P(2) + 3*P(3) - 3*P(4) + P(5), -P(3) + 3*P(4) - 3*P(5) + P(6)]\n",
      "4\n",
      "[P(0) - 4*P(1) + 6*P(2) - 4*P(3) + P(4), P(1) - 4*P(2) + 6*P(3) - 4*P(4) + P(5), P(2) - 4*P(3) + 6*P(4) - 4*P(5) + P(6)]\n",
      "5\n",
      "[-P(0) + 5*P(1) - 10*P(2) + 10*P(3) - 5*P(4) + P(5), -P(1) + 5*P(2) - 10*P(3) + 10*P(4) - 5*P(5) + P(6)]\n",
      "6\n",
      "[P(0) - 6*P(1) + 15*P(2) - 20*P(3) + 15*P(4) - 6*P(5) + P(6)]\n"
     ]
    },
    {
     "data": {
      "text/plain": [
       "[[P(0), P(1), P(2), P(3), P(4), P(5), P(6), P(7)],\n",
       " [-P(0) + P(1),\n",
       "  -P(1) + P(2),\n",
       "  -P(2) + P(3),\n",
       "  -P(3) + P(4),\n",
       "  -P(4) + P(5),\n",
       "  -P(5) + P(6)],\n",
       " [P(0) - 2*P(1) + P(2),\n",
       "  P(1) - 2*P(2) + P(3),\n",
       "  P(2) - 2*P(3) + P(4),\n",
       "  P(3) - 2*P(4) + P(5),\n",
       "  P(4) - 2*P(5) + P(6)],\n",
       " [-P(0) + 3*P(1) - 3*P(2) + P(3),\n",
       "  -P(1) + 3*P(2) - 3*P(3) + P(4),\n",
       "  -P(2) + 3*P(3) - 3*P(4) + P(5),\n",
       "  -P(3) + 3*P(4) - 3*P(5) + P(6)],\n",
       " [P(0) - 4*P(1) + 6*P(2) - 4*P(3) + P(4),\n",
       "  P(1) - 4*P(2) + 6*P(3) - 4*P(4) + P(5),\n",
       "  P(2) - 4*P(3) + 6*P(4) - 4*P(5) + P(6)],\n",
       " [-P(0) + 5*P(1) - 10*P(2) + 10*P(3) - 5*P(4) + P(5),\n",
       "  -P(1) + 5*P(2) - 10*P(3) + 10*P(4) - 5*P(5) + P(6)],\n",
       " [P(0) - 6*P(1) + 15*P(2) - 20*P(3) + 15*P(4) - 6*P(5) + P(6)]]"
      ]
     },
     "execution_count": 19,
     "metadata": {},
     "output_type": "execute_result"
    }
   ],
   "source": [
    "f_P = sympy.Function('P')\n",
    "n = 8\n",
    "\n",
    "D = [[ f_P(i) for i in range(n) ]]\n",
    "\n",
    "for j in range(1, n-1):\n",
    "    print(j)\n",
    "    Dj = [ D[j-1][i+1] - D[j-1][i] for i in range(n-j-1) ]\n",
    "    D.append(Dj)\n",
    "    print(Dj)\n",
    "D\n"
   ]
  },
  {
   "cell_type": "code",
   "execution_count": null,
   "metadata": {},
   "outputs": [],
   "source": []
  },
  {
   "cell_type": "code",
   "execution_count": 20,
   "metadata": {},
   "outputs": [
    {
     "data": {
      "text/latex": [
       "$\\displaystyle \\prod_{m=0}^{j - 1} \\left(- m + n\\right)$"
      ],
      "text/plain": [
       "Product(-m + n, (m, 0, j - 1))"
      ]
     },
     "execution_count": 20,
     "metadata": {},
     "output_type": "execute_result"
    }
   ],
   "source": [
    "n, m, j = sympy.symbols('n, m, j', integer=True)\n",
    "sympy.Product((n - m), (m, 0, j-1))"
   ]
  },
  {
   "cell_type": "code",
   "execution_count": 21,
   "metadata": {},
   "outputs": [
    {
     "data": {
      "text/latex": [
       "$\\displaystyle \\left(\\prod_{m=0}^{j - 1} \\left(- m + n\\right)\\right) \\sum_{i=0}^{j} \\frac{\\left(-1\\right)^{i + j} P{\\left(i \\right)}}{i! \\left(- i + j\\right)!}$"
      ],
      "text/plain": [
       "Product(-m + n, (m, 0, j - 1))*Sum((-1)**(i + j)*P(i)/(factorial(i)*factorial(-i + j)), (i, 0, j))"
      ]
     },
     "execution_count": 21,
     "metadata": {},
     "output_type": "execute_result"
    }
   ],
   "source": [
    "C_j = sympy.Product((n - m), (m, 0, j-1))*\\\n",
    "    sympy.Sum((-1)**(i + j)*f_P(i)/(sympy.factorial(i)*sympy.factorial(j - i)), (i, 0, j))\n",
    "C_j"
   ]
  },
  {
   "cell_type": "code",
   "execution_count": 37,
   "metadata": {},
   "outputs": [
    {
     "data": {
      "text/latex": [
       "$\\displaystyle \\left(-1\\right)^{j} {\\left(- n\\right)}^{\\left(j\\right)} \\sum_{i=0}^{j} \\frac{\\left(-1\\right)^{i + j} P{\\left(i \\right)}}{i! \\left(- i + j\\right)!}$"
      ],
      "text/plain": [
       "(-1)**j*RisingFactorial(-n, j)*Sum((-1)**(i + j)*P(i)/(factorial(i)*factorial(-i + j)), (i, 0, j))"
      ]
     },
     "execution_count": 37,
     "metadata": {},
     "output_type": "execute_result"
    }
   ],
   "source": [
    "C_j = C_j.doit()\n",
    "C_j"
   ]
  },
  {
   "cell_type": "code",
   "execution_count": null,
   "metadata": {},
   "outputs": [],
   "source": []
  },
  {
   "cell_type": "code",
   "execution_count": 40,
   "metadata": {},
   "outputs": [
    {
     "ename": "ValueError",
     "evalue": "Invalid limits given: (0, i)",
     "output_type": "error",
     "traceback": [
      "\u001b[0;31m---------------------------------------------------------------------------\u001b[0m",
      "\u001b[0;31mValueError\u001b[0m                                Traceback (most recent call last)",
      "Cell \u001b[0;32mIn[40], line 4\u001b[0m\n\u001b[1;32m      1\u001b[0m \u001b[39mfrom\u001b[39;00m \u001b[39msympy\u001b[39;00m\u001b[39m.\u001b[39;00m\u001b[39mabc\u001b[39;00m \u001b[39mimport\u001b[39;00m x, y, z\n\u001b[1;32m      2\u001b[0m \u001b[39mfrom\u001b[39;00m \u001b[39msympy\u001b[39;00m\u001b[39m.\u001b[39;00m\u001b[39mutilities\u001b[39;00m\u001b[39m.\u001b[39;00m\u001b[39mcodegen\u001b[39;00m \u001b[39mimport\u001b[39;00m codegen\n\u001b[0;32m----> 4\u001b[0m [(c_name, c_code), (h_name, c_header)] \u001b[39m=\u001b[39m codegen((\u001b[39m\"\u001b[39m\u001b[39mC_j\u001b[39m\u001b[39m\"\u001b[39m, sympy\u001b[39m.\u001b[39;49mproduct(i, \u001b[39m0\u001b[39;49m, i)), \u001b[39m\"\u001b[39m\u001b[39mC89\u001b[39m\u001b[39m\"\u001b[39m, \u001b[39m\"\u001b[39m\u001b[39mtest\u001b[39m\u001b[39m\"\u001b[39m, header\u001b[39m=\u001b[39m\u001b[39mFalse\u001b[39;00m, empty\u001b[39m=\u001b[39m\u001b[39mFalse\u001b[39;00m)\n",
      "File \u001b[0;32m~/.virtualenvs/pyecca/lib/python3.10/site-packages/sympy/concrete/products.py:605\u001b[0m, in \u001b[0;36mproduct\u001b[0;34m(*args, **kwargs)\u001b[0m\n\u001b[1;32m    568\u001b[0m \u001b[39mdef\u001b[39;00m \u001b[39mproduct\u001b[39m(\u001b[39m*\u001b[39margs, \u001b[39m*\u001b[39m\u001b[39m*\u001b[39mkwargs):\n\u001b[1;32m    569\u001b[0m \u001b[39m    \u001b[39m\u001b[39mr\u001b[39m\u001b[39m\"\"\"\u001b[39;00m\n\u001b[1;32m    570\u001b[0m \u001b[39m    Compute the product.\u001b[39;00m\n\u001b[1;32m    571\u001b[0m \n\u001b[0;32m   (...)\u001b[0m\n\u001b[1;32m    602\u001b[0m \n\u001b[1;32m    603\u001b[0m \u001b[39m    \"\"\"\u001b[39;00m\n\u001b[0;32m--> 605\u001b[0m     prod \u001b[39m=\u001b[39m Product(\u001b[39m*\u001b[39;49margs, \u001b[39m*\u001b[39;49m\u001b[39m*\u001b[39;49mkwargs)\n\u001b[1;32m    607\u001b[0m     \u001b[39mif\u001b[39;00m \u001b[39misinstance\u001b[39m(prod, Product):\n\u001b[1;32m    608\u001b[0m         \u001b[39mreturn\u001b[39;00m prod\u001b[39m.\u001b[39mdoit(deep\u001b[39m=\u001b[39m\u001b[39mFalse\u001b[39;00m)\n",
      "File \u001b[0;32m~/.virtualenvs/pyecca/lib/python3.10/site-packages/sympy/concrete/products.py:197\u001b[0m, in \u001b[0;36mProduct.__new__\u001b[0;34m(cls, function, *symbols, **assumptions)\u001b[0m\n\u001b[1;32m    196\u001b[0m \u001b[39mdef\u001b[39;00m \u001b[39m__new__\u001b[39m(\u001b[39mcls\u001b[39m, function, \u001b[39m*\u001b[39msymbols, \u001b[39m*\u001b[39m\u001b[39m*\u001b[39massumptions):\n\u001b[0;32m--> 197\u001b[0m     obj \u001b[39m=\u001b[39m ExprWithIntLimits\u001b[39m.\u001b[39;49m\u001b[39m__new__\u001b[39;49m(\u001b[39mcls\u001b[39;49m, function, \u001b[39m*\u001b[39;49msymbols, \u001b[39m*\u001b[39;49m\u001b[39m*\u001b[39;49massumptions)\n\u001b[1;32m    198\u001b[0m     \u001b[39mreturn\u001b[39;00m obj\n",
      "File \u001b[0;32m~/.virtualenvs/pyecca/lib/python3.10/site-packages/sympy/concrete/expr_with_limits.py:204\u001b[0m, in \u001b[0;36mExprWithLimits.__new__\u001b[0;34m(cls, function, *symbols, **assumptions)\u001b[0m\n\u001b[1;32m    202\u001b[0m \u001b[39mdef\u001b[39;00m \u001b[39m__new__\u001b[39m(\u001b[39mcls\u001b[39m, function, \u001b[39m*\u001b[39msymbols, \u001b[39m*\u001b[39m\u001b[39m*\u001b[39massumptions):\n\u001b[1;32m    203\u001b[0m     \u001b[39mfrom\u001b[39;00m \u001b[39msympy\u001b[39;00m\u001b[39m.\u001b[39;00m\u001b[39mconcrete\u001b[39;00m\u001b[39m.\u001b[39;00m\u001b[39mproducts\u001b[39;00m \u001b[39mimport\u001b[39;00m Product\n\u001b[0;32m--> 204\u001b[0m     pre \u001b[39m=\u001b[39m _common_new(\u001b[39mcls\u001b[39;49m, function, \u001b[39m*\u001b[39;49msymbols,\n\u001b[1;32m    205\u001b[0m         discrete\u001b[39m=\u001b[39;49m\u001b[39missubclass\u001b[39;49m(\u001b[39mcls\u001b[39;49m, Product), \u001b[39m*\u001b[39;49m\u001b[39m*\u001b[39;49massumptions)\n\u001b[1;32m    206\u001b[0m     \u001b[39mif\u001b[39;00m \u001b[39misinstance\u001b[39m(pre, \u001b[39mtuple\u001b[39m):\n\u001b[1;32m    207\u001b[0m         function, limits, _ \u001b[39m=\u001b[39m pre\n",
      "File \u001b[0;32m~/.virtualenvs/pyecca/lib/python3.10/site-packages/sympy/concrete/expr_with_limits.py:57\u001b[0m, in \u001b[0;36m_common_new\u001b[0;34m(cls, function, discrete, *symbols, **assumptions)\u001b[0m\n\u001b[1;32m     54\u001b[0m     \u001b[39mreturn\u001b[39;00m S\u001b[39m.\u001b[39mNaN\n\u001b[1;32m     56\u001b[0m \u001b[39mif\u001b[39;00m symbols:\n\u001b[0;32m---> 57\u001b[0m     limits, orientation \u001b[39m=\u001b[39m _process_limits(\u001b[39m*\u001b[39;49msymbols, discrete\u001b[39m=\u001b[39;49mdiscrete)\n\u001b[1;32m     58\u001b[0m     \u001b[39mfor\u001b[39;00m i, li \u001b[39min\u001b[39;00m \u001b[39menumerate\u001b[39m(limits):\n\u001b[1;32m     59\u001b[0m         \u001b[39mif\u001b[39;00m \u001b[39mlen\u001b[39m(li) \u001b[39m==\u001b[39m \u001b[39m4\u001b[39m:\n",
      "File \u001b[0;32m~/.virtualenvs/pyecca/lib/python3.10/site-packages/sympy/concrete/expr_with_limits.py:194\u001b[0m, in \u001b[0;36m_process_limits\u001b[0;34m(discrete, *symbols)\u001b[0m\n\u001b[1;32m    191\u001b[0m                     limits\u001b[39m.\u001b[39mappend(Tuple(newsymbol, V[\u001b[39m1\u001b[39m]))\n\u001b[1;32m    192\u001b[0m                     \u001b[39mcontinue\u001b[39;00m\n\u001b[0;32m--> 194\u001b[0m     \u001b[39mraise\u001b[39;00m \u001b[39mValueError\u001b[39;00m(\u001b[39m'\u001b[39m\u001b[39mInvalid limits given: \u001b[39m\u001b[39m%s\u001b[39;00m\u001b[39m'\u001b[39m \u001b[39m%\u001b[39m \u001b[39mstr\u001b[39m(symbols))\n\u001b[1;32m    196\u001b[0m \u001b[39mreturn\u001b[39;00m limits, orientation\n",
      "\u001b[0;31mValueError\u001b[0m: Invalid limits given: (0, i)"
     ]
    }
   ],
   "source": [
    "from sympy.abc import x, y, z\n",
    "from sympy.utilities.codegen import codegen\n",
    "\n",
    "[(c_name, c_code), (h_name, c_header)] = codegen((\"C_j\", sympy.product(i, 0, i)), \"C89\", \"test\", header=False, empty=False)"
   ]
  },
  {
   "cell_type": "code",
   "execution_count": 39,
   "metadata": {},
   "outputs": [
    {
     "name": "stdout",
     "output_type": "stream",
     "text": [
      "#include \"test.h\"\n",
      "#include <math.h>\n",
      "double C_j(int j, int n) {\n",
      "   double C_j_result;\n",
      "   C_j_result = pow(-1, j)*RisingFactorial(-n, j)*Sum(pow(-1, i + j)*P(i)/(factorial(i)*factorial(-i + j)), (i, 0, j));\n",
      "   return C_j_result;\n",
      "}\n",
      "\n"
     ]
    }
   ],
   "source": [
    "print(c_code)"
   ]
  },
  {
   "cell_type": "code",
   "execution_count": 23,
   "metadata": {},
   "outputs": [
    {
     "data": {
      "text/plain": [
       "[P(0),\n",
       " -7*P(0) + 7*P(1),\n",
       " 21*P(0) - 42*P(1) + 21*P(2),\n",
       " -35*P(0) + 105*P(1) - 105*P(2) + 35*P(3),\n",
       " 35*P(0) - 140*P(1) + 210*P(2) - 140*P(3) + 35*P(4),\n",
       " -21*P(0) + 105*P(1) - 210*P(2) + 210*P(3) - 105*P(4) + 21*P(5),\n",
       " 7*P(0) - 42*P(1) + 105*P(2) - 140*P(3) + 105*P(4) - 42*P(5) + 7*P(6)]"
      ]
     },
     "execution_count": 23,
     "metadata": {},
     "output_type": "execute_result"
    }
   ],
   "source": [
    "[ C_j.subs(j, ji).subs(n, 7).doit() for ji in range(7)]"
   ]
  },
  {
   "cell_type": "code",
   "execution_count": 217,
   "metadata": {},
   "outputs": [
    {
     "data": {
      "text/latex": [
       "$\\displaystyle \\left(-1\\right)^{j} {\\left(- n\\right)}^{\\left(j\\right)}$"
      ],
      "text/plain": [
       "(-1)**j*RisingFactorial(-n, j)"
      ]
     },
     "execution_count": 217,
     "metadata": {},
     "output_type": "execute_result"
    }
   ],
   "source": [
    "sympy.Product((n - m), (m, 0, j-1)).doit()"
   ]
  },
  {
   "cell_type": "code",
   "execution_count": null,
   "metadata": {},
   "outputs": [],
   "source": []
  }
 ],
 "metadata": {
  "kernelspec": {
   "display_name": "pyecca",
   "language": "python",
   "name": "python3"
  },
  "language_info": {
   "codemirror_mode": {
    "name": "ipython",
    "version": 3
   },
   "file_extension": ".py",
   "mimetype": "text/x-python",
   "name": "python",
   "nbconvert_exporter": "python",
   "pygments_lexer": "ipython3",
   "version": "3.10.6"
  },
  "orig_nbformat": 4,
  "vscode": {
   "interpreter": {
    "hash": "ada48a88b30eb6f4ce0095d7ea02eab09f2abe756ddb188cd7215f6ee0ee8358"
   }
  }
 },
 "nbformat": 4,
 "nbformat_minor": 2
}
