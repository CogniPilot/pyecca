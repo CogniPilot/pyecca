{
 "cells": [
  {
   "cell_type": "code",
   "execution_count": 11,
   "metadata": {},
   "outputs": [],
   "source": [
    "import sys\n",
    "sys.path.insert(0, '..')\n",
    "import casadi as ca\n",
    "import numpy as np\n",
    "import sympy\n",
    "from pyecca.symbolic import sympy_to_casadi"
   ]
  },
  {
   "cell_type": "code",
   "execution_count": 21,
   "metadata": {},
   "outputs": [
    {
     "data": {
      "text/plain": [
       "{'Q': Matrix([\n",
       " [0, 0, 0,        0,        0,         0],\n",
       " [0, 0, 0,        0,        0,         0],\n",
       " [0, 0, 0,        0,        0,         0],\n",
       " [0, 0, 0,     72*T, 144*T**2,  240*T**3],\n",
       " [0, 0, 0, 144*T**2, 384*T**3,  720*T**4],\n",
       " [0, 0, 0, 240*T**3, 720*T**4, 1440*T**5]]),\n",
       " 'f_Q': Function(Q:(i0)->(o0[6x6,9nz]) SXFunction)}"
      ]
     },
     "execution_count": 21,
     "metadata": {},
     "output_type": "execute_result"
    }
   ],
   "source": [
    "def sympy_derivations(poly_deg, cost_diff):\n",
    "    t = sympy.symbols('t')\n",
    "    p = sympy.Function('p')\n",
    "    j, n = sympy.symbols('j, n', integer=True)\n",
    "    \n",
    "    # polynomial\n",
    "    P = sympy.summation(p(j)*t**j, (j, 0, n))\n",
    "    T = sympy.symbols('T')\n",
    "\n",
    "    \n",
    "    p = sympy.Matrix([p(i) for i in range(poly_deg + 1)])\n",
    "    P = P.subs({n: poly_deg}).doit()\n",
    "    \n",
    "    cost_jerk = sympy.Matrix([sympy.integrate(P.diff(t, cost_diff)**2, (t, 0, T)).simplify()])\n",
    "    Q = cost_jerk.jacobian(p).jacobian(p)\n",
    "    \n",
    "    T_ca = ca.SX.sym('T')\n",
    "    Q_ca = sympy_to_casadi(f=Q, symbols={'T': T_ca})[0]\n",
    "    f_Q = ca.Function('Q', [T_ca], [ca.sparsify(Q_ca)])\n",
    "        \n",
    "    return {\n",
    "        'Q': Q,\n",
    "        'f_Q': f_Q\n",
    "    }\n",
    "    \n",
    "sym_exprs = sympy_derivations(poly_deg=5, cost_diff=3)\n",
    "sym_exprs"
   ]
  },
  {
   "cell_type": "code",
   "execution_count": 22,
   "metadata": {},
   "outputs": [
    {
     "data": {
      "text/plain": [
       "SX(@1=72, @2=144, @3=240, @4=384, @5=720, @6=1440, ((((((((c_3*(@1*T_0))+(c_4*(@2*sq(T_0))))+(c_5*(@3*(T_0*sq(T_0)))))*c_3)+((((c_3*(@2*sq(T_0)))+(c_4*(@4*(T_0*sq(T_0)))))+(c_5*(@5*sq(sq(T_0)))))*c_4))+((((c_3*(@3*(T_0*sq(T_0))))+(c_4*(@5*sq(sq(T_0)))))+(c_5*(@6*(T_0*sq(sq(T_0))))))*c_5))+((((((c_9*(@1*T_1))+(c_10*(@2*sq(T_1))))+(c_11*(@3*(T_1*sq(T_1)))))*c_9)+((((c_9*(@2*sq(T_1)))+(c_10*(@4*(T_1*sq(T_1)))))+(c_11*(@5*sq(sq(T_1)))))*c_10))+((((c_9*(@3*(T_1*sq(T_1))))+(c_10*(@5*sq(sq(T_1)))))+(c_11*(@6*(T_1*sq(sq(T_1))))))*c_11)))+((((((c_15*(@1*T_2))+(c_16*(@2*sq(T_2))))+(c_17*(@3*(T_2*sq(T_2)))))*c_15)+((((c_15*(@2*sq(T_2)))+(c_16*(@4*(T_2*sq(T_2)))))+(c_17*(@5*sq(sq(T_2)))))*c_16))+((((c_15*(@3*(T_2*sq(T_2))))+(c_16*(@5*sq(sq(T_2)))))+(c_17*(@6*(T_2*sq(sq(T_2))))))*c_17))))"
      ]
     },
     "execution_count": 22,
     "metadata": {},
     "output_type": "execute_result"
    }
   ],
   "source": [
    "n_legs = 3\n",
    "poly_deg = 5\n",
    "cost_diff = 3\n",
    "\n",
    "t = ca.SX.sym('t')  # current time\n",
    "T = ca.SX.sym('T', n_legs)  # leg times\n",
    "c = ca.SX.sym('c', poly_deg+1, n_legs)  # coefficients for all legs\n",
    "\n",
    "p = ca.SX.zeros(n_legs)  # polynomial for each leg\n",
    "t_start = 0  # start time\n",
    "for j in range(n_legs):  # increment over all legs\n",
    "    beta_j = (t - t_start)/T[j]  # scaled time\n",
    "    t_start += T[j]  # start time\n",
    "    for i in range(poly_deg):  # sum polynomial\n",
    "        p[j] += c[i, j]*beta_j**i  # polynomial\n",
    "\n",
    "sym_exprs = sympy_derivations(poly_deg=poly_deg, cost_diff=cost_diff)\n",
    "\n",
    "J = 0\n",
    "for j in range(n_legs):\n",
    "    Q_j = sym_exprs['f_Q'](T[j])\n",
    "    c_j = c[:, j]\n",
    "    J += c_j.T@Q_j@c_j\n",
    "\n",
    "J"
   ]
  },
  {
   "cell_type": "code",
   "execution_count": 19,
   "metadata": {},
   "outputs": [
    {
     "data": {
      "text/plain": [
       "SX(@1=240, @2=(@1*(T_0*sq(T_0))), @3=144, @4=(@3*sq(T_0)), @5=72, @6=(@5*T_0), @7=(@3*sq(T_0)), @8=(@1*(T_0*sq(T_0))), @9=720, @10=(@9*sq(sq(T_0))), @11=384, @12=(@11*(T_0*sq(T_0))), @13=(@9*sq(sq(T_0))), @14=1440, @15=(@14*(T_0*sq(sq(T_0)))), @16=(@1*(T_1*sq(T_1))), @17=(@3*sq(T_1)), @18=(@5*T_1), @19=(@3*sq(T_1)), @20=(@1*(T_1*sq(T_1))), @21=(@9*sq(sq(T_1))), @22=(@11*(T_1*sq(T_1))), @23=(@9*sq(sq(T_1))), @24=(@14*(T_1*sq(sq(T_1)))), @25=(@1*(T_2*sq(T_2))), @26=(@3*sq(T_2)), @27=(@5*T_2), @28=(@3*sq(T_2)), @29=(@1*(T_2*sq(T_2))), @30=(@9*sq(sq(T_2))), @31=(@11*(T_2*sq(T_2))), @32=(@9*sq(sq(T_2))), @33=(@14*(T_2*sq(sq(T_2)))), [[00, 00, 00, ((((@2*c_5)+(@4*c_4))+(((c_3*@6)+(c_4*@7))+(c_5*@8)))+(@6*c_3)), ((((@10*c_5)+(((c_3*@4)+(c_4*@12))+(c_5*@13)))+(@12*c_4))+(@7*c_3)), ((((((c_3*@2)+(c_4*@10))+(c_5*@15))+(@15*c_5))+(@13*c_4))+(@8*c_3)), 00, 00, 00, ((((@16*c_11)+(@17*c_10))+(((c_9*@18)+(c_10*@19))+(c_11*@20)))+(@18*c_9)), ((((@21*c_11)+(((c_9*@17)+(c_10*@22))+(c_11*@23)))+(@22*c_10))+(@19*c_9)), ((((((c_9*@16)+(c_10*@21))+(c_11*@24))+(@24*c_11))+(@23*c_10))+(@20*c_9)), 00, 00, 00, ((((@25*c_17)+(@26*c_16))+(((c_15*@27)+(c_16*@28))+(c_17*@29)))+(@27*c_15)), ((((@30*c_17)+(((c_15*@26)+(c_16*@31))+(c_17*@32)))+(@31*c_16))+(@28*c_15)), ((((((c_15*@25)+(c_16*@30))+(c_17*@33))+(@33*c_17))+(@32*c_16))+(@29*c_15))]])"
      ]
     },
     "execution_count": 19,
     "metadata": {},
     "output_type": "execute_result"
    }
   ],
   "source": [
    "ca.jacobian(J, c)"
   ]
  },
  {
   "cell_type": "code",
   "execution_count": 17,
   "metadata": {},
   "outputs": [
    {
     "data": {
      "text/plain": [
       "(6, 3)"
      ]
     },
     "execution_count": 17,
     "metadata": {},
     "output_type": "execute_result"
    }
   ],
   "source": [
    "c.shape"
   ]
  },
  {
   "cell_type": "code",
   "execution_count": null,
   "metadata": {},
   "outputs": [],
   "source": []
  }
 ],
 "metadata": {
  "kernelspec": {
   "display_name": "Python 3",
   "language": "python",
   "name": "python3"
  },
  "language_info": {
   "codemirror_mode": {
    "name": "ipython",
    "version": 3
   },
   "file_extension": ".py",
   "mimetype": "text/x-python",
   "name": "python",
   "nbconvert_exporter": "python",
   "pygments_lexer": "ipython3",
   "version": "3.10.6 (main, Nov 14 2022, 16:10:14) [GCC 11.3.0]"
  },
  "orig_nbformat": 4,
  "vscode": {
   "interpreter": {
    "hash": "31f2aee4e71d21fbe5cf8b01ff0e069b9275f58929596ceb00d14d90e3e16cd6"
   }
  }
 },
 "nbformat": 4,
 "nbformat_minor": 2
}
