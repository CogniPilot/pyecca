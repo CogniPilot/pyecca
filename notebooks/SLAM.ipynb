{
 "cells": [
  {
   "cell_type": "code",
   "execution_count": 1,
   "id": "141942c9-b10a-43f6-a4ef-6a0d3f9c214f",
   "metadata": {},
   "outputs": [],
   "source": [
    "import matplotlib.pyplot as plt\n",
    "import numpy as np"
   ]
  },
  {
   "cell_type": "markdown",
   "id": "da257791-734f-43b1-8624-a17dbe1428f5",
   "metadata": {},
   "source": [
    "# Graph SLAM Problem\n",
    "\n",
    "$\\min J(x_i) = x_0^T\\Omega_0 x_0 + \\sum_t e_t R_t^{-1} e_t  + \\sum_t \\sum_i \\tilde{z}^i_t  Q_t^{-1} \\tilde{z}^i_t \\$"
   ]
  },
  {
   "cell_type": "markdown",
   "id": "e47ff02f-b2a2-49d3-be8c-8875f205d328",
   "metadata": {},
   "source": [
    "$ e_t \\equiv x_t - g(u_t, x_{t-1})$ prediction error at time t"
   ]
  },
  {
   "cell_type": "markdown",
   "id": "f5ffa739-7a31-4758-af00-56de43ee9a1a",
   "metadata": {},
   "source": [
    "$\\tilde{z}^i_t \\equiv z^i_t - h(x_t, m^i_t)$ measurement error"
   ]
  },
  {
   "cell_type": "markdown",
   "id": "80b434b0-9b94-44c8-bf88-a08938ba9f93",
   "metadata": {},
   "source": [
    "$\\dot{p_x} = v_x$\n",
    "\n",
    "$\\dot{p_y} = v_y$\n",
    "\n",
    "$x_t = \\begin{bmatrix} p_x \\\\ p_y \\end{bmatrix}$\n",
    "$u_t = \\begin{bmatrix} v_x \\\\ v_y \\end{bmatrix}$\n",
    "\n",
    "$x_t = x_{t-1} + \\Delta_t u_t $"
   ]
  },
  {
   "cell_type": "markdown",
   "id": "844d1368-5c4d-4aab-9909-b2b43d83deae",
   "metadata": {},
   "source": [
    "$g(u_t, x_t{-1}) = x_{t-1}  + \\Delta_t u_t$"
   ]
  },
  {
   "cell_type": "markdown",
   "id": "e2efebbd-387a-4f88-99da-904ab0ea8f36",
   "metadata": {},
   "source": [
    "Landmarks are points. And our measurement is relative position."
   ]
  },
  {
   "cell_type": "code",
   "execution_count": 119,
   "id": "003e5c17-a799-4011-a35c-8ac0c2788a9a",
   "metadata": {},
   "outputs": [],
   "source": [
    "def g(x: np.array, u: np.array, dt: float):\n",
    "    \"\"\"\n",
    "    Vehicle dynamics propagation.\n",
    "    \n",
    "    @param x: vehicle state\n",
    "    @param u: vehicle input\n",
    "    @param dt: time step\n",
    "    \"\"\"\n",
    "    return x + u*dt\n",
    "\n",
    "def data_association(x: np.array, z: np.array, landmarks: np.array):\n",
    "    \"\"\"\n",
    "    Associates measurement with known landmarks using maximum likelihood\n",
    "    \n",
    "    @param x: state of vehicle\n",
    "    @param z: measurement\n",
    "    @param landmarks: map of known landmarks\n",
    "    \"\"\"\n",
    "    z_expected = landmarks - x\n",
    "    z_error = z - z_expected\n",
    "    dist = np.linalg.norm(z_error, axis=1)\n",
    "    i = np.argmin(dist)\n",
    "    return i\n",
    "\n",
    "def h(x, m, noise=None):\n",
    "    \"\"\"\n",
    "    Predicts the measurements of a landmark at a given state. Returns None \n",
    "    if out of range.\n",
    "    \n",
    "    @param x: vehicle static\n",
    "    @param m: landmark\n",
    "    @param noise: bool to control noise\n",
    "    \"\"\"\n",
    "    dm = m - x\n",
    "    d = np.linalg.norm(dm)\n",
    "    m_range = d\n",
    "    m_bearing = np.arctan2(dm[0], dm[1])\n",
    "    if noise is not None:\n",
    "        m_bearing += noise['bearing_std']*np.random.randn()\n",
    "        m_range += d*noise['range_std']*np.random.randn()\n",
    "    return [m_range, m_bearing]\n",
    "\n",
    "def measure_landmarks(x, landmarks, noise=None, range_max=4):\n",
    "    \"\"\"\n",
    "    Predicts all measurements at a given state\n",
    "    \n",
    "    @param x: vehicle static\n",
    "    @param landmarks: list of existing landmarks\n",
    "    @param noise: bool to control noise\n",
    "    \"\"\"\n",
    "    z_list = []\n",
    "    for m in landmarks:\n",
    "        z = h(x, m, noise=noise)\n",
    "        if z[0] < range_max:\n",
    "            z_list.append(z)\n",
    "    return z_list\n",
    "\n",
    "def measure_odom(x, x_prev, noise=None):\n",
    "    dx = x - x_prev\n",
    "    d = np.linalg.norm(dx)\n",
    "    theta = np.arctan2(dx[0], dx[1])\n",
    "    R = np.array([[np.cos(theta), -np.sin(theta)], [np.cos(theta), np.sin(theta)]])\n",
    "    odom = dx\n",
    "    if noise is not None:\n",
    "        odom += d*(noise['odom_std']*np.random.randn(2) + R@np.array([noise['odom_bx_bias'], noise['odom_by_bias']]))\n",
    "    return list(odom)"
   ]
  },
  {
   "cell_type": "code",
   "execution_count": 120,
   "id": "b5957f16-e16e-4e3c-bb68-00cb04eadc2d",
   "metadata": {},
   "outputs": [],
   "source": [
    "def simulate(noise=None):\n",
    "    x = np.array([0, 0])\n",
    "    x_prev = x\n",
    "    u = np.array([1, 1])\n",
    "    dt = 2\n",
    "\n",
    "    landmarks = np.array([\n",
    "        [1, 3],\n",
    "        [4, 6],\n",
    "        [9, 1]\n",
    "    ])\n",
    "\n",
    "    hist = {\n",
    "        'x': [],\n",
    "        'u': [],\n",
    "        'odom': [],\n",
    "        'meas': []\n",
    "    }\n",
    "\n",
    "    for i in range(10):\n",
    "        t = dt*i\n",
    "\n",
    "        # measure landmarks\n",
    "        z_list = measure_landmarks(x, landmarks, noise=noise)\n",
    "\n",
    "        # propagate\n",
    "        u = np.array([np.sin(t/10), np.cos(t/10)])\n",
    "        x = g(x_prev, u, dt) # predict\n",
    "\n",
    "        # odometry\n",
    "        odom = measure_odom(x, x_prev, noise=noise)\n",
    "\n",
    "        x_prev = x\n",
    "\n",
    "        hist['x'].append(x)\n",
    "        hist['u'].append(u)\n",
    "        hist['odom'].append(odom)\n",
    "        hist['meas'].append(z_list)\n",
    "\n",
    "    for key in ['x', 'u']:\n",
    "        hist[key] = np.array(hist[key])\n",
    "\n",
    "    fig = plt.figure(1)\n",
    "    plt.plot(landmarks[:, 0], landmarks[:, 1], 'bo', label='landmarks')\n",
    "    plt.plot(hist['x'][:, 0], hist['x'][:, 1], 'r.', label='states', markersize=10)\n",
    "\n",
    "    # plot odom\n",
    "    x_odom = np.array([0, 0], dtype=float)\n",
    "    x_odom_hist = [x_odom]\n",
    "    for odom in hist['odom']:\n",
    "        x_odom = np.array(x_odom) + np.array(odom)\n",
    "        x_odom_hist.append(x_odom)\n",
    "    x_odom_hist = np.array(x_odom_hist)\n",
    "    plt.plot(x_odom_hist[:, 0], x_odom_hist[:, 1], 'g.', linewidth=3, label='odom')\n",
    "\n",
    "    # plot measurements\n",
    "    for x, meas_list in zip(x_odom_hist, hist['meas']):\n",
    "        for rng, bearing in meas_list:\n",
    "            plt.arrow(x[0], x[1], rng*np.sin(bearing) , rng*np.cos(bearing), width=0.1,\n",
    "                          length_includes_head=True)\n",
    "\n",
    "    plt.axis([0, 10, 0, 10])\n",
    "    plt.grid()\n",
    "    plt.legend()\n",
    "    plt.axis('equal');\n",
    "    \n",
    "    return locals()"
   ]
  },
  {
   "cell_type": "code",
   "execution_count": 145,
   "id": "165c7555-6a34-4cdd-ac60-8b2aab870fd7",
   "metadata": {},
   "outputs": [],
   "source": [
    "def J_graph_slam(hist, x_graph, landmarks):\n",
    "    J = 0\n",
    "    \n",
    "    Q = np.eye(2)  # meas covariance\n",
    "    R = np.eye(2)  # odom covariance\n",
    "    R_I = np.linalg.inv(R)\n",
    "    Q_I = np.linalg.inv(Q)\n",
    "    \n",
    "    n_x = len(hist['x'])\n",
    "\n",
    "    for i in range(n_x):\n",
    "        \n",
    "        # compute odom cost\n",
    "        u = hist['u'][i]\n",
    "        odom = hist['odom'][i]\n",
    "        odom_predicted = np.array(x_graph[i+1]) - np.array(x_graph[i])\n",
    "        e_x = np.array(odom) - np.array(odom_predicted)\n",
    "        J += e_x.T@R_I@e_x\n",
    "    \n",
    "        # compute measurement cost\n",
    "        meas_list = hist['meas'][i]\n",
    "        n_m = len(meas_list)\n",
    "        z_i = measure_landmarks(x_graph[i], landmarks)\n",
    "        for j in range(n_m):\n",
    "            z_ij = meas_list[j]\n",
    "            c_ij = data_association(x_graph[i], z_ij, landmarks)\n",
    "            z_ij_predicted = h(x_graph[i], landmarks[c_ij])\n",
    "            e_z = np.array(z_ij) - np.array(z_ij_predicted)\n",
    "            print(i, j, e_z)\n",
    "            J += e_z.T@Q_I@e_z\n",
    "    return J"
   ]
  },
  {
   "cell_type": "code",
   "execution_count": 146,
   "id": "eb30b1a3-4cdc-4719-908c-98a778519984",
   "metadata": {},
   "outputs": [
    {
     "name": "stdout",
     "output_type": "stream",
     "text": [
      "0 0 [0. 0.]\n",
      "1 0 [0. 0.]\n",
      "2 0 [-3.00647227  1.52547254]\n",
      "3 0 [0. 0.]\n",
      "3 1 [0. 0.]\n",
      "4 0 [0. 0.]\n",
      "5 0 [0. 0.]\n"
     ]
    },
    {
     "data": {
      "text/plain": [
       "11.365941995027006"
      ]
     },
     "execution_count": 146,
     "metadata": {},
     "output_type": "execute_result"
    },
    {
     "data": {
      "image/png": "[encoded data removed]",
      "text/plain": [
       "<Figure size 432x288 with 1 Axes>"
      ]
     },
     "metadata": {
      "needs_background": "light"
     },
     "output_type": "display_data"
    }
   ],
   "source": [
    "noise={\n",
    "    'odom_std': 0,\n",
    "    'bearing_std': 0,\n",
    "    'range_std': 0,\n",
    "    'odom_bx_bias': 0,\n",
    "    'odom_by_bias': 0\n",
    "}\n",
    "sim = simulate(noise=noise);\n",
    "J_graph_slam(sim['hist'], sim['x_odom_hist'], sim['landmarks'])"
   ]
  }
 ],
 "metadata": {
  "kernelspec": {
   "display_name": "Python 3 (ipykernel)",
   "language": "python",
   "name": "python3"
  },
  "language_info": {
   "codemirror_mode": {
    "name": "ipython",
    "version": 3
   },
   "file_extension": ".py",
   "mimetype": "text/x-python",
   "name": "python",
   "nbconvert_exporter": "python",
   "pygments_lexer": "ipython3",
   "version": "3.10.5"
  }
 },
 "nbformat": 4,
 "nbformat_minor": 5
}
