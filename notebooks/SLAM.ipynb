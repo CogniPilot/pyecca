{
 "cells": [
  {
   "cell_type": "code",
   "execution_count": 2,
   "id": "141942c9-b10a-43f6-a4ef-6a0d3f9c214f",
   "metadata": {},
   "outputs": [],
   "source": [
    "import matplotlib.pyplot as plt\n",
    "import numpy as np"
   ]
  },
  {
   "cell_type": "markdown",
   "id": "da257791-734f-43b1-8624-a17dbe1428f5",
   "metadata": {},
   "source": [
    "# Graph SLAM Problem\n",
    "\n",
    "$\\min J(x_i) = x_0^T\\Omega_0 x_0 + \\sum_t e_t R_t^{-1} e_t  + \\sum_t \\sum_i \\tilde{z}^i_t  Q_t^{-1} \\tilde{z}^i_t \\$"
   ]
  },
  {
   "cell_type": "markdown",
   "id": "e47ff02f-b2a2-49d3-be8c-8875f205d328",
   "metadata": {},
   "source": [
    "$ e_t \\equiv x_t - g(u_t, x_{t-1})$ prediction error at time t"
   ]
  },
  {
   "cell_type": "markdown",
   "id": "f5ffa739-7a31-4758-af00-56de43ee9a1a",
   "metadata": {},
   "source": [
    "$\\tilde{z}^i_t \\equiv z^i_t - h(x_t, m^i_t)$ measurement error"
   ]
  },
  {
   "cell_type": "markdown",
   "id": "80b434b0-9b94-44c8-bf88-a08938ba9f93",
   "metadata": {},
   "source": [
    "$\\dot{p_x} = v_x$\n",
    "\n",
    "$\\dot{p_y} = v_y$\n",
    "\n",
    "$x_t = \\begin{bmatrix} p_x \\\\ p_y \\end{bmatrix}$\n",
    "$u_t = \\begin{bmatrix} v_x \\\\ v_y \\end{bmatrix}$\n",
    "\n",
    "$x_t = x_{t-1} + \\Delta_t u_t $"
   ]
  },
  {
   "cell_type": "markdown",
   "id": "844d1368-5c4d-4aab-9909-b2b43d83deae",
   "metadata": {},
   "source": [
    "$g(u_t, x_t{-1}) = x_{t-1}  + \\Delta_t u_t$"
   ]
  },
  {
   "cell_type": "markdown",
   "id": "e2efebbd-387a-4f88-99da-904ab0ea8f36",
   "metadata": {},
   "source": [
    "Landmarks are points. And our measurement is relative position."
   ]
  },
  {
   "cell_type": "code",
   "execution_count": 214,
   "id": "003e5c17-a799-4011-a35c-8ac0c2788a9a",
   "metadata": {},
   "outputs": [],
   "source": [
    "def g(x: np.array, u: np.array, dt: float):\n",
    "    \"\"\"\n",
    "    Vehicle dynamics propagation.\n",
    "    \n",
    "    @param x: vehicle state\n",
    "    @param u: vehicle input\n",
    "    @param dt: time step\n",
    "    \"\"\"\n",
    "    return x + u*dt\n",
    "\n",
    "def data_association(x: np.array, z: np.array, landmarks: np.array):\n",
    "    \"\"\"\n",
    "    Associates measurement with known landmarks using maximum likelihood\n",
    "    \n",
    "    @param x: state of vehicle\n",
    "    @param z: measurement\n",
    "    @param landmarks: map of known landmarks\n",
    "    \"\"\"\n",
    "    dm = landmarks - x\n",
    "    rng_pred = np.linalg.norm(dm, axis=1)\n",
    "    bearing_pred = np.arctan2(dm[:, 1], dm[:, 0])    \n",
    "    z_error_list = np.array([rng_pred, bearing_pred]).T - np.array([z])\n",
    "    Q = np.array([\n",
    "        [1, 0],\n",
    "        [0, 1]])\n",
    "    Q_I = np.linalg.inv(Q)\n",
    "    J_list = []\n",
    "    for z_error in z_error_list:\n",
    "        J_list.append(z_error.T@Q_I@z_error)\n",
    "    J_list = np.array(J_list)\n",
    "    i = np.argmin(J_list)\n",
    "    return i\n",
    "\n",
    "def h(x, m, noise=None):\n",
    "    \"\"\"\n",
    "    Predicts the measurements of a landmark at a given state. Returns None \n",
    "    if out of range.\n",
    "    \n",
    "    @param x: vehicle static\n",
    "    @param m: landmark\n",
    "    @param noise: bool to control noise\n",
    "    \"\"\"\n",
    "    dm = m - x\n",
    "    d = np.linalg.norm(dm)\n",
    "    m_range = d\n",
    "    m_bearing = np.arctan2(dm[1], dm[0])\n",
    "    if noise is not None:\n",
    "        m_bearing += noise['bearing_std']*np.random.randn()\n",
    "        m_range += d*noise['range_std']*np.random.randn()\n",
    "    return [m_range, m_bearing]\n",
    "\n",
    "def measure_landmarks(x, landmarks, noise=None, range_max=4):\n",
    "    \"\"\"\n",
    "    Predicts all measurements at a given state\n",
    "    \n",
    "    @param x: vehicle static\n",
    "    @param landmarks: list of existing landmarks\n",
    "    @param noise: bool to control noise\n",
    "    \"\"\"\n",
    "    z_list = []\n",
    "    for m in landmarks:\n",
    "        z = h(x, m, noise=noise)\n",
    "        if z[0] < range_max:\n",
    "            z_list.append(z)\n",
    "    return z_list\n",
    "\n",
    "def measure_odom(x, x_prev, noise=None):\n",
    "    dx = x - x_prev\n",
    "    d = np.linalg.norm(dx)\n",
    "    theta = np.arctan2(dx[1], dx[0])\n",
    "    odom = dx\n",
    "    if noise is not None:\n",
    "        R = np.array([[np.cos(theta), -np.sin(theta)], [np.sin(theta), np.cos(theta)]])\n",
    "        odom += d*(noise['odom_std']*np.random.randn(2) + R@np.array([noise['odom_bx_bias'], noise['odom_by_bias']]))\n",
    "    return list(odom)"
   ]
  },
  {
   "cell_type": "code",
   "execution_count": 248,
   "id": "b5957f16-e16e-4e3c-bb68-00cb04eadc2d",
   "metadata": {},
   "outputs": [],
   "source": [
    "def simulate(noise=None):\n",
    "    x = np.array([0, 0])\n",
    "    x_prev = x\n",
    "    dt = 2\n",
    "\n",
    "    landmarks = np.array([\n",
    "        [0, 2],\n",
    "        [4, 6],\n",
    "        [9, 1]\n",
    "    ])\n",
    "\n",
    "    hist = {\n",
    "        't': [],\n",
    "        'x': [],\n",
    "        'u': [],\n",
    "        'odom': [],\n",
    "        'meas': []\n",
    "    }\n",
    "\n",
    "    for i in range(10):\n",
    "        t = dt*i\n",
    "\n",
    "        # measure landmarks\n",
    "        z_list = measure_landmarks(x, landmarks, noise=noise)\n",
    "\n",
    "        # propagate\n",
    "        u = np.array([np.cos(t/10), np.sin(t/10)])\n",
    "        x = g(x_prev, u, dt) # predict\n",
    "\n",
    "        # odometry\n",
    "        odom = measure_odom(x, x_prev, noise=noise)\n",
    "\n",
    "        x_prev = x\n",
    "\n",
    "        hist['t'].append(t)\n",
    "        hist['x'].append(x)\n",
    "        hist['u'].append(u)\n",
    "        hist['odom'].append(odom)\n",
    "        hist['meas'].append(z_list)\n",
    "\n",
    "    for key in ['x', 'u']:\n",
    "        hist[key] = np.array(hist[key])\n",
    "\n",
    "    fig = plt.figure(1)\n",
    "    plt.plot(landmarks[:, 0], landmarks[:, 1], 'bo', label='landmarks')\n",
    "    plt.plot(hist['x'][:, 0], hist['x'][:, 1], 'r.', label='states', markersize=10)\n",
    "\n",
    "    # plot odom\n",
    "    x_odom = np.array([0, 0], dtype=float)\n",
    "    x_odom_hist = [x_odom]\n",
    "    for odom in hist['odom']:\n",
    "        x_odom = np.array(x_odom) + np.array(odom)\n",
    "        x_odom_hist.append(x_odom)\n",
    "    x_odom_hist = np.array(x_odom_hist)\n",
    "    plt.plot(x_odom_hist[:, 0], x_odom_hist[:, 1], 'g.', linewidth=3, label='odom')\n",
    "\n",
    "    # plot measurements\n",
    "    for x, meas_list in zip(x_odom_hist, hist['meas']):\n",
    "        for rng, bearing in meas_list:\n",
    "            plt.arrow(x[0], x[1], rng*np.cos(bearing) , rng*np.sin(bearing), width=0.1,\n",
    "                          length_includes_head=True)\n",
    "\n",
    "    plt.axis([0, 10, 0, 10])\n",
    "    plt.grid()\n",
    "    plt.legend()\n",
    "    plt.axis('equal');\n",
    "    \n",
    "    return locals()"
   ]
  },
  {
   "cell_type": "code",
   "execution_count": 249,
   "id": "165c7555-6a34-4cdd-ac60-8b2aab870fd7",
   "metadata": {},
   "outputs": [],
   "source": [
    "def J_graph_slam(hist, x_graph, landmarks):\n",
    "    J = 0\n",
    "    \n",
    "    Q = np.eye(2)  # meas covariance\n",
    "    R = np.eye(2)  # odom covariance\n",
    "    R_I = np.linalg.inv(R)\n",
    "    Q_I = np.linalg.inv(Q)\n",
    "    \n",
    "    n_x = len(hist['x'])\n",
    "\n",
    "    for i in range(n_x):        \n",
    "        # compute odom cost\n",
    "        u = hist['u'][i]\n",
    "        odom = hist['odom'][i]\n",
    "        odom_predicted = np.array(x_graph[i+1]) - np.array(x_graph[i])\n",
    "        e_x = np.array(odom) - np.array(odom_predicted)\n",
    "        J += e_x.T@R_I@e_x\n",
    "    \n",
    "        # compute measurement cost\n",
    "        meas_list = hist['meas'][i]\n",
    "        n_m = len(meas_list)\n",
    "        z_i = measure_landmarks(x_graph[i], landmarks)\n",
    "        for j in range(n_m):\n",
    "            z_ij = meas_list[j]\n",
    "            c_ij = data_association(x_graph[i], z_ij, landmarks)\n",
    "            z_ij_predicted = h(x_graph[i], landmarks[c_ij])\n",
    "            e_z = np.array(z_ij) - np.array(z_ij_predicted)\n",
    "            J += e_z.T@Q_I@e_z\n",
    "    return J"
   ]
  },
  {
   "cell_type": "code",
   "execution_count": 273,
   "id": "eb30b1a3-4cdc-4719-908c-98a778519984",
   "metadata": {},
   "outputs": [
    {
     "data": {
      "text/plain": [
       "0.0"
      ]
     },
     "execution_count": 273,
     "metadata": {},
     "output_type": "execute_result"
    },
    {
     "data": {
      "image/png": "[encoded data removed]",
      "text/plain": [
       "<Figure size 720x360 with 1 Axes>"
      ]
     },
     "metadata": {
      "needs_background": "light"
     },
     "output_type": "display_data"
    }
   ],
   "source": [
    "noise={\n",
    "    'odom_std': 0,\n",
    "    'bearing_std': 0,\n",
    "    'range_std': 0,\n",
    "    'odom_bx_bias': 0,\n",
    "    'odom_by_bias': 0\n",
    "}\n",
    "\n",
    "plt.figure(figsize=(10, 5))\n",
    "\n",
    "sim = simulate(noise=noise);\n",
    "\n",
    "J_graph_slam(sim['hist'], sim['x_odom_hist'], sim['landmarks'])"
   ]
  },
  {
   "cell_type": "code",
   "execution_count": 276,
   "id": "554e07a1-d596-4f8f-bed0-55f8719fa7a4",
   "metadata": {},
   "outputs": [],
   "source": [
    "import casadi as ca"
   ]
  },
  {
   "cell_type": "code",
   "execution_count": 391,
   "id": "56463845-98cc-4536-8cd5-595bd1271bbd",
   "metadata": {},
   "outputs": [
    {
     "ename": "TypeError",
     "evalue": "Wrong number or type of arguments for overloaded function 'SX_get'.\n  Possible C/C++ prototypes are:\n    casadi::Matrix< casadi::SXElem >::get(casadi::Matrix< casadi::SXElem > &,bool,casadi::Slice const &) const\n    casadi::Matrix< casadi::SXElem >::get(casadi::Matrix< casadi::SXElem > &,bool,casadi::Matrix< casadi_int > const &) const\n    casadi::Matrix< casadi::SXElem >::get(casadi::Matrix< casadi::SXElem > &,bool,casadi::Sparsity const &) const\n    casadi::Matrix< casadi::SXElem >::get(casadi::Matrix< casadi::SXElem > &,bool,casadi::Slice const &,casadi::Slice const &) const\n    casadi::Matrix< casadi::SXElem >::get(casadi::Matrix< casadi::SXElem > &,bool,casadi::Slice const &,casadi::Matrix< casadi_int > const &) const\n    casadi::Matrix< casadi::SXElem >::get(casadi::Matrix< casadi::SXElem > &,bool,casadi::Matrix< casadi_int > const &,casadi::Slice const &) const\n    casadi::Matrix< casadi::SXElem >::get(casadi::Matrix< casadi::SXElem > &,bool,casadi::Matrix< casadi_int > const &,casadi::Matrix< casadi_int > const &) const\n",
     "output_type": "error",
     "traceback": [
      "\u001b[0;31m---------------------------------------------------------------------------\u001b[0m",
      "\u001b[0;31mTypeError\u001b[0m                                 Traceback (most recent call last)",
      "Input \u001b[0;32mIn [391]\u001b[0m, in \u001b[0;36m<cell line: 40>\u001b[0;34m()\u001b[0m\n\u001b[1;32m     41\u001b[0m rng \u001b[38;5;241m=\u001b[39m meas[j, \u001b[38;5;241m0\u001b[39m]  \u001b[38;5;66;03m# measurement\u001b[39;00m\n\u001b[1;32m     42\u001b[0m bearing \u001b[38;5;241m=\u001b[39m meas[j, \u001b[38;5;241m1\u001b[39m]\n\u001b[0;32m---> 43\u001b[0m m \u001b[38;5;241m=\u001b[39m \u001b[43mlandmarks\u001b[49m\u001b[43m[\u001b[49m\u001b[43massoc\u001b[49m\u001b[43m[\u001b[49m\u001b[43mj\u001b[49m\u001b[43m]\u001b[49m\u001b[43m]\u001b[49m  \u001b[38;5;66;03m# landmark\u001b[39;00m\n\u001b[1;32m     44\u001b[0m x \u001b[38;5;241m=\u001b[39m x[x_meas[j]]  \u001b[38;5;66;03m# state measurement occurred at\u001b[39;00m\n\u001b[1;32m     46\u001b[0m dm \u001b[38;5;241m=\u001b[39m m \u001b[38;5;241m-\u001b[39m x\n",
      "File \u001b[0;32m~/anaconda3/envs/research/lib/python3.10/site-packages/casadi/casadi.py:5476\u001b[0m, in \u001b[0;36mSX.__getitem__\u001b[0;34m(self, s)\u001b[0m\n\u001b[1;32m   5474\u001b[0m   \u001b[38;5;28;01mif\u001b[39;00m s[\u001b[38;5;241m1\u001b[39m] \u001b[38;5;129;01mis\u001b[39;00m \u001b[38;5;28;01mNone\u001b[39;00m: \u001b[38;5;28;01mraise\u001b[39;00m \u001b[38;5;167;01mTypeError\u001b[39;00m(\u001b[38;5;124m\"\u001b[39m\u001b[38;5;124mCannot slice with None\u001b[39m\u001b[38;5;124m\"\u001b[39m)\n\u001b[1;32m   5475\u001b[0m   \u001b[38;5;28;01mreturn\u001b[39;00m \u001b[38;5;28mself\u001b[39m\u001b[38;5;241m.\u001b[39mget(\u001b[38;5;28;01mFalse\u001b[39;00m, s[\u001b[38;5;241m0\u001b[39m], s[\u001b[38;5;241m1\u001b[39m])\n\u001b[0;32m-> 5476\u001b[0m \u001b[38;5;28;01mreturn\u001b[39;00m \u001b[38;5;28;43mself\u001b[39;49m\u001b[38;5;241;43m.\u001b[39;49m\u001b[43mget\u001b[49m\u001b[43m(\u001b[49m\u001b[38;5;28;43;01mFalse\u001b[39;49;00m\u001b[43m,\u001b[49m\u001b[43m \u001b[49m\u001b[43ms\u001b[49m\u001b[43m)\u001b[49m\n",
      "File \u001b[0;32m~/anaconda3/envs/research/lib/python3.10/site-packages/casadi/casadi.py:4856\u001b[0m, in \u001b[0;36mSX.get\u001b[0;34m(self, *args)\u001b[0m\n\u001b[1;32m   4846\u001b[0m \u001b[38;5;28;01mdef\u001b[39;00m \u001b[38;5;21mget\u001b[39m(\u001b[38;5;28mself\u001b[39m, \u001b[38;5;241m*\u001b[39margs) \u001b[38;5;241m-\u001b[39m\u001b[38;5;241m>\u001b[39m \u001b[38;5;124m\"\u001b[39m\u001b[38;5;124mvoid\u001b[39m\u001b[38;5;124m\"\u001b[39m:\n\u001b[1;32m   4847\u001b[0m     \u001b[38;5;124mr\u001b[39m\u001b[38;5;124;03m\"\"\"\u001b[39;00m\n\u001b[1;32m   4848\u001b[0m \u001b[38;5;124;03m    get(SX self, bool ind1, Slice rr)\u001b[39;00m\n\u001b[1;32m   4849\u001b[0m \u001b[38;5;124;03m    get(SX self, bool ind1, casadi::Matrix< casadi_int > const & rr)\u001b[39;00m\n\u001b[0;32m   (...)\u001b[0m\n\u001b[1;32m   4854\u001b[0m \u001b[38;5;124;03m    get(SX self, bool ind1, casadi::Matrix< casadi_int > const & rr, casadi::Matrix< casadi_int > const & cc)\u001b[39;00m\n\u001b[1;32m   4855\u001b[0m \u001b[38;5;124;03m    \"\"\"\u001b[39;00m\n\u001b[0;32m-> 4856\u001b[0m     \u001b[38;5;28;01mreturn\u001b[39;00m \u001b[43m_casadi\u001b[49m\u001b[38;5;241;43m.\u001b[39;49m\u001b[43mSX_get\u001b[49m\u001b[43m(\u001b[49m\u001b[38;5;28;43mself\u001b[39;49m\u001b[43m,\u001b[49m\u001b[43m \u001b[49m\u001b[38;5;241;43m*\u001b[39;49m\u001b[43margs\u001b[49m\u001b[43m)\u001b[49m\n",
      "\u001b[0;31mTypeError\u001b[0m: Wrong number or type of arguments for overloaded function 'SX_get'.\n  Possible C/C++ prototypes are:\n    casadi::Matrix< casadi::SXElem >::get(casadi::Matrix< casadi::SXElem > &,bool,casadi::Slice const &) const\n    casadi::Matrix< casadi::SXElem >::get(casadi::Matrix< casadi::SXElem > &,bool,casadi::Matrix< casadi_int > const &) const\n    casadi::Matrix< casadi::SXElem >::get(casadi::Matrix< casadi::SXElem > &,bool,casadi::Sparsity const &) const\n    casadi::Matrix< casadi::SXElem >::get(casadi::Matrix< casadi::SXElem > &,bool,casadi::Slice const &,casadi::Slice const &) const\n    casadi::Matrix< casadi::SXElem >::get(casadi::Matrix< casadi::SXElem > &,bool,casadi::Slice const &,casadi::Matrix< casadi_int > const &) const\n    casadi::Matrix< casadi::SXElem >::get(casadi::Matrix< casadi::SXElem > &,bool,casadi::Matrix< casadi_int > const &,casadi::Slice const &) const\n    casadi::Matrix< casadi::SXElem >::get(casadi::Matrix< casadi::SXElem > &,bool,casadi::Matrix< casadi_int > const &,casadi::Matrix< casadi_int > const &) const\n"
     ]
    }
   ],
   "source": [
    "n_x = 10\n",
    "\n",
    "\n",
    "\n",
    "Q = ca.SX(2, 2)\n",
    "rng_std = ca.SX.sym('rng_std')\n",
    "bearing_std = ca.SX.sym('bearing_std')\n",
    "Q[0, 0] = rng_std**2\n",
    "Q[1, 1] = bearing_std**2\n",
    "Q_I = ca.inv(Q)\n",
    "\n",
    "R = ca.SX(2, 2)\n",
    "odom_x_cov = ca.SX.sym('odom_x_cov')\n",
    "odom_y_cov = ca.SX.sym('odom_y_cov')\n",
    "R[0, 0] = odom_x_cov**2\n",
    "R[1, 1] = odom_y_cov**2\n",
    "R_I = ca.inv(R)\n",
    "\n",
    "J = 0\n",
    "\n",
    "x = ca.SX.sym('x', n_x, 2)\n",
    "x_prev = ca.vertcat(*([ x[0, :] ] + [ x[i, :] for i in range(n_x-1) ]))\n",
    "u = ca.SX.sym('u', n_x, 2)\n",
    "\n",
    "odom = np.zeros((n_x, 2), dtype=float)\n",
    "\n",
    "n_m = 10\n",
    "meas = np.zeros((n_m, 2), dtype=float)\n",
    "\n",
    "x_meas = ca.SX.sym('x_meas', n_m) # which state the measurement occurred at\n",
    "assoc = np.zeros((n_m, 1), dtype=int) # which landmark each measurement corresponds to\n",
    "\n",
    "n_l = 3\n",
    "landmarks = ca.SX.sym('landmarks', n_l)\n",
    "\n",
    "for i in range(n_x):\n",
    "    odom_pred = x[i] - x_prev[i]\n",
    "    e_x = odom[i] - odom_pred\n",
    "    J += e_x.T@R_I@e_x\n",
    "    \n",
    "for j in range(n_m):\n",
    "    rng = meas[j, 0]  # measurement\n",
    "    bearing = meas[j, 1]\n",
    "    m = landmarks[assoc[j]]  # landmark\n",
    "    x = x[x_meas[j]]  # state measurement occurred at\n",
    "    \n",
    "    dm = m - x\n",
    "    \n",
    "    rng_pred = ca.norm_2(dm)\n",
    "    bearing_pred = ca.arctan2(dm[1], dm[0])\n",
    "\n",
    "J"
   ]
  },
  {
   "cell_type": "code",
   "execution_count": 394,
   "id": "337ecc71-2ca9-40ec-8ec7-1baf11bb6178",
   "metadata": {},
   "outputs": [
    {
     "ename": "TypeError",
     "evalue": "Wrong number or type of arguments for overloaded function 'SX_get'.\n  Possible C/C++ prototypes are:\n    casadi::Matrix< casadi::SXElem >::get(casadi::Matrix< casadi::SXElem > &,bool,casadi::Slice const &) const\n    casadi::Matrix< casadi::SXElem >::get(casadi::Matrix< casadi::SXElem > &,bool,casadi::Matrix< casadi_int > const &) const\n    casadi::Matrix< casadi::SXElem >::get(casadi::Matrix< casadi::SXElem > &,bool,casadi::Sparsity const &) const\n    casadi::Matrix< casadi::SXElem >::get(casadi::Matrix< casadi::SXElem > &,bool,casadi::Slice const &,casadi::Slice const &) const\n    casadi::Matrix< casadi::SXElem >::get(casadi::Matrix< casadi::SXElem > &,bool,casadi::Slice const &,casadi::Matrix< casadi_int > const &) const\n    casadi::Matrix< casadi::SXElem >::get(casadi::Matrix< casadi::SXElem > &,bool,casadi::Matrix< casadi_int > const &,casadi::Slice const &) const\n    casadi::Matrix< casadi::SXElem >::get(casadi::Matrix< casadi::SXElem > &,bool,casadi::Matrix< casadi_int > const &,casadi::Matrix< casadi_int > const &) const\n",
     "output_type": "error",
     "traceback": [
      "\u001b[0;31m---------------------------------------------------------------------------\u001b[0m",
      "\u001b[0;31mTypeError\u001b[0m                                 Traceback (most recent call last)",
      "Input \u001b[0;32mIn [394]\u001b[0m, in \u001b[0;36m<cell line: 2>\u001b[0;34m()\u001b[0m\n\u001b[1;32m      1\u001b[0m i \u001b[38;5;241m=\u001b[39m ca\u001b[38;5;241m.\u001b[39mSX\u001b[38;5;241m.\u001b[39msym(\u001b[38;5;124m'\u001b[39m\u001b[38;5;124mi\u001b[39m\u001b[38;5;124m'\u001b[39m)\n\u001b[0;32m----> 2\u001b[0m \u001b[43mmeas\u001b[49m\u001b[43m[\u001b[49m\u001b[43mi\u001b[49m\u001b[43m,\u001b[49m\u001b[43m \u001b[49m\u001b[43m:\u001b[49m\u001b[43m]\u001b[49m\n",
      "File \u001b[0;32m~/anaconda3/envs/research/lib/python3.10/site-packages/casadi/casadi.py:5475\u001b[0m, in \u001b[0;36mSX.__getitem__\u001b[0;34m(self, s)\u001b[0m\n\u001b[1;32m   5473\u001b[0m \u001b[38;5;28;01mif\u001b[39;00m \u001b[38;5;28misinstance\u001b[39m(s, \u001b[38;5;28mtuple\u001b[39m) \u001b[38;5;129;01mand\u001b[39;00m \u001b[38;5;28mlen\u001b[39m(s)\u001b[38;5;241m==\u001b[39m\u001b[38;5;241m2\u001b[39m:\n\u001b[1;32m   5474\u001b[0m   \u001b[38;5;28;01mif\u001b[39;00m s[\u001b[38;5;241m1\u001b[39m] \u001b[38;5;129;01mis\u001b[39;00m \u001b[38;5;28;01mNone\u001b[39;00m: \u001b[38;5;28;01mraise\u001b[39;00m \u001b[38;5;167;01mTypeError\u001b[39;00m(\u001b[38;5;124m\"\u001b[39m\u001b[38;5;124mCannot slice with None\u001b[39m\u001b[38;5;124m\"\u001b[39m)\n\u001b[0;32m-> 5475\u001b[0m   \u001b[38;5;28;01mreturn\u001b[39;00m \u001b[38;5;28;43mself\u001b[39;49m\u001b[38;5;241;43m.\u001b[39;49m\u001b[43mget\u001b[49m\u001b[43m(\u001b[49m\u001b[38;5;28;43;01mFalse\u001b[39;49;00m\u001b[43m,\u001b[49m\u001b[43m \u001b[49m\u001b[43ms\u001b[49m\u001b[43m[\u001b[49m\u001b[38;5;241;43m0\u001b[39;49m\u001b[43m]\u001b[49m\u001b[43m,\u001b[49m\u001b[43m \u001b[49m\u001b[43ms\u001b[49m\u001b[43m[\u001b[49m\u001b[38;5;241;43m1\u001b[39;49m\u001b[43m]\u001b[49m\u001b[43m)\u001b[49m\n\u001b[1;32m   5476\u001b[0m \u001b[38;5;28;01mreturn\u001b[39;00m \u001b[38;5;28mself\u001b[39m\u001b[38;5;241m.\u001b[39mget(\u001b[38;5;28;01mFalse\u001b[39;00m, s)\n",
      "File \u001b[0;32m~/anaconda3/envs/research/lib/python3.10/site-packages/casadi/casadi.py:4856\u001b[0m, in \u001b[0;36mSX.get\u001b[0;34m(self, *args)\u001b[0m\n\u001b[1;32m   4846\u001b[0m \u001b[38;5;28;01mdef\u001b[39;00m \u001b[38;5;21mget\u001b[39m(\u001b[38;5;28mself\u001b[39m, \u001b[38;5;241m*\u001b[39margs) \u001b[38;5;241m-\u001b[39m\u001b[38;5;241m>\u001b[39m \u001b[38;5;124m\"\u001b[39m\u001b[38;5;124mvoid\u001b[39m\u001b[38;5;124m\"\u001b[39m:\n\u001b[1;32m   4847\u001b[0m     \u001b[38;5;124mr\u001b[39m\u001b[38;5;124;03m\"\"\"\u001b[39;00m\n\u001b[1;32m   4848\u001b[0m \u001b[38;5;124;03m    get(SX self, bool ind1, Slice rr)\u001b[39;00m\n\u001b[1;32m   4849\u001b[0m \u001b[38;5;124;03m    get(SX self, bool ind1, casadi::Matrix< casadi_int > const & rr)\u001b[39;00m\n\u001b[0;32m   (...)\u001b[0m\n\u001b[1;32m   4854\u001b[0m \u001b[38;5;124;03m    get(SX self, bool ind1, casadi::Matrix< casadi_int > const & rr, casadi::Matrix< casadi_int > const & cc)\u001b[39;00m\n\u001b[1;32m   4855\u001b[0m \u001b[38;5;124;03m    \"\"\"\u001b[39;00m\n\u001b[0;32m-> 4856\u001b[0m     \u001b[38;5;28;01mreturn\u001b[39;00m \u001b[43m_casadi\u001b[49m\u001b[38;5;241;43m.\u001b[39;49m\u001b[43mSX_get\u001b[49m\u001b[43m(\u001b[49m\u001b[38;5;28;43mself\u001b[39;49m\u001b[43m,\u001b[49m\u001b[43m \u001b[49m\u001b[38;5;241;43m*\u001b[39;49m\u001b[43margs\u001b[49m\u001b[43m)\u001b[49m\n",
      "\u001b[0;31mTypeError\u001b[0m: Wrong number or type of arguments for overloaded function 'SX_get'.\n  Possible C/C++ prototypes are:\n    casadi::Matrix< casadi::SXElem >::get(casadi::Matrix< casadi::SXElem > &,bool,casadi::Slice const &) const\n    casadi::Matrix< casadi::SXElem >::get(casadi::Matrix< casadi::SXElem > &,bool,casadi::Matrix< casadi_int > const &) const\n    casadi::Matrix< casadi::SXElem >::get(casadi::Matrix< casadi::SXElem > &,bool,casadi::Sparsity const &) const\n    casadi::Matrix< casadi::SXElem >::get(casadi::Matrix< casadi::SXElem > &,bool,casadi::Slice const &,casadi::Slice const &) const\n    casadi::Matrix< casadi::SXElem >::get(casadi::Matrix< casadi::SXElem > &,bool,casadi::Slice const &,casadi::Matrix< casadi_int > const &) const\n    casadi::Matrix< casadi::SXElem >::get(casadi::Matrix< casadi::SXElem > &,bool,casadi::Matrix< casadi_int > const &,casadi::Slice const &) const\n    casadi::Matrix< casadi::SXElem >::get(casadi::Matrix< casadi::SXElem > &,bool,casadi::Matrix< casadi_int > const &,casadi::Matrix< casadi_int > const &) const\n"
     ]
    }
   ],
   "source": [
    "i = ca.SX.sym('i')\n",
    "meas[i, :]"
   ]
  },
  {
   "cell_type": "code",
   "execution_count": 381,
   "id": "5371a5d5-eeff-4e53-ab6e-ad41878b4e3b",
   "metadata": {},
   "outputs": [
    {
     "data": {
      "text/plain": [
       "Function(jac_J:(i0[10x2],i1[10x2],i2[10x2],i3[10x2],i4[10],out_o0[2x2,0nz])->(jac[4x90,40nz]) SXFunction)"
      ]
     },
     "execution_count": 381,
     "metadata": {},
     "output_type": "execute_result"
    }
   ],
   "source": [
    "f_J = ca.Function('J', [x, u, odom, meas, assoc], [J])\n",
    "f_J.jacobian()"
   ]
  },
  {
   "cell_type": "code",
   "execution_count": 319,
   "id": "9fb65f6a-6dee-4105-8f18-c370b44f0850",
   "metadata": {},
   "outputs": [
    {
     "ename": "NameError",
     "evalue": "name 'hist' is not defined",
     "output_type": "error",
     "traceback": [
      "\u001b[0;31m---------------------------------------------------------------------------\u001b[0m",
      "\u001b[0;31mNameError\u001b[0m                                 Traceback (most recent call last)",
      "Input \u001b[0;32mIn [319]\u001b[0m, in \u001b[0;36m<cell line: 2>\u001b[0;34m()\u001b[0m\n\u001b[1;32m      1\u001b[0m \u001b[38;5;66;03m# compute measurement cost\u001b[39;00m\n\u001b[0;32m----> 2\u001b[0m meas_list \u001b[38;5;241m=\u001b[39m \u001b[43mhist\u001b[49m[\u001b[38;5;124m'\u001b[39m\u001b[38;5;124mmeas\u001b[39m\u001b[38;5;124m'\u001b[39m][i]\n\u001b[1;32m      3\u001b[0m n_m \u001b[38;5;241m=\u001b[39m \u001b[38;5;28mlen\u001b[39m(meas_list)\n\u001b[1;32m      4\u001b[0m z_i \u001b[38;5;241m=\u001b[39m measure_landmarks(x_graph[i], landmarks)\n",
      "\u001b[0;31mNameError\u001b[0m: name 'hist' is not defined"
     ]
    }
   ],
   "source": [
    "        # compute measurement cost\n",
    "        meas_list = hist['meas'][i]\n",
    "        n_m = len(meas_list)\n",
    "        z_i = measure_landmarks(x_graph[i], landmarks)\n",
    "        for j in range(n_m):\n",
    "            z_ij = meas_list[j]\n",
    "            c_ij = data_association(x_graph[i], z_ij, landmarks)\n",
    "            z_ij_predicted = h(x_graph[i], landmarks[c_ij])\n",
    "            e_z = np.array(z_ij) - np.array(z_ij_predicted)\n",
    "            J += e_z.T@Q_I@e_z"
   ]
  },
  {
   "cell_type": "code",
   "execution_count": null,
   "id": "301b1370-d208-44a3-a6cd-4b84c3d52e65",
   "metadata": {},
   "outputs": [],
   "source": []
  }
 ],
 "metadata": {
  "kernelspec": {
   "display_name": "Python 3 (ipykernel)",
   "language": "python",
   "name": "python3"
  },
  "language_info": {
   "codemirror_mode": {
    "name": "ipython",
    "version": 3
   },
   "file_extension": ".py",
   "mimetype": "text/x-python",
   "name": "python",
   "nbconvert_exporter": "python",
   "pygments_lexer": "ipython3",
   "version": "3.10.5"
  }
 },
 "nbformat": 4,
 "nbformat_minor": 5
}
