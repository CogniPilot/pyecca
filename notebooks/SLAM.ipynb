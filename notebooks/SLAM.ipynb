{
 "cells": [
  {
   "cell_type": "code",
   "execution_count": 4,
   "id": "141942c9-b10a-43f6-a4ef-6a0d3f9c214f",
   "metadata": {},
   "outputs": [],
   "source": [
    "import matplotlib.pyplot as plt\n",
    "import numpy as np"
   ]
  },
  {
   "cell_type": "markdown",
   "id": "da257791-734f-43b1-8624-a17dbe1428f5",
   "metadata": {},
   "source": [
    "# Graph SLAM Problem\n",
    "\n",
    "$\\min J(x_i) = x_0^T\\Omega_0 x_0 + \\sum_t e_t R_t^{-1} e_t  + \\sum_t \\sum_i \\tilde{z}^i_t  Q_t^{-1} \\tilde{z}^i_t \\$"
   ]
  },
  {
   "cell_type": "markdown",
   "id": "e47ff02f-b2a2-49d3-be8c-8875f205d328",
   "metadata": {},
   "source": [
    "$ e_t \\equiv x_t - g(u_t, x_{t-1})$ prediction error at time t"
   ]
  },
  {
   "cell_type": "markdown",
   "id": "f5ffa739-7a31-4758-af00-56de43ee9a1a",
   "metadata": {},
   "source": [
    "$\\tilde{z}^i_t \\equiv z^i_t - h(x_t, m^i_t)$ measurement error"
   ]
  },
  {
   "cell_type": "markdown",
   "id": "80b434b0-9b94-44c8-bf88-a08938ba9f93",
   "metadata": {},
   "source": [
    "$\\dot{p_x} = v_x$\n",
    "\n",
    "$\\dot{p_y} = v_y$\n",
    "\n",
    "$x_t = \\begin{bmatrix} p_x \\\\ p_y \\end{bmatrix}$\n",
    "$u_t = \\begin{bmatrix} v_x \\\\ v_y \\end{bmatrix}$\n",
    "\n",
    "$x_t = x_{t-1} + \\Delta_t u_t $"
   ]
  },
  {
   "cell_type": "markdown",
   "id": "844d1368-5c4d-4aab-9909-b2b43d83deae",
   "metadata": {},
   "source": [
    "$g(u_t, x_t{-1}) = x_{t-1}  + \\Delta_t u_t$"
   ]
  },
  {
   "cell_type": "markdown",
   "id": "e2efebbd-387a-4f88-99da-904ab0ea8f36",
   "metadata": {},
   "source": [
    "Landmarks are points. And our measurement is relative position."
   ]
  },
  {
   "cell_type": "code",
   "execution_count": 22,
   "id": "003e5c17-a799-4011-a35c-8ac0c2788a9a",
   "metadata": {},
   "outputs": [],
   "source": [
    "def g(x, u, dt):\n",
    "    \"prediction\"\n",
    "    return x + u*dt\n",
    "\n",
    "def h(x, m):\n",
    "    \"measurement\"\n",
    "    return m - x\n",
    "\n",
    "def data_association(x, z, landmarks):\n",
    "    z_expected = landmarks - x\n",
    "    z_error = z - z_expected\n",
    "    dist = np.linalg.norm(z_error, axis=1)\n",
    "    i = np.argmin(dist)\n",
    "    return i\n",
    "\n",
    "def measure(x, landmarks):\n",
    "    z_list = []\n",
    "    for m in landmarks:\n",
    "        #print(np.linalg.norm(m - x))\n",
    "        if np.linalg.norm(m - x) < 3:\n",
    "            z_list.append(m - x)\n",
    "    return z_list"
   ]
  },
  {
   "cell_type": "code",
   "execution_count": 23,
   "id": "b5957f16-e16e-4e3c-bb68-00cb04eadc2d",
   "metadata": {},
   "outputs": [
    {
     "name": "stdout",
     "output_type": "stream",
     "text": [
      "saw landmark 0 at time 0.000000\n",
      "saw landmark 0 at time 1.000000\n",
      "saw landmark 0 at time 2.000000\n",
      "saw landmark 1 at time 3.000000\n",
      "saw landmark 1 at time 4.000000\n",
      "saw landmark 1 at time 5.000000\n"
     ]
    },
    {
     "data": {
      "text/plain": [
       "<matplotlib.legend.Legend at 0x7f431d07fe90>"
      ]
     },
     "execution_count": 23,
     "metadata": {},
     "output_type": "execute_result"
    },
    {
     "data": {
      "image/png": "[encoded data removed]",
      "text/plain": [
       "<Figure size 640x480 with 1 Axes>"
      ]
     },
     "metadata": {},
     "output_type": "display_data"
    }
   ],
   "source": [
    "x = np.array([0, 0])\n",
    "u = np.array([1, 1])\n",
    "dt = 1\n",
    "landmarks = np.array([\n",
    "    [1, 3],\n",
    "    [4, 6],\n",
    "    [9, 1]\n",
    "])\n",
    "\n",
    "hist = {\n",
    "    'x': [],\n",
    "    'u': []\n",
    "}\n",
    "\n",
    "for i in range(10):\n",
    "    t = dt*i\n",
    "    x = g(x, u, dt) # predict\n",
    "    # measure\n",
    "    z_list = measure(x, landmarks)\n",
    "    \n",
    "    for z in z_list:\n",
    "        i = data_association(x, z, landmarks)\n",
    "        print('saw landmark {:d} at time {:f}'.format(i, t))\n",
    "        \n",
    "    hist['x'].append(x)\n",
    "    hist['u'].append(u)\n",
    "\n",
    "for key in hist.keys():\n",
    "    hist[key] = np.array(hist[key])\n",
    "    \n",
    "    \n",
    "plt.figure(1)\n",
    "plt.plot(landmarks[:, 0], landmarks[:, 1], 'bo', label='landmarks')\n",
    "plt.axis([0, 10, 0, 10])\n",
    "plt.grid()\n",
    "plt.plot(hist['x'][:, 0], hist['x'][:, 1], 'r.-', label='states')\n",
    "plt.legend()"
   ]
  }
 ],
 "metadata": {
  "kernelspec": {
   "display_name": "Python 3 (ipykernel)",
   "language": "python",
   "name": "python3"
  },
  "language_info": {
   "codemirror_mode": {
    "name": "ipython",
    "version": 3
   },
   "file_extension": ".py",
   "mimetype": "text/x-python",
   "name": "python",
   "nbconvert_exporter": "python",
   "pygments_lexer": "ipython3",
   "version": "3.10.5"
  }
 },
 "nbformat": 4,
 "nbformat_minor": 5
}
