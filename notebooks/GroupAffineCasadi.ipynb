{
 "cells": [
  {
   "cell_type": "markdown",
   "metadata": {},
   "source": [
    "Casadi is great at building equation graphs, but it is horrible at simplification. Trying to check if a system is group affine is one example of where it is lacking."
   ]
  },
  {
   "cell_type": "code",
   "execution_count": 6,
   "metadata": {},
   "outputs": [],
   "source": [
    "import casadi as ca\n",
    "from casadi.tools.graph import graph\n",
    "import matplotlib.image as mpimg\n",
    "from io import BytesIO\n",
    "import matplotlib.pyplot as plt\n",
    "import os\n",
    "from IPython.display import Image\n",
    "\n",
    "\n",
    "def draw_graph(x):\n",
    "    g = graph.dotgraph(x)\n",
    "    #g.set('dpi', 300)\n",
    "    png = g.create('dot', 'png')\n",
    "    return Image(png)"
   ]
  },
  {
   "cell_type": "code",
   "execution_count": 7,
   "metadata": {},
   "outputs": [],
   "source": [
    "expr = ca.SX\n",
    "\n",
    "def g(name):\n",
    "    R = expr.sym('R' + name, 3, 3)\n",
    "    v = expr.sym('v' + name, 3, 1)\n",
    "    x = expr.sym('x' + name, 3, 1)\n",
    "    X = ca.diagcat(R, 1, 1)\n",
    "    X[:3, 3] = v\n",
    "    X[:3, 4] = x\n",
    "    return X, R, v, x\n",
    "\n",
    "def skew(x):\n",
    "    M = expr(3, 3)\n",
    "    M[0, 1] = -x[2]\n",
    "    M[0, 2] = x[1]\n",
    "    M[1, 0] = x[2]\n",
    "    M[1, 2] = -x[0]\n",
    "    M[2, 0] = -x[1]\n",
    "    M[2, 1] = x[0]\n",
    "    return M\n",
    "\n",
    "def f(X, u):\n",
    "    g = expr(3, 1)\n",
    "    g[2] = u[6]\n",
    "    Omega = skew(u[0:3])\n",
    "    a = u[3:6]\n",
    "    R = X[0:3, 0:3]\n",
    "    v = X[:3, 3]\n",
    "    x = X[:3, 4]\n",
    "    dX = expr(5, 5)\n",
    "    dX[0:3, 0:3] = ca.mtimes(R, Omega)\n",
    "    dX[:3, 3] = ca.mtimes(R, a) + g\n",
    "    dX[:3, 4] = v\n",
    "    return dX"
   ]
  },
  {
   "cell_type": "code",
   "execution_count": 8,
   "metadata": {},
   "outputs": [],
   "source": [
    "g_a, R_a, v_a, x_a = g('a')\n",
    "g_b, R_b, v_b, x_b = g('b')\n",
    "g_I = expr.eye(5)\n",
    "omega = expr.sym('omega', 3)\n",
    "a = expr.sym('a', 3)\n",
    "g = expr.sym('g')\n",
    "u = ca.vertcat(omega, a, g)\n",
    "res = ca.mtimes(f(g_a, u), g_b) + ca.mtimes(g_a, f(g_b, u)) - ca.mtimes([g_a, f(g_I, u), g_b]) - f(ca.mtimes(g_a, g_b), u)"
   ]
  },
  {
   "cell_type": "markdown",
   "metadata": {},
   "source": [
    "Casadi cannot determine symbollically that the equation graphs are equivalent"
   ]
  },
  {
   "cell_type": "code",
   "execution_count": 9,
   "metadata": {},
   "outputs": [
    {
     "data": {
      "text/plain": [
       "False"
      ]
     },
     "execution_count": 9,
     "metadata": {},
     "output_type": "execute_result"
    }
   ],
   "source": [
    "x = ca.mtimes(f(g_a, u), g_b)  + ca.mtimes(g_a, f(g_b, u)) - ca.mtimes([g_a, f(g_I, u), g_b])\n",
    "y = f(ca.mtimes(g_a, g_b), u)\n",
    "ca.is_equal(ca.simplify(x), ca.simplify(y), 100)"
   ]
  },
  {
   "cell_type": "markdown",
   "metadata": {},
   "source": [
    "We can however check numerically."
   ]
  },
  {
   "cell_type": "code",
   "execution_count": 10,
   "metadata": {},
   "outputs": [
    {
     "data": {
      "text/plain": [
       "True"
      ]
     },
     "execution_count": 10,
     "metadata": {},
     "output_type": "execute_result"
    }
   ],
   "source": [
    "f_X = ca.Function('x', [R_a, v_a, x_a, R_b, v_b, x_b, u], [x])\n",
    "f_Y = ca.Function('y', [R_a, v_a, x_a, R_b, v_b, x_b, u], [y])\n",
    "\n",
    "import numpy as np\n",
    "from numpy.random import randn\n",
    "R_av = randn(3, 3)\n",
    "v_av = randn(3, 1)\n",
    "x_av = randn(3, 1)\n",
    "R_bv = randn(3, 3)\n",
    "v_bv = randn(3, 1)\n",
    "x_bv = randn(3, 1)\n",
    "uv = randn(7, 1)\n",
    "group_affine = bool(ca.norm_fro(f_X(R_av, v_av, x_av, R_bv, v_bv, x_bv, uv) - f_Y(R_av, v_av, x_av, R_bv, v_bv, x_bv, uv)) < 1e-5)\n",
    "group_affine"
   ]
  }
 ],
 "metadata": {
  "kernelspec": {
   "display_name": "Python 3",
   "language": "python",
   "name": "python3"
  },
  "language_info": {
   "codemirror_mode": {
    "name": "ipython",
    "version": 3
   },
   "file_extension": ".py",
   "mimetype": "text/x-python",
   "name": "python",
   "nbconvert_exporter": "python",
   "pygments_lexer": "ipython3",
   "version": "3.6.5"
  }
 },
 "nbformat": 4,
 "nbformat_minor": 2
}
