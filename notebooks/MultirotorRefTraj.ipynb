{
 "cells": [
  {
   "cell_type": "markdown",
   "metadata": {},
   "source": [
    "# Multirotor Reference Trajectory"
   ]
  },
  {
   "cell_type": "code",
   "execution_count": 1,
   "metadata": {},
   "outputs": [],
   "source": [
    "%load_ext autoreload\n",
    "%autoreload 2\n",
    "import sys\n",
    "from pathlib import Path\n",
    "\n",
    "sys.path.insert(0, \"..\")"
   ]
  },
  {
   "cell_type": "code",
   "execution_count": 2,
   "metadata": {},
   "outputs": [],
   "source": [
    "from pyecca.control.multirotor_ref_traj import C_be, omega_eb_b, omega_dot_eb_b, M_b\n",
    "from pyecca.casadi_graph_fix import draw_casadi\n",
    "\n",
    "outdir = Path('./fig/multirotor_ref_traj')\n",
    "outdir.mkdir(parents=True, exist_ok=True)\n",
    "\n",
    "for expr in ['C_be', 'omega_eb_b', 'omega_dot_eb_b', 'M_b']:\n",
    "    draw_casadi(locals()[expr], outdir / f'{expr}.png')"
   ]
  },
  {
   "attachments": {},
   "cell_type": "markdown",
   "metadata": {},
   "source": [
    "### C_be\n",
    "\n",
    "![test](fig/multirotor_ref_traj/C_be.png)\n",
    "\n",
    "### omega_eb_b\n",
    "\n",
    "![test](fig/multirotor_ref_traj/omega_eb_b.png)\n",
    "\n",
    "### omega_dot_eb_b\n",
    "\n",
    "![test](fig/multirotor_ref_traj/omega_dot_eb_b.png)\n",
    "\n",
    "### M_b\n",
    "\n",
    "![test](fig/multirotor_ref_traj/M_b.png)"
   ]
  },
  {
   "attachments": {},
   "cell_type": "markdown",
   "metadata": {},
   "source": [
    "## Code Generation"
   ]
  },
  {
   "cell_type": "code",
   "execution_count": 3,
   "metadata": {},
   "outputs": [],
   "source": [
    "from pyecca.control.multirotor_ref_traj import f_ref"
   ]
  },
  {
   "cell_type": "code",
   "execution_count": 4,
   "metadata": {},
   "outputs": [
    {
     "name": "stdout",
     "output_type": "stream",
     "text": [
      "35 µs ± 36.1 ns per loop (mean ± std. dev. of 7 runs, 10,000 loops each)\n"
     ]
    }
   ],
   "source": [
    "%%timeit\n",
    "res = f_ref(1, 0, 0, [1, 1, 1], [1, 1, 1], [1, 1, 1], [1, 1, 1], 1, 9.8, 1, 1, 1, 0)"
   ]
  }
 ],
 "metadata": {
  "kernelspec": {
   "display_name": "pyecca",
   "language": "python",
   "name": "python3"
  },
  "language_info": {
   "codemirror_mode": {
    "name": "ipython",
    "version": 3
   },
   "file_extension": ".py",
   "mimetype": "text/x-python",
   "name": "python",
   "nbconvert_exporter": "python",
   "pygments_lexer": "ipython3",
   "version": "3.10.6 (main, Nov 14 2022, 16:10:14) [GCC 11.3.0]"
  },
  "vscode": {
   "interpreter": {
    "hash": "ada48a88b30eb6f4ce0095d7ea02eab09f2abe756ddb188cd7215f6ee0ee8358"
   }
  }
 },
 "nbformat": 4,
 "nbformat_minor": 4
}
