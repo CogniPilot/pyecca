{
 "cells": [
  {
   "cell_type": "code",
   "execution_count": 3,
   "id": "9c25da68-2d1a-4932-a09a-7df536232dba",
   "metadata": {},
   "outputs": [],
   "source": [
    "from casadi import *"
   ]
  },
  {
   "cell_type": "code",
   "execution_count": 24,
   "id": "396bdd3d-5fb4-477d-89dd-edd2aea262b9",
   "metadata": {},
   "outputs": [
    {
     "data": {
      "text/plain": [
       "[[0],\n",
       " [0],\n",
       " [0],\n",
       " [SX(((v0/w0)*sin((w0*dt))))],\n",
       " [SX(((v0/w0)-((v0/w0)*cos((w0*dt)))))],\n",
       " [SX((w0*dt))],\n",
       " [SX(((v1/w1)*sin((w1*dt))))],\n",
       " [SX(((v1/w1)-((v1/w1)*cos((w1*dt)))))],\n",
       " [SX((w1*dt))],\n",
       " [SX(((v2/w2)*sin((w2*dt))))],\n",
       " [SX(((v2/w2)-((v2/w2)*cos((w2*dt)))))],\n",
       " [SX((w2*dt))]]"
      ]
     },
     "execution_count": 24,
     "metadata": {},
     "output_type": "execute_result"
    }
   ],
   "source": [
    "mux = SX.sym('mux')\n",
    "muy = SX.sym('muy')\n",
    "mut = SX.sym('mut')\n",
    "dt = SX.sym('dt')\n",
    "v0 = SX.sym('v0')\n",
    "v1 = SX.sym('v1')\n",
    "v2 = SX.sym('v2')\n",
    "w0 = SX.sym('w0')\n",
    "w1 = SX.sym('w1')\n",
    "w2 = SX.sym('w2')\n",
    "\n",
    "omega = SX.sym('omega')\n",
    "nu = SX.sym('nu')\n",
    "\n",
    "mu=[[0],[0],[0]]\n",
    "numinputs=3\n",
    "controls = [[v0,w0],[v1,w1],[v2,w2]]\n",
    "for j in range(numinputs):\n",
    "    mutemp=[[-controls[j][0]/controls[j][1]*sin(mu[2])+controls[j][0]/controls[j][1]*sin(mu[2]+controls[j][1]*dt)],\n",
    "            [controls[j][0]/controls[j][1]*cos(mu[2])-controls[j][0]/controls[j][1]*cos(mu[2]+controls[j][1]*dt)],\n",
    "            [controls[j][1]*dt]]\n",
    "    mu=mu+mutemp\n",
    "\n",
    "mu\n"
   ]
  },
  {
   "cell_type": "code",
   "execution_count": null,
   "id": "b9e388af-692a-4852-aa97-dbe69cc833a1",
   "metadata": {},
   "outputs": [],
   "source": []
  }
 ],
 "metadata": {
  "kernelspec": {
   "display_name": "Python 3 (ipykernel)",
   "language": "python",
   "name": "python3"
  },
  "language_info": {
   "codemirror_mode": {
    "name": "ipython",
    "version": 3
   },
   "file_extension": ".py",
   "mimetype": "text/x-python",
   "name": "python",
   "nbconvert_exporter": "python",
   "pygments_lexer": "ipython3",
   "version": "3.7.12"
  }
 },
 "nbformat": 4,
 "nbformat_minor": 5
}
